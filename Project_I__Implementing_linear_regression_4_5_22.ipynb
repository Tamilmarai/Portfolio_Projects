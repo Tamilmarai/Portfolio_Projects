{
  "cells": [
    {
      "cell_type": "markdown",
      "metadata": {
        "id": "view-in-github",
        "colab_type": "text"
      },
      "source": [
        "<a href=\"https://colab.research.google.com/github/Tamilmarai/Portfolio_Projects/blob/main/Project_I__Implementing_linear_regression_4_5_22.ipynb\" target=\"_parent\"><img src=\"https://colab.research.google.com/assets/colab-badge.svg\" alt=\"Open In Colab\"/></a>"
      ]
    },
    {
      "cell_type": "markdown",
      "metadata": {
        "id": "rhERAIZ-gD_a"
      },
      "source": [
        "# Project - I"
      ]
    },
    {
      "cell_type": "markdown",
      "metadata": {
        "id": "TP1CJtYU2kQY"
      },
      "source": [
        "## Linear Regression \n",
        "In this implementation, we will be looking at the following the steps as follows:\n",
        "\n",
        "1.    Importing Libraries and Dataset\n",
        "2.    Scaling the dataset\n",
        "3.    Checking Multicollinearity and removing it\n",
        "4.    Creating test and training partitions\n",
        "5.    Implementing the Linear Regression model\n",
        "6.    Generating predictions over the test set\n",
        "7.    Evaluating the model\n",
        "8.    Preparing the Residual plot.\n",
        "9.    Checking the Assumptions of Linear Regression.\n",
        "10.   Visualising the Coefficient plot\n"
      ]
    },
    {
      "cell_type": "code",
      "execution_count": null,
      "metadata": {
        "id": "4cQCuMJg2wX7"
      },
      "outputs": [],
      "source": [
        ""
      ]
    },
    {
      "cell_type": "markdown",
      "metadata": {
        "id": "U9vvcOKofldW"
      },
      "source": [
        "##Problem Statement\n",
        "\n",
        "The data (given below) contains the selling prices of different houses based on different characteristics/attributes like area, no. of rooms, no. of bathrooms, etc.\n",
        "\n",
        "At times, the property dealers appreciate the prices based on the demand and hence there is rise in prices in real estate. So, in order to cope with this problem so that it is beneficial for the customers, we must have a model in place which should tell us the ideal prices of the house based on its characteristics.\n",
        "\n",
        "The objective of the study is to predict the ideal prices of the houses based on their characteristics using a regression algorithm."
      ]
    },
    {
      "cell_type": "code",
      "execution_count": null,
      "metadata": {
        "colab": {
          "base_uri": "https://localhost:8080/"
        },
        "id": "YhSKmuBaeqrd",
        "outputId": "48b56772-58d7-4246-a669-0eccb024c1b9"
      },
      "outputs": [
        {
          "output_type": "stream",
          "name": "stdout",
          "text": [
            "Drive already mounted at /content/drive; to attempt to forcibly remount, call drive.mount(\"/content/drive\", force_remount=True).\n"
          ]
        }
      ],
      "source": [
        "from google.colab import drive\n",
        "drive.mount('/content/drive')"
      ]
    },
    {
      "cell_type": "code",
      "execution_count": null,
      "metadata": {
        "id": "GJIQgW_S3EYv"
      },
      "outputs": [],
      "source": [
        ""
      ]
    },
    {
      "cell_type": "markdown",
      "metadata": {
        "id": "lThz_1-_28o3"
      },
      "source": [
        "# Importing Libraries and dataset"
      ]
    },
    {
      "cell_type": "markdown",
      "metadata": {
        "id": "gxGuJpPYgCDc"
      },
      "source": [
        ""
      ]
    },
    {
      "cell_type": "code",
      "execution_count": null,
      "metadata": {
        "id": "bGMZc7rzfaFg"
      },
      "outputs": [],
      "source": [
        "import pandas as pd                    # For reading files into DataFrame and such.\n",
        "import numpy as np                     # For mathematical calculations \n",
        "import seaborn as sns                  # For data visualization \n",
        "import matplotlib.pyplot as plt  # For plotting graphs \n",
        "%matplotlib inline \n",
        "import warnings   # To ignore any warnings \n",
        "warnings.filterwarnings(\"ignore\")"
      ]
    },
    {
      "cell_type": "code",
      "execution_count": null,
      "metadata": {
        "colab": {
          "base_uri": "https://localhost:8080/",
          "height": 523
        },
        "id": "shjDujeFfaCp",
        "outputId": "d7ab331d-750d-4962-8857-1dbcf0557ccc"
      },
      "outputs": [
        {
          "output_type": "execute_result",
          "data": {
            "text/plain": [
              "           ID Date House was Sold  Sale Price  No of Bedrooms  \\\n",
              "0  7129300520     14 October 2017    221900.0               3   \n",
              "1  6414100192    14 December 2017    538000.0               3   \n",
              "2  5631500400    15 February 2016    180000.0               2   \n",
              "3  2487200875    14 December 2017    604000.0               4   \n",
              "4  1954400510    15 February 2016    510000.0               3   \n",
              "\n",
              "   No of Bathrooms  Flat Area (in Sqft)  Lot Area (in Sqft)  No of Floors  \\\n",
              "0             1.00               1180.0              5650.0           1.0   \n",
              "1             2.25               2570.0              7242.0           2.0   \n",
              "2             1.00                770.0             10000.0           1.0   \n",
              "3             3.00               1960.0              5000.0           1.0   \n",
              "4             2.00               1680.0              8080.0           1.0   \n",
              "\n",
              "  Waterfront View No of Times Visited  ... Overall Grade  \\\n",
              "0              No                None  ...             7   \n",
              "1              No                None  ...             7   \n",
              "2              No                None  ...             6   \n",
              "3              No                None  ...             7   \n",
              "4              No                None  ...             8   \n",
              "\n",
              "   Area of the House from Basement (in Sqft)  Basement Area (in Sqft)  \\\n",
              "0                                     1180.0                        0   \n",
              "1                                     2170.0                      400   \n",
              "2                                      770.0                        0   \n",
              "3                                     1050.0                      910   \n",
              "4                                     1680.0                        0   \n",
              "\n",
              "   Age of House (in Years)  Renovated Year  Zipcode  Latitude  Longitude  \\\n",
              "0                       63               0  98178.0   47.5112   -122.257   \n",
              "1                       67            1991  98125.0   47.7210   -122.319   \n",
              "2                       85               0  98028.0   47.7379   -122.233   \n",
              "3                       53               0  98136.0   47.5208   -122.393   \n",
              "4                       31               0  98074.0   47.6168   -122.045   \n",
              "\n",
              "   Living Area after Renovation (in Sqft)  Lot Area after Renovation (in Sqft)  \n",
              "0                                  1340.0                                 5650  \n",
              "1                                  1690.0                                 7639  \n",
              "2                                  2720.0                                 8062  \n",
              "3                                  1360.0                                 5000  \n",
              "4                                  1800.0                                 7503  \n",
              "\n",
              "[5 rows x 21 columns]"
            ],
            "text/html": [
              "\n",
              "  <div id=\"df-08dd8594-8154-4beb-88fb-4a02c794f98f\">\n",
              "    <div class=\"colab-df-container\">\n",
              "      <div>\n",
              "<style scoped>\n",
              "    .dataframe tbody tr th:only-of-type {\n",
              "        vertical-align: middle;\n",
              "    }\n",
              "\n",
              "    .dataframe tbody tr th {\n",
              "        vertical-align: top;\n",
              "    }\n",
              "\n",
              "    .dataframe thead th {\n",
              "        text-align: right;\n",
              "    }\n",
              "</style>\n",
              "<table border=\"1\" class=\"dataframe\">\n",
              "  <thead>\n",
              "    <tr style=\"text-align: right;\">\n",
              "      <th></th>\n",
              "      <th>ID</th>\n",
              "      <th>Date House was Sold</th>\n",
              "      <th>Sale Price</th>\n",
              "      <th>No of Bedrooms</th>\n",
              "      <th>No of Bathrooms</th>\n",
              "      <th>Flat Area (in Sqft)</th>\n",
              "      <th>Lot Area (in Sqft)</th>\n",
              "      <th>No of Floors</th>\n",
              "      <th>Waterfront View</th>\n",
              "      <th>No of Times Visited</th>\n",
              "      <th>...</th>\n",
              "      <th>Overall Grade</th>\n",
              "      <th>Area of the House from Basement (in Sqft)</th>\n",
              "      <th>Basement Area (in Sqft)</th>\n",
              "      <th>Age of House (in Years)</th>\n",
              "      <th>Renovated Year</th>\n",
              "      <th>Zipcode</th>\n",
              "      <th>Latitude</th>\n",
              "      <th>Longitude</th>\n",
              "      <th>Living Area after Renovation (in Sqft)</th>\n",
              "      <th>Lot Area after Renovation (in Sqft)</th>\n",
              "    </tr>\n",
              "  </thead>\n",
              "  <tbody>\n",
              "    <tr>\n",
              "      <th>0</th>\n",
              "      <td>7129300520</td>\n",
              "      <td>14 October 2017</td>\n",
              "      <td>221900.0</td>\n",
              "      <td>3</td>\n",
              "      <td>1.00</td>\n",
              "      <td>1180.0</td>\n",
              "      <td>5650.0</td>\n",
              "      <td>1.0</td>\n",
              "      <td>No</td>\n",
              "      <td>None</td>\n",
              "      <td>...</td>\n",
              "      <td>7</td>\n",
              "      <td>1180.0</td>\n",
              "      <td>0</td>\n",
              "      <td>63</td>\n",
              "      <td>0</td>\n",
              "      <td>98178.0</td>\n",
              "      <td>47.5112</td>\n",
              "      <td>-122.257</td>\n",
              "      <td>1340.0</td>\n",
              "      <td>5650</td>\n",
              "    </tr>\n",
              "    <tr>\n",
              "      <th>1</th>\n",
              "      <td>6414100192</td>\n",
              "      <td>14 December 2017</td>\n",
              "      <td>538000.0</td>\n",
              "      <td>3</td>\n",
              "      <td>2.25</td>\n",
              "      <td>2570.0</td>\n",
              "      <td>7242.0</td>\n",
              "      <td>2.0</td>\n",
              "      <td>No</td>\n",
              "      <td>None</td>\n",
              "      <td>...</td>\n",
              "      <td>7</td>\n",
              "      <td>2170.0</td>\n",
              "      <td>400</td>\n",
              "      <td>67</td>\n",
              "      <td>1991</td>\n",
              "      <td>98125.0</td>\n",
              "      <td>47.7210</td>\n",
              "      <td>-122.319</td>\n",
              "      <td>1690.0</td>\n",
              "      <td>7639</td>\n",
              "    </tr>\n",
              "    <tr>\n",
              "      <th>2</th>\n",
              "      <td>5631500400</td>\n",
              "      <td>15 February 2016</td>\n",
              "      <td>180000.0</td>\n",
              "      <td>2</td>\n",
              "      <td>1.00</td>\n",
              "      <td>770.0</td>\n",
              "      <td>10000.0</td>\n",
              "      <td>1.0</td>\n",
              "      <td>No</td>\n",
              "      <td>None</td>\n",
              "      <td>...</td>\n",
              "      <td>6</td>\n",
              "      <td>770.0</td>\n",
              "      <td>0</td>\n",
              "      <td>85</td>\n",
              "      <td>0</td>\n",
              "      <td>98028.0</td>\n",
              "      <td>47.7379</td>\n",
              "      <td>-122.233</td>\n",
              "      <td>2720.0</td>\n",
              "      <td>8062</td>\n",
              "    </tr>\n",
              "    <tr>\n",
              "      <th>3</th>\n",
              "      <td>2487200875</td>\n",
              "      <td>14 December 2017</td>\n",
              "      <td>604000.0</td>\n",
              "      <td>4</td>\n",
              "      <td>3.00</td>\n",
              "      <td>1960.0</td>\n",
              "      <td>5000.0</td>\n",
              "      <td>1.0</td>\n",
              "      <td>No</td>\n",
              "      <td>None</td>\n",
              "      <td>...</td>\n",
              "      <td>7</td>\n",
              "      <td>1050.0</td>\n",
              "      <td>910</td>\n",
              "      <td>53</td>\n",
              "      <td>0</td>\n",
              "      <td>98136.0</td>\n",
              "      <td>47.5208</td>\n",
              "      <td>-122.393</td>\n",
              "      <td>1360.0</td>\n",
              "      <td>5000</td>\n",
              "    </tr>\n",
              "    <tr>\n",
              "      <th>4</th>\n",
              "      <td>1954400510</td>\n",
              "      <td>15 February 2016</td>\n",
              "      <td>510000.0</td>\n",
              "      <td>3</td>\n",
              "      <td>2.00</td>\n",
              "      <td>1680.0</td>\n",
              "      <td>8080.0</td>\n",
              "      <td>1.0</td>\n",
              "      <td>No</td>\n",
              "      <td>None</td>\n",
              "      <td>...</td>\n",
              "      <td>8</td>\n",
              "      <td>1680.0</td>\n",
              "      <td>0</td>\n",
              "      <td>31</td>\n",
              "      <td>0</td>\n",
              "      <td>98074.0</td>\n",
              "      <td>47.6168</td>\n",
              "      <td>-122.045</td>\n",
              "      <td>1800.0</td>\n",
              "      <td>7503</td>\n",
              "    </tr>\n",
              "  </tbody>\n",
              "</table>\n",
              "<p>5 rows × 21 columns</p>\n",
              "</div>\n",
              "      <button class=\"colab-df-convert\" onclick=\"convertToInteractive('df-08dd8594-8154-4beb-88fb-4a02c794f98f')\"\n",
              "              title=\"Convert this dataframe to an interactive table.\"\n",
              "              style=\"display:none;\">\n",
              "        \n",
              "  <svg xmlns=\"http://www.w3.org/2000/svg\" height=\"24px\"viewBox=\"0 0 24 24\"\n",
              "       width=\"24px\">\n",
              "    <path d=\"M0 0h24v24H0V0z\" fill=\"none\"/>\n",
              "    <path d=\"M18.56 5.44l.94 2.06.94-2.06 2.06-.94-2.06-.94-.94-2.06-.94 2.06-2.06.94zm-11 1L8.5 8.5l.94-2.06 2.06-.94-2.06-.94L8.5 2.5l-.94 2.06-2.06.94zm10 10l.94 2.06.94-2.06 2.06-.94-2.06-.94-.94-2.06-.94 2.06-2.06.94z\"/><path d=\"M17.41 7.96l-1.37-1.37c-.4-.4-.92-.59-1.43-.59-.52 0-1.04.2-1.43.59L10.3 9.45l-7.72 7.72c-.78.78-.78 2.05 0 2.83L4 21.41c.39.39.9.59 1.41.59.51 0 1.02-.2 1.41-.59l7.78-7.78 2.81-2.81c.8-.78.8-2.07 0-2.86zM5.41 20L4 18.59l7.72-7.72 1.47 1.35L5.41 20z\"/>\n",
              "  </svg>\n",
              "      </button>\n",
              "      \n",
              "  <style>\n",
              "    .colab-df-container {\n",
              "      display:flex;\n",
              "      flex-wrap:wrap;\n",
              "      gap: 12px;\n",
              "    }\n",
              "\n",
              "    .colab-df-convert {\n",
              "      background-color: #E8F0FE;\n",
              "      border: none;\n",
              "      border-radius: 50%;\n",
              "      cursor: pointer;\n",
              "      display: none;\n",
              "      fill: #1967D2;\n",
              "      height: 32px;\n",
              "      padding: 0 0 0 0;\n",
              "      width: 32px;\n",
              "    }\n",
              "\n",
              "    .colab-df-convert:hover {\n",
              "      background-color: #E2EBFA;\n",
              "      box-shadow: 0px 1px 2px rgba(60, 64, 67, 0.3), 0px 1px 3px 1px rgba(60, 64, 67, 0.15);\n",
              "      fill: #174EA6;\n",
              "    }\n",
              "\n",
              "    [theme=dark] .colab-df-convert {\n",
              "      background-color: #3B4455;\n",
              "      fill: #D2E3FC;\n",
              "    }\n",
              "\n",
              "    [theme=dark] .colab-df-convert:hover {\n",
              "      background-color: #434B5C;\n",
              "      box-shadow: 0px 1px 3px 1px rgba(0, 0, 0, 0.15);\n",
              "      filter: drop-shadow(0px 1px 2px rgba(0, 0, 0, 0.3));\n",
              "      fill: #FFFFFF;\n",
              "    }\n",
              "  </style>\n",
              "\n",
              "      <script>\n",
              "        const buttonEl =\n",
              "          document.querySelector('#df-08dd8594-8154-4beb-88fb-4a02c794f98f button.colab-df-convert');\n",
              "        buttonEl.style.display =\n",
              "          google.colab.kernel.accessAllowed ? 'block' : 'none';\n",
              "\n",
              "        async function convertToInteractive(key) {\n",
              "          const element = document.querySelector('#df-08dd8594-8154-4beb-88fb-4a02c794f98f');\n",
              "          const dataTable =\n",
              "            await google.colab.kernel.invokeFunction('convertToInteractive',\n",
              "                                                     [key], {});\n",
              "          if (!dataTable) return;\n",
              "\n",
              "          const docLinkHtml = 'Like what you see? Visit the ' +\n",
              "            '<a target=\"_blank\" href=https://colab.research.google.com/notebooks/data_table.ipynb>data table notebook</a>'\n",
              "            + ' to learn more about interactive tables.';\n",
              "          element.innerHTML = '';\n",
              "          dataTable['output_type'] = 'display_data';\n",
              "          await google.colab.output.renderOutput(dataTable, element);\n",
              "          const docLink = document.createElement('div');\n",
              "          docLink.innerHTML = docLinkHtml;\n",
              "          element.appendChild(docLink);\n",
              "        }\n",
              "      </script>\n",
              "    </div>\n",
              "  </div>\n",
              "  "
            ]
          },
          "metadata": {},
          "execution_count": 82
        }
      ],
      "source": [
        "df_data = pd.read_csv('/content/drive/MyDrive/Colab Notebooks/Project_1_25_4_2022/Raw_Housing_Prices.csv')\n",
        "df_data.head()"
      ]
    },
    {
      "cell_type": "markdown",
      "metadata": {
        "id": "zGInauftvTem"
      },
      "source": [
        "## Data Exploration : \n"
      ]
    },
    {
      "cell_type": "markdown",
      "metadata": {
        "id": "987a4TrVviBr"
      },
      "source": [
        " \n",
        "1.   What info does the target variablel represent?\n",
        "2.   What is the data type of target variable?\n",
        "3.   Is there a pattern or anomalies in the target variable?\n",
        "4.   Use describe(), what do you infer?\n",
        "5.   Treat outliers.\n",
        "6.   Treat missing values.\n",
        "7.   Plot a histogram, values skewed or normally distributed?\n",
        "\n",
        "\n",
        "\n"
      ]
    },
    {
      "cell_type": "markdown",
      "metadata": {
        "id": "ccsj4sT7x68D"
      },
      "source": [
        "###(i) Exploration of target variable :"
      ]
    },
    {
      "cell_type": "markdown",
      "metadata": {
        "id": "kCFcTQaexxUQ"
      },
      "source": [
        "1.   What info does the target variablel represent?"
      ]
    },
    {
      "cell_type": "code",
      "execution_count": null,
      "metadata": {
        "colab": {
          "base_uri": "https://localhost:8080/"
        },
        "id": "m18v1pzphJoP",
        "outputId": "9bf958e5-d451-4c65-f629-0a2fb2e09c41"
      },
      "outputs": [
        {
          "output_type": "stream",
          "name": "stdout",
          "text": [
            "<class 'pandas.core.frame.DataFrame'>\n",
            "RangeIndex: 21613 entries, 0 to 21612\n",
            "Data columns (total 21 columns):\n",
            " #   Column                                     Non-Null Count  Dtype  \n",
            "---  ------                                     --------------  -----  \n",
            " 0   ID                                         21613 non-null  int64  \n",
            " 1   Date House was Sold                        21613 non-null  object \n",
            " 2   Sale Price                                 21609 non-null  float64\n",
            " 3   No of Bedrooms                             21613 non-null  int64  \n",
            " 4   No of Bathrooms                            21609 non-null  float64\n",
            " 5   Flat Area (in Sqft)                        21604 non-null  float64\n",
            " 6   Lot Area (in Sqft)                         21604 non-null  float64\n",
            " 7   No of Floors                               21613 non-null  float64\n",
            " 8   Waterfront View                            21613 non-null  object \n",
            " 9   No of Times Visited                        21613 non-null  object \n",
            " 10  Condition of the House                     21613 non-null  object \n",
            " 11  Overall Grade                              21613 non-null  int64  \n",
            " 12  Area of the House from Basement (in Sqft)  21610 non-null  float64\n",
            " 13  Basement Area (in Sqft)                    21613 non-null  int64  \n",
            " 14  Age of House (in Years)                    21613 non-null  int64  \n",
            " 15  Renovated Year                             21613 non-null  int64  \n",
            " 16  Zipcode                                    21612 non-null  float64\n",
            " 17  Latitude                                   21612 non-null  float64\n",
            " 18  Longitude                                  21612 non-null  float64\n",
            " 19  Living Area after Renovation (in Sqft)     21612 non-null  float64\n",
            " 20  Lot Area after Renovation (in Sqft)        21613 non-null  int64  \n",
            "dtypes: float64(10), int64(7), object(4)\n",
            "memory usage: 3.5+ MB\n"
          ]
        }
      ],
      "source": [
        "df_data.info()"
      ]
    },
    {
      "cell_type": "markdown",
      "metadata": {
        "id": "1kjvh2GF1PjY"
      },
      "source": [
        "2. What is the data type of target variable?"
      ]
    },
    {
      "cell_type": "code",
      "execution_count": null,
      "metadata": {
        "colab": {
          "base_uri": "https://localhost:8080/"
        },
        "id": "1_BNnYZO3sLX",
        "outputId": "5ca6f8b7-cb3e-4d16-94ce-581a5155a441"
      },
      "outputs": [
        {
          "output_type": "execute_result",
          "data": {
            "text/plain": [
              "dtype('float64')"
            ]
          },
          "metadata": {},
          "execution_count": 84
        }
      ],
      "source": [
        "df_data['Sale Price'].dtype"
      ]
    },
    {
      "cell_type": "markdown",
      "metadata": {
        "id": "zhIGPrgb1e_g"
      },
      "source": [
        "3. Is there a pattern or anomalies in the target variable?\n"
      ]
    },
    {
      "cell_type": "code",
      "execution_count": null,
      "metadata": {
        "colab": {
          "base_uri": "https://localhost:8080/"
        },
        "id": "yLqtecoB5Zzj",
        "outputId": "88a9ac97-fda3-4f71-8a74-745e99a641b3"
      },
      "outputs": [
        {
          "output_type": "execute_result",
          "data": {
            "text/plain": [
              "RangeIndex(start=0, stop=21613, step=1)"
            ]
          },
          "metadata": {},
          "execution_count": 85
        }
      ],
      "source": [
        "df_data['Sale Price'].index"
      ]
    },
    {
      "cell_type": "code",
      "execution_count": null,
      "metadata": {
        "colab": {
          "base_uri": "https://localhost:8080/"
        },
        "id": "mwqptTl92eNq",
        "outputId": "6aa18870-4efe-4ee7-a81a-6a9efb3ba8d3"
      },
      "outputs": [
        {
          "output_type": "execute_result",
          "data": {
            "text/plain": [
              "0      221900.0\n",
              "1      538000.0\n",
              "2      180000.0\n",
              "3      604000.0\n",
              "4      510000.0\n",
              "5     1230000.0\n",
              "6      257500.0\n",
              "7      291850.0\n",
              "8      229500.0\n",
              "9      323000.0\n",
              "10     662500.0\n",
              "11     468000.0\n",
              "12     310000.0\n",
              "13     400000.0\n",
              "14     530000.0\n",
              "Name: Sale Price, dtype: float64"
            ]
          },
          "metadata": {},
          "execution_count": 86
        }
      ],
      "source": [
        "df_data['Sale Price'].head(15)"
      ]
    },
    {
      "cell_type": "markdown",
      "metadata": {
        "id": "ixTUKSWj1uKJ"
      },
      "source": [
        "4. Use describe(), what do you infer?"
      ]
    },
    {
      "cell_type": "code",
      "execution_count": null,
      "metadata": {
        "colab": {
          "base_uri": "https://localhost:8080/"
        },
        "id": "Lh4J-lql5grL",
        "outputId": "52bf9103-77d9-4af4-eb7b-4f42e93ca76f"
      },
      "outputs": [
        {
          "output_type": "execute_result",
          "data": {
            "text/plain": [
              "count    2.160900e+04\n",
              "mean     5.401984e+05\n",
              "std      3.673890e+05\n",
              "min      7.500000e+04\n",
              "25%      3.219500e+05\n",
              "50%      4.500000e+05\n",
              "75%      6.450000e+05\n",
              "max      7.700000e+06\n",
              "Name: Sale Price, dtype: float64"
            ]
          },
          "metadata": {},
          "execution_count": 87
        }
      ],
      "source": [
        "df_data['Sale Price'].describe()"
      ]
    },
    {
      "cell_type": "code",
      "execution_count": null,
      "metadata": {
        "colab": {
          "base_uri": "https://localhost:8080/",
          "height": 307
        },
        "id": "kSovy2xO_S6-",
        "outputId": "e9aff9d2-f98e-4096-fb95-e69ced3bc3a8"
      },
      "outputs": [
        {
          "output_type": "execute_result",
          "data": {
            "text/plain": [
              "<matplotlib.collections.PathCollection at 0x7fce49e5a490>"
            ]
          },
          "metadata": {},
          "execution_count": 88
        },
        {
          "output_type": "display_data",
          "data": {
            "text/plain": [
              "<Figure size 432x288 with 1 Axes>"
            ],
            "image/png": "[encoded data removed]"
          },
          "metadata": {
            "needs_background": "light"
          }
        }
      ],
      "source": [
        "plt.scatter(x=df_data['ID'],y=df_data['Sale Price'])\n"
      ]
    },
    {
      "cell_type": "code",
      "execution_count": null,
      "metadata": {
        "colab": {
          "base_uri": "https://localhost:8080/",
          "height": 297
        },
        "id": "wQ1HjesK7U-N",
        "outputId": "7c4aa24b-0ad6-4ea6-b594-9ed400e4c28f"
      },
      "outputs": [
        {
          "output_type": "execute_result",
          "data": {
            "text/plain": [
              "<matplotlib.axes._subplots.AxesSubplot at 0x7fce4a5fad50>"
            ]
          },
          "metadata": {},
          "execution_count": 89
        },
        {
          "output_type": "display_data",
          "data": {
            "text/plain": [
              "<Figure size 432x288 with 1 Axes>"
            ],
            "image/png": "[encoded data removed]"
          },
          "metadata": {
            "needs_background": "light"
          }
        }
      ],
      "source": [
        "sns.boxplot(x=df_data['Sale Price'])"
      ]
    },
    {
      "cell_type": "markdown",
      "metadata": {
        "id": "7vfO2NhT7A-g"
      },
      "source": [
        "*  There seems to be few missing values as the count of Sale Price here gives 21609 values but the overall count is 21613.\n",
        "* There are many outliers present as per the box-plot."
      ]
    },
    {
      "cell_type": "code",
      "execution_count": null,
      "metadata": {
        "id": "7L7SI9W4ABFD"
      },
      "outputs": [],
      "source": [
        ""
      ]
    },
    {
      "cell_type": "markdown",
      "metadata": {
        "id": "Trormg9V13R8"
      },
      "source": [
        "5. Treat outliers."
      ]
    },
    {
      "cell_type": "code",
      "execution_count": null,
      "metadata": {
        "id": "zDcX0fZHABXc"
      },
      "outputs": [],
      "source": [
        "q1= df_data['Sale Price'].quantile(0.25)\n",
        "q3= df_data['Sale Price'].quantile(0.75)\n",
        "iqr = q3-q1\n",
        "upper_limit =q3+1.5*iqr\n",
        "lower_limit =q1-1.5*iqr "
      ]
    },
    {
      "cell_type": "code",
      "execution_count": null,
      "metadata": {
        "id": "k31qYwswEOFC"
      },
      "outputs": [],
      "source": [
        "def limit_imputer(value) :\n",
        "  if value > upper_limit:\n",
        "    return upper_limit\n",
        "  if value < lower_limit:\n",
        "    return lower_limit\n",
        "  else:\n",
        "    return value\n",
        "  \n"
      ]
    },
    {
      "cell_type": "code",
      "execution_count": null,
      "metadata": {
        "id": "4cguzWbIE-xQ"
      },
      "outputs": [],
      "source": [
        "df_data['Sale Price'] = df_data['Sale Price'].apply(limit_imputer)"
      ]
    },
    {
      "cell_type": "code",
      "execution_count": null,
      "metadata": {
        "colab": {
          "base_uri": "https://localhost:8080/",
          "height": 297
        },
        "id": "lNNYxT8nFQeY",
        "outputId": "e9d7c041-446c-4998-8fba-2415cde53ed7"
      },
      "outputs": [
        {
          "output_type": "execute_result",
          "data": {
            "text/plain": [
              "<matplotlib.axes._subplots.AxesSubplot at 0x7fce4851eed0>"
            ]
          },
          "metadata": {},
          "execution_count": 93
        },
        {
          "output_type": "display_data",
          "data": {
            "text/plain": [
              "<Figure size 432x288 with 1 Axes>"
            ],
            "image/png": "[encoded data removed]"
          },
          "metadata": {
            "needs_background": "light"
          }
        }
      ],
      "source": [
        "sns.boxplot(x=df_data['Sale Price'])"
      ]
    },
    {
      "cell_type": "markdown",
      "metadata": {
        "id": "jxFU3WuO17Hj"
      },
      "source": [
        "6. Treat missing values."
      ]
    },
    {
      "cell_type": "markdown",
      "metadata": {
        "id": "nKfwqpjuF6Mg"
      },
      "source": [
        "* Since imputing is not recommended for treating missing values in target variable.\n",
        "* The entire row containing missing values wil be deleted from the datatset."
      ]
    },
    {
      "cell_type": "code",
      "execution_count": null,
      "metadata": {
        "colab": {
          "base_uri": "https://localhost:8080/"
        },
        "id": "S2dLoqkxAFF-",
        "outputId": "682a2cdc-b3a1-4c35-f66a-09dbc7e716eb"
      },
      "outputs": [
        {
          "output_type": "stream",
          "name": "stdout",
          "text": [
            "<class 'pandas.core.frame.DataFrame'>\n",
            "Int64Index: 21609 entries, 0 to 21612\n",
            "Data columns (total 21 columns):\n",
            " #   Column                                     Non-Null Count  Dtype  \n",
            "---  ------                                     --------------  -----  \n",
            " 0   ID                                         21609 non-null  int64  \n",
            " 1   Date House was Sold                        21609 non-null  object \n",
            " 2   Sale Price                                 21609 non-null  float64\n",
            " 3   No of Bedrooms                             21609 non-null  int64  \n",
            " 4   No of Bathrooms                            21605 non-null  float64\n",
            " 5   Flat Area (in Sqft)                        21600 non-null  float64\n",
            " 6   Lot Area (in Sqft)                         21600 non-null  float64\n",
            " 7   No of Floors                               21609 non-null  float64\n",
            " 8   Waterfront View                            21609 non-null  object \n",
            " 9   No of Times Visited                        21609 non-null  object \n",
            " 10  Condition of the House                     21609 non-null  object \n",
            " 11  Overall Grade                              21609 non-null  int64  \n",
            " 12  Area of the House from Basement (in Sqft)  21606 non-null  float64\n",
            " 13  Basement Area (in Sqft)                    21609 non-null  int64  \n",
            " 14  Age of House (in Years)                    21609 non-null  int64  \n",
            " 15  Renovated Year                             21609 non-null  int64  \n",
            " 16  Zipcode                                    21608 non-null  float64\n",
            " 17  Latitude                                   21608 non-null  float64\n",
            " 18  Longitude                                  21608 non-null  float64\n",
            " 19  Living Area after Renovation (in Sqft)     21608 non-null  float64\n",
            " 20  Lot Area after Renovation (in Sqft)        21609 non-null  int64  \n",
            "dtypes: float64(10), int64(7), object(4)\n",
            "memory usage: 3.6+ MB\n"
          ]
        }
      ],
      "source": [
        "df_data.dropna(inplace = True, axis = 0 , subset=['Sale Price'])\n",
        "df_data.info()"
      ]
    },
    {
      "cell_type": "code",
      "execution_count": null,
      "metadata": {
        "colab": {
          "base_uri": "https://localhost:8080/"
        },
        "id": "EELeh85cIhg5",
        "outputId": "eea67591-a7fa-445f-83dc-a947ec98bf1a"
      },
      "outputs": [
        {
          "output_type": "execute_result",
          "data": {
            "text/plain": [
              "count    2.160900e+04\n",
              "mean     5.116186e+05\n",
              "std      2.500620e+05\n",
              "min      7.500000e+04\n",
              "25%      3.219500e+05\n",
              "50%      4.500000e+05\n",
              "75%      6.450000e+05\n",
              "max      1.129575e+06\n",
              "Name: Sale Price, dtype: float64"
            ]
          },
          "metadata": {},
          "execution_count": 95
        }
      ],
      "source": [
        "df_data['Sale Price'].describe()"
      ]
    },
    {
      "cell_type": "markdown",
      "metadata": {
        "id": "X4Ezhp9c2BHs"
      },
      "source": [
        "7. Plot a histogram, values skewed or normally distributed?\n"
      ]
    },
    {
      "cell_type": "code",
      "execution_count": null,
      "metadata": {
        "colab": {
          "base_uri": "https://localhost:8080/",
          "height": 367
        },
        "id": "WRMhMD1G2DhU",
        "outputId": "d320ddb0-eda8-4d9c-c09b-57ae2a3e3078"
      },
      "outputs": [
        {
          "output_type": "execute_result",
          "data": {
            "text/plain": [
              "(array([ 501., 3379., 4513., 3911., 3069., 1977., 1432.,  877.,  531.,\n",
              "        1419.]),\n",
              " array([  75000. ,  180457.5,  285915. ,  391372.5,  496830. ,  602287.5,\n",
              "         707745. ,  813202.5,  918660. , 1024117.5, 1129575. ]),\n",
              " <a list of 10 Patch objects>)"
            ]
          },
          "metadata": {},
          "execution_count": 96
        },
        {
          "output_type": "display_data",
          "data": {
            "text/plain": [
              "<Figure size 432x288 with 1 Axes>"
            ],
            "image/png": "[encoded data removed]"
          },
          "metadata": {
            "needs_background": "light"
          }
        }
      ],
      "source": [
        "plt.hist(df_data['Sale Price'], bins = 10, color = 'green')"
      ]
    },
    {
      "cell_type": "markdown",
      "metadata": {
        "id": "O7hyFXLEJsYz"
      },
      "source": [
        "* The histogram is right skewed.\n",
        "\n",
        "\n",
        "\n"
      ]
    },
    {
      "cell_type": "code",
      "execution_count": null,
      "metadata": {
        "colab": {
          "base_uri": "https://localhost:8080/"
        },
        "id": "i19DUVeOI7dM",
        "outputId": "50a13207-f918-4044-89bb-182ca424ac7d"
      },
      "outputs": [
        {
          "output_type": "stream",
          "name": "stdout",
          "text": [
            "<class 'pandas.core.frame.DataFrame'>\n",
            "Int64Index: 21609 entries, 0 to 21612\n",
            "Data columns (total 21 columns):\n",
            " #   Column                                     Non-Null Count  Dtype  \n",
            "---  ------                                     --------------  -----  \n",
            " 0   ID                                         21609 non-null  int64  \n",
            " 1   Date House was Sold                        21609 non-null  object \n",
            " 2   Sale Price                                 21609 non-null  float64\n",
            " 3   No of Bedrooms                             21609 non-null  int64  \n",
            " 4   No of Bathrooms                            21605 non-null  float64\n",
            " 5   Flat Area (in Sqft)                        21600 non-null  float64\n",
            " 6   Lot Area (in Sqft)                         21600 non-null  float64\n",
            " 7   No of Floors                               21609 non-null  float64\n",
            " 8   Waterfront View                            21609 non-null  object \n",
            " 9   No of Times Visited                        21609 non-null  object \n",
            " 10  Condition of the House                     21609 non-null  object \n",
            " 11  Overall Grade                              21609 non-null  int64  \n",
            " 12  Area of the House from Basement (in Sqft)  21606 non-null  float64\n",
            " 13  Basement Area (in Sqft)                    21609 non-null  int64  \n",
            " 14  Age of House (in Years)                    21609 non-null  int64  \n",
            " 15  Renovated Year                             21609 non-null  int64  \n",
            " 16  Zipcode                                    21608 non-null  float64\n",
            " 17  Latitude                                   21608 non-null  float64\n",
            " 18  Longitude                                  21608 non-null  float64\n",
            " 19  Living Area after Renovation (in Sqft)     21608 non-null  float64\n",
            " 20  Lot Area after Renovation (in Sqft)        21609 non-null  int64  \n",
            "dtypes: float64(10), int64(7), object(4)\n",
            "memory usage: 3.6+ MB\n"
          ]
        }
      ],
      "source": [
        "data=df_data\n",
        "data.info()"
      ]
    },
    {
      "cell_type": "code",
      "execution_count": null,
      "metadata": {
        "colab": {
          "base_uri": "https://localhost:8080/",
          "height": 884
        },
        "id": "zbqjiFJA0BLa",
        "outputId": "59e777e2-2b2b-412d-e3c1-a88cc75b59f6"
      },
      "outputs": [
        {
          "output_type": "execute_result",
          "data": {
            "text/plain": [
              "               ID Date House was Sold  Sale Price  No of Bedrooms  \\\n",
              "0      7129300520     14 October 2017    221900.0               3   \n",
              "1      6414100192    14 December 2017    538000.0               3   \n",
              "2      5631500400    15 February 2016    180000.0               2   \n",
              "3      2487200875    14 December 2017    604000.0               4   \n",
              "4      1954400510    15 February 2016    510000.0               3   \n",
              "...           ...                 ...         ...             ...   \n",
              "21608   263000018         14 May 2017    360000.0               3   \n",
              "21609  6600060120    15 February 2016    400000.0               4   \n",
              "21610  1523300141        14 June 2017    402101.0               2   \n",
              "21611   291310100     15 January 2016    400000.0               3   \n",
              "21612  1523300157     14 October 2017    325000.0               2   \n",
              "\n",
              "       No of Bathrooms  Flat Area (in Sqft)  Lot Area (in Sqft)  No of Floors  \\\n",
              "0                 1.00               1180.0              5650.0           1.0   \n",
              "1                 2.25               2570.0              7242.0           2.0   \n",
              "2                 1.00                770.0             10000.0           1.0   \n",
              "3                 3.00               1960.0              5000.0           1.0   \n",
              "4                 2.00               1680.0              8080.0           1.0   \n",
              "...                ...                  ...                 ...           ...   \n",
              "21608             2.50               1530.0              1131.0           3.0   \n",
              "21609             2.50               2310.0              5813.0           2.0   \n",
              "21610             0.75               1020.0              1350.0           2.0   \n",
              "21611             2.50               1600.0              2388.0           2.0   \n",
              "21612             0.75               1020.0              1076.0           2.0   \n",
              "\n",
              "      Waterfront View No of Times Visited  ... Overall Grade  \\\n",
              "0                  No                None  ...             7   \n",
              "1                  No                None  ...             7   \n",
              "2                  No                None  ...             6   \n",
              "3                  No                None  ...             7   \n",
              "4                  No                None  ...             8   \n",
              "...               ...                 ...  ...           ...   \n",
              "21608              No                None  ...             8   \n",
              "21609              No                None  ...             8   \n",
              "21610              No                None  ...             7   \n",
              "21611              No                None  ...             8   \n",
              "21612              No                None  ...             7   \n",
              "\n",
              "       Area of the House from Basement (in Sqft)  Basement Area (in Sqft)  \\\n",
              "0                                         1180.0                        0   \n",
              "1                                         2170.0                      400   \n",
              "2                                          770.0                        0   \n",
              "3                                         1050.0                      910   \n",
              "4                                         1680.0                        0   \n",
              "...                                          ...                      ...   \n",
              "21608                                     1530.0                        0   \n",
              "21609                                     2310.0                        0   \n",
              "21610                                     1020.0                        0   \n",
              "21611                                     1600.0                        0   \n",
              "21612                                     1020.0                        0   \n",
              "\n",
              "       Age of House (in Years)  Renovated Year  Zipcode  Latitude  Longitude  \\\n",
              "0                           63               0  98178.0   47.5112   -122.257   \n",
              "1                           67            1991  98125.0   47.7210   -122.319   \n",
              "2                           85               0  98028.0   47.7379   -122.233   \n",
              "3                           53               0  98136.0   47.5208   -122.393   \n",
              "4                           31               0  98074.0   47.6168   -122.045   \n",
              "...                        ...             ...      ...       ...        ...   \n",
              "21608                        9               0  98103.0   47.6993   -122.346   \n",
              "21609                        4               0  98146.0   47.5107   -122.362   \n",
              "21610                        9               0  98144.0   47.5944   -122.299   \n",
              "21611                       14               0  98027.0   47.5345   -122.069   \n",
              "21612                       10               0  98144.0   47.5941   -122.299   \n",
              "\n",
              "       Living Area after Renovation (in Sqft)  \\\n",
              "0                                      1340.0   \n",
              "1                                      1690.0   \n",
              "2                                      2720.0   \n",
              "3                                      1360.0   \n",
              "4                                      1800.0   \n",
              "...                                       ...   \n",
              "21608                                  1530.0   \n",
              "21609                                  1830.0   \n",
              "21610                                  1020.0   \n",
              "21611                                  1410.0   \n",
              "21612                                  1020.0   \n",
              "\n",
              "       Lot Area after Renovation (in Sqft)  \n",
              "0                                     5650  \n",
              "1                                     7639  \n",
              "2                                     8062  \n",
              "3                                     5000  \n",
              "4                                     7503  \n",
              "...                                    ...  \n",
              "21608                                 1509  \n",
              "21609                                 7200  \n",
              "21610                                 2007  \n",
              "21611                                 1287  \n",
              "21612                                 1357  \n",
              "\n",
              "[21609 rows x 21 columns]"
            ],
            "text/html": [
              "\n",
              "  <div id=\"df-5dcb6170-df1a-4a3e-83aa-8a8662d8be77\">\n",
              "    <div class=\"colab-df-container\">\n",
              "      <div>\n",
              "<style scoped>\n",
              "    .dataframe tbody tr th:only-of-type {\n",
              "        vertical-align: middle;\n",
              "    }\n",
              "\n",
              "    .dataframe tbody tr th {\n",
              "        vertical-align: top;\n",
              "    }\n",
              "\n",
              "    .dataframe thead th {\n",
              "        text-align: right;\n",
              "    }\n",
              "</style>\n",
              "<table border=\"1\" class=\"dataframe\">\n",
              "  <thead>\n",
              "    <tr style=\"text-align: right;\">\n",
              "      <th></th>\n",
              "      <th>ID</th>\n",
              "      <th>Date House was Sold</th>\n",
              "      <th>Sale Price</th>\n",
              "      <th>No of Bedrooms</th>\n",
              "      <th>No of Bathrooms</th>\n",
              "      <th>Flat Area (in Sqft)</th>\n",
              "      <th>Lot Area (in Sqft)</th>\n",
              "      <th>No of Floors</th>\n",
              "      <th>Waterfront View</th>\n",
              "      <th>No of Times Visited</th>\n",
              "      <th>...</th>\n",
              "      <th>Overall Grade</th>\n",
              "      <th>Area of the House from Basement (in Sqft)</th>\n",
              "      <th>Basement Area (in Sqft)</th>\n",
              "      <th>Age of House (in Years)</th>\n",
              "      <th>Renovated Year</th>\n",
              "      <th>Zipcode</th>\n",
              "      <th>Latitude</th>\n",
              "      <th>Longitude</th>\n",
              "      <th>Living Area after Renovation (in Sqft)</th>\n",
              "      <th>Lot Area after Renovation (in Sqft)</th>\n",
              "    </tr>\n",
              "  </thead>\n",
              "  <tbody>\n",
              "    <tr>\n",
              "      <th>0</th>\n",
              "      <td>7129300520</td>\n",
              "      <td>14 October 2017</td>\n",
              "      <td>221900.0</td>\n",
              "      <td>3</td>\n",
              "      <td>1.00</td>\n",
              "      <td>1180.0</td>\n",
              "      <td>5650.0</td>\n",
              "      <td>1.0</td>\n",
              "      <td>No</td>\n",
              "      <td>None</td>\n",
              "      <td>...</td>\n",
              "      <td>7</td>\n",
              "      <td>1180.0</td>\n",
              "      <td>0</td>\n",
              "      <td>63</td>\n",
              "      <td>0</td>\n",
              "      <td>98178.0</td>\n",
              "      <td>47.5112</td>\n",
              "      <td>-122.257</td>\n",
              "      <td>1340.0</td>\n",
              "      <td>5650</td>\n",
              "    </tr>\n",
              "    <tr>\n",
              "      <th>1</th>\n",
              "      <td>6414100192</td>\n",
              "      <td>14 December 2017</td>\n",
              "      <td>538000.0</td>\n",
              "      <td>3</td>\n",
              "      <td>2.25</td>\n",
              "      <td>2570.0</td>\n",
              "      <td>7242.0</td>\n",
              "      <td>2.0</td>\n",
              "      <td>No</td>\n",
              "      <td>None</td>\n",
              "      <td>...</td>\n",
              "      <td>7</td>\n",
              "      <td>2170.0</td>\n",
              "      <td>400</td>\n",
              "      <td>67</td>\n",
              "      <td>1991</td>\n",
              "      <td>98125.0</td>\n",
              "      <td>47.7210</td>\n",
              "      <td>-122.319</td>\n",
              "      <td>1690.0</td>\n",
              "      <td>7639</td>\n",
              "    </tr>\n",
              "    <tr>\n",
              "      <th>2</th>\n",
              "      <td>5631500400</td>\n",
              "      <td>15 February 2016</td>\n",
              "      <td>180000.0</td>\n",
              "      <td>2</td>\n",
              "      <td>1.00</td>\n",
              "      <td>770.0</td>\n",
              "      <td>10000.0</td>\n",
              "      <td>1.0</td>\n",
              "      <td>No</td>\n",
              "      <td>None</td>\n",
              "      <td>...</td>\n",
              "      <td>6</td>\n",
              "      <td>770.0</td>\n",
              "      <td>0</td>\n",
              "      <td>85</td>\n",
              "      <td>0</td>\n",
              "      <td>98028.0</td>\n",
              "      <td>47.7379</td>\n",
              "      <td>-122.233</td>\n",
              "      <td>2720.0</td>\n",
              "      <td>8062</td>\n",
              "    </tr>\n",
              "    <tr>\n",
              "      <th>3</th>\n",
              "      <td>2487200875</td>\n",
              "      <td>14 December 2017</td>\n",
              "      <td>604000.0</td>\n",
              "      <td>4</td>\n",
              "      <td>3.00</td>\n",
              "      <td>1960.0</td>\n",
              "      <td>5000.0</td>\n",
              "      <td>1.0</td>\n",
              "      <td>No</td>\n",
              "      <td>None</td>\n",
              "      <td>...</td>\n",
              "      <td>7</td>\n",
              "      <td>1050.0</td>\n",
              "      <td>910</td>\n",
              "      <td>53</td>\n",
              "      <td>0</td>\n",
              "      <td>98136.0</td>\n",
              "      <td>47.5208</td>\n",
              "      <td>-122.393</td>\n",
              "      <td>1360.0</td>\n",
              "      <td>5000</td>\n",
              "    </tr>\n",
              "    <tr>\n",
              "      <th>4</th>\n",
              "      <td>1954400510</td>\n",
              "      <td>15 February 2016</td>\n",
              "      <td>510000.0</td>\n",
              "      <td>3</td>\n",
              "      <td>2.00</td>\n",
              "      <td>1680.0</td>\n",
              "      <td>8080.0</td>\n",
              "      <td>1.0</td>\n",
              "      <td>No</td>\n",
              "      <td>None</td>\n",
              "      <td>...</td>\n",
              "      <td>8</td>\n",
              "      <td>1680.0</td>\n",
              "      <td>0</td>\n",
              "      <td>31</td>\n",
              "      <td>0</td>\n",
              "      <td>98074.0</td>\n",
              "      <td>47.6168</td>\n",
              "      <td>-122.045</td>\n",
              "      <td>1800.0</td>\n",
              "      <td>7503</td>\n",
              "    </tr>\n",
              "    <tr>\n",
              "      <th>...</th>\n",
              "      <td>...</td>\n",
              "      <td>...</td>\n",
              "      <td>...</td>\n",
              "      <td>...</td>\n",
              "      <td>...</td>\n",
              "      <td>...</td>\n",
              "      <td>...</td>\n",
              "      <td>...</td>\n",
              "      <td>...</td>\n",
              "      <td>...</td>\n",
              "      <td>...</td>\n",
              "      <td>...</td>\n",
              "      <td>...</td>\n",
              "      <td>...</td>\n",
              "      <td>...</td>\n",
              "      <td>...</td>\n",
              "      <td>...</td>\n",
              "      <td>...</td>\n",
              "      <td>...</td>\n",
              "      <td>...</td>\n",
              "      <td>...</td>\n",
              "    </tr>\n",
              "    <tr>\n",
              "      <th>21608</th>\n",
              "      <td>263000018</td>\n",
              "      <td>14 May 2017</td>\n",
              "      <td>360000.0</td>\n",
              "      <td>3</td>\n",
              "      <td>2.50</td>\n",
              "      <td>1530.0</td>\n",
              "      <td>1131.0</td>\n",
              "      <td>3.0</td>\n",
              "      <td>No</td>\n",
              "      <td>None</td>\n",
              "      <td>...</td>\n",
              "      <td>8</td>\n",
              "      <td>1530.0</td>\n",
              "      <td>0</td>\n",
              "      <td>9</td>\n",
              "      <td>0</td>\n",
              "      <td>98103.0</td>\n",
              "      <td>47.6993</td>\n",
              "      <td>-122.346</td>\n",
              "      <td>1530.0</td>\n",
              "      <td>1509</td>\n",
              "    </tr>\n",
              "    <tr>\n",
              "      <th>21609</th>\n",
              "      <td>6600060120</td>\n",
              "      <td>15 February 2016</td>\n",
              "      <td>400000.0</td>\n",
              "      <td>4</td>\n",
              "      <td>2.50</td>\n",
              "      <td>2310.0</td>\n",
              "      <td>5813.0</td>\n",
              "      <td>2.0</td>\n",
              "      <td>No</td>\n",
              "      <td>None</td>\n",
              "      <td>...</td>\n",
              "      <td>8</td>\n",
              "      <td>2310.0</td>\n",
              "      <td>0</td>\n",
              "      <td>4</td>\n",
              "      <td>0</td>\n",
              "      <td>98146.0</td>\n",
              "      <td>47.5107</td>\n",
              "      <td>-122.362</td>\n",
              "      <td>1830.0</td>\n",
              "      <td>7200</td>\n",
              "    </tr>\n",
              "    <tr>\n",
              "      <th>21610</th>\n",
              "      <td>1523300141</td>\n",
              "      <td>14 June 2017</td>\n",
              "      <td>402101.0</td>\n",
              "      <td>2</td>\n",
              "      <td>0.75</td>\n",
              "      <td>1020.0</td>\n",
              "      <td>1350.0</td>\n",
              "      <td>2.0</td>\n",
              "      <td>No</td>\n",
              "      <td>None</td>\n",
              "      <td>...</td>\n",
              "      <td>7</td>\n",
              "      <td>1020.0</td>\n",
              "      <td>0</td>\n",
              "      <td>9</td>\n",
              "      <td>0</td>\n",
              "      <td>98144.0</td>\n",
              "      <td>47.5944</td>\n",
              "      <td>-122.299</td>\n",
              "      <td>1020.0</td>\n",
              "      <td>2007</td>\n",
              "    </tr>\n",
              "    <tr>\n",
              "      <th>21611</th>\n",
              "      <td>291310100</td>\n",
              "      <td>15 January 2016</td>\n",
              "      <td>400000.0</td>\n",
              "      <td>3</td>\n",
              "      <td>2.50</td>\n",
              "      <td>1600.0</td>\n",
              "      <td>2388.0</td>\n",
              "      <td>2.0</td>\n",
              "      <td>No</td>\n",
              "      <td>None</td>\n",
              "      <td>...</td>\n",
              "      <td>8</td>\n",
              "      <td>1600.0</td>\n",
              "      <td>0</td>\n",
              "      <td>14</td>\n",
              "      <td>0</td>\n",
              "      <td>98027.0</td>\n",
              "      <td>47.5345</td>\n",
              "      <td>-122.069</td>\n",
              "      <td>1410.0</td>\n",
              "      <td>1287</td>\n",
              "    </tr>\n",
              "    <tr>\n",
              "      <th>21612</th>\n",
              "      <td>1523300157</td>\n",
              "      <td>14 October 2017</td>\n",
              "      <td>325000.0</td>\n",
              "      <td>2</td>\n",
              "      <td>0.75</td>\n",
              "      <td>1020.0</td>\n",
              "      <td>1076.0</td>\n",
              "      <td>2.0</td>\n",
              "      <td>No</td>\n",
              "      <td>None</td>\n",
              "      <td>...</td>\n",
              "      <td>7</td>\n",
              "      <td>1020.0</td>\n",
              "      <td>0</td>\n",
              "      <td>10</td>\n",
              "      <td>0</td>\n",
              "      <td>98144.0</td>\n",
              "      <td>47.5941</td>\n",
              "      <td>-122.299</td>\n",
              "      <td>1020.0</td>\n",
              "      <td>1357</td>\n",
              "    </tr>\n",
              "  </tbody>\n",
              "</table>\n",
              "<p>21609 rows × 21 columns</p>\n",
              "</div>\n",
              "      <button class=\"colab-df-convert\" onclick=\"convertToInteractive('df-5dcb6170-df1a-4a3e-83aa-8a8662d8be77')\"\n",
              "              title=\"Convert this dataframe to an interactive table.\"\n",
              "              style=\"display:none;\">\n",
              "        \n",
              "  <svg xmlns=\"http://www.w3.org/2000/svg\" height=\"24px\"viewBox=\"0 0 24 24\"\n",
              "       width=\"24px\">\n",
              "    <path d=\"M0 0h24v24H0V0z\" fill=\"none\"/>\n",
              "    <path d=\"M18.56 5.44l.94 2.06.94-2.06 2.06-.94-2.06-.94-.94-2.06-.94 2.06-2.06.94zm-11 1L8.5 8.5l.94-2.06 2.06-.94-2.06-.94L8.5 2.5l-.94 2.06-2.06.94zm10 10l.94 2.06.94-2.06 2.06-.94-2.06-.94-.94-2.06-.94 2.06-2.06.94z\"/><path d=\"M17.41 7.96l-1.37-1.37c-.4-.4-.92-.59-1.43-.59-.52 0-1.04.2-1.43.59L10.3 9.45l-7.72 7.72c-.78.78-.78 2.05 0 2.83L4 21.41c.39.39.9.59 1.41.59.51 0 1.02-.2 1.41-.59l7.78-7.78 2.81-2.81c.8-.78.8-2.07 0-2.86zM5.41 20L4 18.59l7.72-7.72 1.47 1.35L5.41 20z\"/>\n",
              "  </svg>\n",
              "      </button>\n",
              "      \n",
              "  <style>\n",
              "    .colab-df-container {\n",
              "      display:flex;\n",
              "      flex-wrap:wrap;\n",
              "      gap: 12px;\n",
              "    }\n",
              "\n",
              "    .colab-df-convert {\n",
              "      background-color: #E8F0FE;\n",
              "      border: none;\n",
              "      border-radius: 50%;\n",
              "      cursor: pointer;\n",
              "      display: none;\n",
              "      fill: #1967D2;\n",
              "      height: 32px;\n",
              "      padding: 0 0 0 0;\n",
              "      width: 32px;\n",
              "    }\n",
              "\n",
              "    .colab-df-convert:hover {\n",
              "      background-color: #E2EBFA;\n",
              "      box-shadow: 0px 1px 2px rgba(60, 64, 67, 0.3), 0px 1px 3px 1px rgba(60, 64, 67, 0.15);\n",
              "      fill: #174EA6;\n",
              "    }\n",
              "\n",
              "    [theme=dark] .colab-df-convert {\n",
              "      background-color: #3B4455;\n",
              "      fill: #D2E3FC;\n",
              "    }\n",
              "\n",
              "    [theme=dark] .colab-df-convert:hover {\n",
              "      background-color: #434B5C;\n",
              "      box-shadow: 0px 1px 3px 1px rgba(0, 0, 0, 0.15);\n",
              "      filter: drop-shadow(0px 1px 2px rgba(0, 0, 0, 0.3));\n",
              "      fill: #FFFFFF;\n",
              "    }\n",
              "  </style>\n",
              "\n",
              "      <script>\n",
              "        const buttonEl =\n",
              "          document.querySelector('#df-5dcb6170-df1a-4a3e-83aa-8a8662d8be77 button.colab-df-convert');\n",
              "        buttonEl.style.display =\n",
              "          google.colab.kernel.accessAllowed ? 'block' : 'none';\n",
              "\n",
              "        async function convertToInteractive(key) {\n",
              "          const element = document.querySelector('#df-5dcb6170-df1a-4a3e-83aa-8a8662d8be77');\n",
              "          const dataTable =\n",
              "            await google.colab.kernel.invokeFunction('convertToInteractive',\n",
              "                                                     [key], {});\n",
              "          if (!dataTable) return;\n",
              "\n",
              "          const docLinkHtml = 'Like what you see? Visit the ' +\n",
              "            '<a target=\"_blank\" href=https://colab.research.google.com/notebooks/data_table.ipynb>data table notebook</a>'\n",
              "            + ' to learn more about interactive tables.';\n",
              "          element.innerHTML = '';\n",
              "          dataTable['output_type'] = 'display_data';\n",
              "          await google.colab.output.renderOutput(dataTable, element);\n",
              "          const docLink = document.createElement('div');\n",
              "          docLink.innerHTML = docLinkHtml;\n",
              "          element.appendChild(docLink);\n",
              "        }\n",
              "      </script>\n",
              "    </div>\n",
              "  </div>\n",
              "  "
            ]
          },
          "metadata": {},
          "execution_count": 98
        }
      ],
      "source": [
        "data"
      ]
    },
    {
      "cell_type": "markdown",
      "metadata": {
        "id": "nOpY_pD88b1s"
      },
      "source": [
        "### (ii)  Exploration of independent Numerical variable"
      ]
    },
    {
      "cell_type": "markdown",
      "metadata": {
        "id": "ofn_K11x9b22"
      },
      "source": [
        "\n",
        "1.   What info does the target variablel represent?\n",
        "2.   What is the data type of target variable?\n",
        "3.   Is there a pattern or anomalies in the target variable?\n",
        "4.   Use describe(), what do you infer?\n",
        "5.   Treat outliers.\n",
        "6.   Treat missing values.\n",
        "7.   Plot a histogram, values skewed or normally distributed?\n",
        "8.   How is the independent variable correlated with the target variable?\n",
        "9.   How is this independent variable correlated with the other independent variable?   "
      ]
    },
    {
      "cell_type": "code",
      "execution_count": null,
      "metadata": {
        "colab": {
          "base_uri": "https://localhost:8080/"
        },
        "id": "woUKlM-tJ6zj",
        "outputId": "143d3aac-742d-45ae-b18e-ce616e4c38ca"
      },
      "outputs": [
        {
          "output_type": "stream",
          "name": "stdout",
          "text": [
            "<class 'pandas.core.frame.DataFrame'>\n",
            "Int64Index: 21609 entries, 0 to 21612\n",
            "Data columns (total 17 columns):\n",
            " #   Column                                     Non-Null Count  Dtype  \n",
            "---  ------                                     --------------  -----  \n",
            " 0   ID                                         21609 non-null  int64  \n",
            " 1   Sale Price                                 21609 non-null  float64\n",
            " 2   No of Bedrooms                             21609 non-null  int64  \n",
            " 3   No of Bathrooms                            21605 non-null  float64\n",
            " 4   Flat Area (in Sqft)                        21600 non-null  float64\n",
            " 5   Lot Area (in Sqft)                         21600 non-null  float64\n",
            " 6   No of Floors                               21609 non-null  float64\n",
            " 7   Overall Grade                              21609 non-null  int64  \n",
            " 8   Area of the House from Basement (in Sqft)  21606 non-null  float64\n",
            " 9   Basement Area (in Sqft)                    21609 non-null  int64  \n",
            " 10  Age of House (in Years)                    21609 non-null  int64  \n",
            " 11  Renovated Year                             21609 non-null  int64  \n",
            " 12  Zipcode                                    21608 non-null  float64\n",
            " 13  Latitude                                   21608 non-null  float64\n",
            " 14  Longitude                                  21608 non-null  float64\n",
            " 15  Living Area after Renovation (in Sqft)     21608 non-null  float64\n",
            " 16  Lot Area after Renovation (in Sqft)        21609 non-null  int64  \n",
            "dtypes: float64(10), int64(7)\n",
            "memory usage: 3.0 MB\n"
          ]
        }
      ],
      "source": [
        "# Selecting all features without object data type\n",
        "data_1=data.select_dtypes(exclude = ['object'])\n",
        "data_1.info()"
      ]
    },
    {
      "cell_type": "code",
      "execution_count": null,
      "metadata": {
        "colab": {
          "base_uri": "https://localhost:8080/",
          "height": 520
        },
        "id": "UhGSiAZ4z1tq",
        "outputId": "fa38259e-a99d-458e-ceca-18e58322bf2b"
      },
      "outputs": [
        {
          "output_type": "execute_result",
          "data": {
            "text/plain": [
              "               ID  Sale Price  No of Bedrooms  No of Bathrooms  \\\n",
              "0      7129300520    221900.0               3             1.00   \n",
              "1      6414100192    538000.0               3             2.25   \n",
              "2      5631500400    180000.0               2             1.00   \n",
              "3      2487200875    604000.0               4             3.00   \n",
              "4      1954400510    510000.0               3             2.00   \n",
              "...           ...         ...             ...              ...   \n",
              "21608   263000018    360000.0               3             2.50   \n",
              "21609  6600060120    400000.0               4             2.50   \n",
              "21610  1523300141    402101.0               2             0.75   \n",
              "21611   291310100    400000.0               3             2.50   \n",
              "21612  1523300157    325000.0               2             0.75   \n",
              "\n",
              "       Flat Area (in Sqft)  Lot Area (in Sqft)  No of Floors  Overall Grade  \\\n",
              "0                   1180.0              5650.0           1.0              7   \n",
              "1                   2570.0              7242.0           2.0              7   \n",
              "2                    770.0             10000.0           1.0              6   \n",
              "3                   1960.0              5000.0           1.0              7   \n",
              "4                   1680.0              8080.0           1.0              8   \n",
              "...                    ...                 ...           ...            ...   \n",
              "21608               1530.0              1131.0           3.0              8   \n",
              "21609               2310.0              5813.0           2.0              8   \n",
              "21610               1020.0              1350.0           2.0              7   \n",
              "21611               1600.0              2388.0           2.0              8   \n",
              "21612               1020.0              1076.0           2.0              7   \n",
              "\n",
              "       Area of the House from Basement (in Sqft)  Basement Area (in Sqft)  \\\n",
              "0                                         1180.0                        0   \n",
              "1                                         2170.0                      400   \n",
              "2                                          770.0                        0   \n",
              "3                                         1050.0                      910   \n",
              "4                                         1680.0                        0   \n",
              "...                                          ...                      ...   \n",
              "21608                                     1530.0                        0   \n",
              "21609                                     2310.0                        0   \n",
              "21610                                     1020.0                        0   \n",
              "21611                                     1600.0                        0   \n",
              "21612                                     1020.0                        0   \n",
              "\n",
              "       Age of House (in Years)  Renovated Year  Zipcode  Latitude  Longitude  \\\n",
              "0                           63               0  98178.0   47.5112   -122.257   \n",
              "1                           67            1991  98125.0   47.7210   -122.319   \n",
              "2                           85               0  98028.0   47.7379   -122.233   \n",
              "3                           53               0  98136.0   47.5208   -122.393   \n",
              "4                           31               0  98074.0   47.6168   -122.045   \n",
              "...                        ...             ...      ...       ...        ...   \n",
              "21608                        9               0  98103.0   47.6993   -122.346   \n",
              "21609                        4               0  98146.0   47.5107   -122.362   \n",
              "21610                        9               0  98144.0   47.5944   -122.299   \n",
              "21611                       14               0  98027.0   47.5345   -122.069   \n",
              "21612                       10               0  98144.0   47.5941   -122.299   \n",
              "\n",
              "       Living Area after Renovation (in Sqft)  \\\n",
              "0                                      1340.0   \n",
              "1                                      1690.0   \n",
              "2                                      2720.0   \n",
              "3                                      1360.0   \n",
              "4                                      1800.0   \n",
              "...                                       ...   \n",
              "21608                                  1530.0   \n",
              "21609                                  1830.0   \n",
              "21610                                  1020.0   \n",
              "21611                                  1410.0   \n",
              "21612                                  1020.0   \n",
              "\n",
              "       Lot Area after Renovation (in Sqft)  \n",
              "0                                     5650  \n",
              "1                                     7639  \n",
              "2                                     8062  \n",
              "3                                     5000  \n",
              "4                                     7503  \n",
              "...                                    ...  \n",
              "21608                                 1509  \n",
              "21609                                 7200  \n",
              "21610                                 2007  \n",
              "21611                                 1287  \n",
              "21612                                 1357  \n",
              "\n",
              "[21609 rows x 17 columns]"
            ],
            "text/html": [
              "\n",
              "  <div id=\"df-840869de-ae60-43c9-b2b2-9efe3211f082\">\n",
              "    <div class=\"colab-df-container\">\n",
              "      <div>\n",
              "<style scoped>\n",
              "    .dataframe tbody tr th:only-of-type {\n",
              "        vertical-align: middle;\n",
              "    }\n",
              "\n",
              "    .dataframe tbody tr th {\n",
              "        vertical-align: top;\n",
              "    }\n",
              "\n",
              "    .dataframe thead th {\n",
              "        text-align: right;\n",
              "    }\n",
              "</style>\n",
              "<table border=\"1\" class=\"dataframe\">\n",
              "  <thead>\n",
              "    <tr style=\"text-align: right;\">\n",
              "      <th></th>\n",
              "      <th>ID</th>\n",
              "      <th>Sale Price</th>\n",
              "      <th>No of Bedrooms</th>\n",
              "      <th>No of Bathrooms</th>\n",
              "      <th>Flat Area (in Sqft)</th>\n",
              "      <th>Lot Area (in Sqft)</th>\n",
              "      <th>No of Floors</th>\n",
              "      <th>Overall Grade</th>\n",
              "      <th>Area of the House from Basement (in Sqft)</th>\n",
              "      <th>Basement Area (in Sqft)</th>\n",
              "      <th>Age of House (in Years)</th>\n",
              "      <th>Renovated Year</th>\n",
              "      <th>Zipcode</th>\n",
              "      <th>Latitude</th>\n",
              "      <th>Longitude</th>\n",
              "      <th>Living Area after Renovation (in Sqft)</th>\n",
              "      <th>Lot Area after Renovation (in Sqft)</th>\n",
              "    </tr>\n",
              "  </thead>\n",
              "  <tbody>\n",
              "    <tr>\n",
              "      <th>0</th>\n",
              "      <td>7129300520</td>\n",
              "      <td>221900.0</td>\n",
              "      <td>3</td>\n",
              "      <td>1.00</td>\n",
              "      <td>1180.0</td>\n",
              "      <td>5650.0</td>\n",
              "      <td>1.0</td>\n",
              "      <td>7</td>\n",
              "      <td>1180.0</td>\n",
              "      <td>0</td>\n",
              "      <td>63</td>\n",
              "      <td>0</td>\n",
              "      <td>98178.0</td>\n",
              "      <td>47.5112</td>\n",
              "      <td>-122.257</td>\n",
              "      <td>1340.0</td>\n",
              "      <td>5650</td>\n",
              "    </tr>\n",
              "    <tr>\n",
              "      <th>1</th>\n",
              "      <td>6414100192</td>\n",
              "      <td>538000.0</td>\n",
              "      <td>3</td>\n",
              "      <td>2.25</td>\n",
              "      <td>2570.0</td>\n",
              "      <td>7242.0</td>\n",
              "      <td>2.0</td>\n",
              "      <td>7</td>\n",
              "      <td>2170.0</td>\n",
              "      <td>400</td>\n",
              "      <td>67</td>\n",
              "      <td>1991</td>\n",
              "      <td>98125.0</td>\n",
              "      <td>47.7210</td>\n",
              "      <td>-122.319</td>\n",
              "      <td>1690.0</td>\n",
              "      <td>7639</td>\n",
              "    </tr>\n",
              "    <tr>\n",
              "      <th>2</th>\n",
              "      <td>5631500400</td>\n",
              "      <td>180000.0</td>\n",
              "      <td>2</td>\n",
              "      <td>1.00</td>\n",
              "      <td>770.0</td>\n",
              "      <td>10000.0</td>\n",
              "      <td>1.0</td>\n",
              "      <td>6</td>\n",
              "      <td>770.0</td>\n",
              "      <td>0</td>\n",
              "      <td>85</td>\n",
              "      <td>0</td>\n",
              "      <td>98028.0</td>\n",
              "      <td>47.7379</td>\n",
              "      <td>-122.233</td>\n",
              "      <td>2720.0</td>\n",
              "      <td>8062</td>\n",
              "    </tr>\n",
              "    <tr>\n",
              "      <th>3</th>\n",
              "      <td>2487200875</td>\n",
              "      <td>604000.0</td>\n",
              "      <td>4</td>\n",
              "      <td>3.00</td>\n",
              "      <td>1960.0</td>\n",
              "      <td>5000.0</td>\n",
              "      <td>1.0</td>\n",
              "      <td>7</td>\n",
              "      <td>1050.0</td>\n",
              "      <td>910</td>\n",
              "      <td>53</td>\n",
              "      <td>0</td>\n",
              "      <td>98136.0</td>\n",
              "      <td>47.5208</td>\n",
              "      <td>-122.393</td>\n",
              "      <td>1360.0</td>\n",
              "      <td>5000</td>\n",
              "    </tr>\n",
              "    <tr>\n",
              "      <th>4</th>\n",
              "      <td>1954400510</td>\n",
              "      <td>510000.0</td>\n",
              "      <td>3</td>\n",
              "      <td>2.00</td>\n",
              "      <td>1680.0</td>\n",
              "      <td>8080.0</td>\n",
              "      <td>1.0</td>\n",
              "      <td>8</td>\n",
              "      <td>1680.0</td>\n",
              "      <td>0</td>\n",
              "      <td>31</td>\n",
              "      <td>0</td>\n",
              "      <td>98074.0</td>\n",
              "      <td>47.6168</td>\n",
              "      <td>-122.045</td>\n",
              "      <td>1800.0</td>\n",
              "      <td>7503</td>\n",
              "    </tr>\n",
              "    <tr>\n",
              "      <th>...</th>\n",
              "      <td>...</td>\n",
              "      <td>...</td>\n",
              "      <td>...</td>\n",
              "      <td>...</td>\n",
              "      <td>...</td>\n",
              "      <td>...</td>\n",
              "      <td>...</td>\n",
              "      <td>...</td>\n",
              "      <td>...</td>\n",
              "      <td>...</td>\n",
              "      <td>...</td>\n",
              "      <td>...</td>\n",
              "      <td>...</td>\n",
              "      <td>...</td>\n",
              "      <td>...</td>\n",
              "      <td>...</td>\n",
              "      <td>...</td>\n",
              "    </tr>\n",
              "    <tr>\n",
              "      <th>21608</th>\n",
              "      <td>263000018</td>\n",
              "      <td>360000.0</td>\n",
              "      <td>3</td>\n",
              "      <td>2.50</td>\n",
              "      <td>1530.0</td>\n",
              "      <td>1131.0</td>\n",
              "      <td>3.0</td>\n",
              "      <td>8</td>\n",
              "      <td>1530.0</td>\n",
              "      <td>0</td>\n",
              "      <td>9</td>\n",
              "      <td>0</td>\n",
              "      <td>98103.0</td>\n",
              "      <td>47.6993</td>\n",
              "      <td>-122.346</td>\n",
              "      <td>1530.0</td>\n",
              "      <td>1509</td>\n",
              "    </tr>\n",
              "    <tr>\n",
              "      <th>21609</th>\n",
              "      <td>6600060120</td>\n",
              "      <td>400000.0</td>\n",
              "      <td>4</td>\n",
              "      <td>2.50</td>\n",
              "      <td>2310.0</td>\n",
              "      <td>5813.0</td>\n",
              "      <td>2.0</td>\n",
              "      <td>8</td>\n",
              "      <td>2310.0</td>\n",
              "      <td>0</td>\n",
              "      <td>4</td>\n",
              "      <td>0</td>\n",
              "      <td>98146.0</td>\n",
              "      <td>47.5107</td>\n",
              "      <td>-122.362</td>\n",
              "      <td>1830.0</td>\n",
              "      <td>7200</td>\n",
              "    </tr>\n",
              "    <tr>\n",
              "      <th>21610</th>\n",
              "      <td>1523300141</td>\n",
              "      <td>402101.0</td>\n",
              "      <td>2</td>\n",
              "      <td>0.75</td>\n",
              "      <td>1020.0</td>\n",
              "      <td>1350.0</td>\n",
              "      <td>2.0</td>\n",
              "      <td>7</td>\n",
              "      <td>1020.0</td>\n",
              "      <td>0</td>\n",
              "      <td>9</td>\n",
              "      <td>0</td>\n",
              "      <td>98144.0</td>\n",
              "      <td>47.5944</td>\n",
              "      <td>-122.299</td>\n",
              "      <td>1020.0</td>\n",
              "      <td>2007</td>\n",
              "    </tr>\n",
              "    <tr>\n",
              "      <th>21611</th>\n",
              "      <td>291310100</td>\n",
              "      <td>400000.0</td>\n",
              "      <td>3</td>\n",
              "      <td>2.50</td>\n",
              "      <td>1600.0</td>\n",
              "      <td>2388.0</td>\n",
              "      <td>2.0</td>\n",
              "      <td>8</td>\n",
              "      <td>1600.0</td>\n",
              "      <td>0</td>\n",
              "      <td>14</td>\n",
              "      <td>0</td>\n",
              "      <td>98027.0</td>\n",
              "      <td>47.5345</td>\n",
              "      <td>-122.069</td>\n",
              "      <td>1410.0</td>\n",
              "      <td>1287</td>\n",
              "    </tr>\n",
              "    <tr>\n",
              "      <th>21612</th>\n",
              "      <td>1523300157</td>\n",
              "      <td>325000.0</td>\n",
              "      <td>2</td>\n",
              "      <td>0.75</td>\n",
              "      <td>1020.0</td>\n",
              "      <td>1076.0</td>\n",
              "      <td>2.0</td>\n",
              "      <td>7</td>\n",
              "      <td>1020.0</td>\n",
              "      <td>0</td>\n",
              "      <td>10</td>\n",
              "      <td>0</td>\n",
              "      <td>98144.0</td>\n",
              "      <td>47.5941</td>\n",
              "      <td>-122.299</td>\n",
              "      <td>1020.0</td>\n",
              "      <td>1357</td>\n",
              "    </tr>\n",
              "  </tbody>\n",
              "</table>\n",
              "<p>21609 rows × 17 columns</p>\n",
              "</div>\n",
              "      <button class=\"colab-df-convert\" onclick=\"convertToInteractive('df-840869de-ae60-43c9-b2b2-9efe3211f082')\"\n",
              "              title=\"Convert this dataframe to an interactive table.\"\n",
              "              style=\"display:none;\">\n",
              "        \n",
              "  <svg xmlns=\"http://www.w3.org/2000/svg\" height=\"24px\"viewBox=\"0 0 24 24\"\n",
              "       width=\"24px\">\n",
              "    <path d=\"M0 0h24v24H0V0z\" fill=\"none\"/>\n",
              "    <path d=\"M18.56 5.44l.94 2.06.94-2.06 2.06-.94-2.06-.94-.94-2.06-.94 2.06-2.06.94zm-11 1L8.5 8.5l.94-2.06 2.06-.94-2.06-.94L8.5 2.5l-.94 2.06-2.06.94zm10 10l.94 2.06.94-2.06 2.06-.94-2.06-.94-.94-2.06-.94 2.06-2.06.94z\"/><path d=\"M17.41 7.96l-1.37-1.37c-.4-.4-.92-.59-1.43-.59-.52 0-1.04.2-1.43.59L10.3 9.45l-7.72 7.72c-.78.78-.78 2.05 0 2.83L4 21.41c.39.39.9.59 1.41.59.51 0 1.02-.2 1.41-.59l7.78-7.78 2.81-2.81c.8-.78.8-2.07 0-2.86zM5.41 20L4 18.59l7.72-7.72 1.47 1.35L5.41 20z\"/>\n",
              "  </svg>\n",
              "      </button>\n",
              "      \n",
              "  <style>\n",
              "    .colab-df-container {\n",
              "      display:flex;\n",
              "      flex-wrap:wrap;\n",
              "      gap: 12px;\n",
              "    }\n",
              "\n",
              "    .colab-df-convert {\n",
              "      background-color: #E8F0FE;\n",
              "      border: none;\n",
              "      border-radius: 50%;\n",
              "      cursor: pointer;\n",
              "      display: none;\n",
              "      fill: #1967D2;\n",
              "      height: 32px;\n",
              "      padding: 0 0 0 0;\n",
              "      width: 32px;\n",
              "    }\n",
              "\n",
              "    .colab-df-convert:hover {\n",
              "      background-color: #E2EBFA;\n",
              "      box-shadow: 0px 1px 2px rgba(60, 64, 67, 0.3), 0px 1px 3px 1px rgba(60, 64, 67, 0.15);\n",
              "      fill: #174EA6;\n",
              "    }\n",
              "\n",
              "    [theme=dark] .colab-df-convert {\n",
              "      background-color: #3B4455;\n",
              "      fill: #D2E3FC;\n",
              "    }\n",
              "\n",
              "    [theme=dark] .colab-df-convert:hover {\n",
              "      background-color: #434B5C;\n",
              "      box-shadow: 0px 1px 3px 1px rgba(0, 0, 0, 0.15);\n",
              "      filter: drop-shadow(0px 1px 2px rgba(0, 0, 0, 0.3));\n",
              "      fill: #FFFFFF;\n",
              "    }\n",
              "  </style>\n",
              "\n",
              "      <script>\n",
              "        const buttonEl =\n",
              "          document.querySelector('#df-840869de-ae60-43c9-b2b2-9efe3211f082 button.colab-df-convert');\n",
              "        buttonEl.style.display =\n",
              "          google.colab.kernel.accessAllowed ? 'block' : 'none';\n",
              "\n",
              "        async function convertToInteractive(key) {\n",
              "          const element = document.querySelector('#df-840869de-ae60-43c9-b2b2-9efe3211f082');\n",
              "          const dataTable =\n",
              "            await google.colab.kernel.invokeFunction('convertToInteractive',\n",
              "                                                     [key], {});\n",
              "          if (!dataTable) return;\n",
              "\n",
              "          const docLinkHtml = 'Like what you see? Visit the ' +\n",
              "            '<a target=\"_blank\" href=https://colab.research.google.com/notebooks/data_table.ipynb>data table notebook</a>'\n",
              "            + ' to learn more about interactive tables.';\n",
              "          element.innerHTML = '';\n",
              "          dataTable['output_type'] = 'display_data';\n",
              "          await google.colab.output.renderOutput(dataTable, element);\n",
              "          const docLink = document.createElement('div');\n",
              "          docLink.innerHTML = docLinkHtml;\n",
              "          element.appendChild(docLink);\n",
              "        }\n",
              "      </script>\n",
              "    </div>\n",
              "  </div>\n",
              "  "
            ]
          },
          "metadata": {},
          "execution_count": 100
        }
      ],
      "source": [
        "data_1\n"
      ]
    },
    {
      "cell_type": "code",
      "execution_count": null,
      "metadata": {
        "colab": {
          "base_uri": "https://localhost:8080/"
        },
        "id": "dCi9KzLq5OXo",
        "outputId": "ec92dccc-8312-4bdc-d268-fbc94e60d5fa"
      },
      "outputs": [
        {
          "output_type": "stream",
          "name": "stdout",
          "text": [
            "<class 'pandas.core.frame.DataFrame'>\n",
            "Int64Index: 21609 entries, 0 to 21612\n",
            "Data columns (total 7 columns):\n",
            " #   Column                                     Non-Null Count  Dtype  \n",
            "---  ------                                     --------------  -----  \n",
            " 0   No of Bathrooms                            21605 non-null  float64\n",
            " 1   Flat Area (in Sqft)                        21600 non-null  float64\n",
            " 2   Lot Area (in Sqft)                         21600 non-null  float64\n",
            " 3   Area of the House from Basement (in Sqft)  21606 non-null  float64\n",
            " 4   Latitude                                   21608 non-null  float64\n",
            " 5   Longitude                                  21608 non-null  float64\n",
            " 6   Living Area after Renovation (in Sqft)     21608 non-null  float64\n",
            "dtypes: float64(7)\n",
            "memory usage: 1.3 MB\n"
          ]
        }
      ],
      "source": [
        "#Selecting features with missing values\n",
        "numerical_columns=data[['No of Bathrooms','Flat Area (in Sqft)','Lot Area (in Sqft)','Area of the House from Basement (in Sqft)','Latitude','Longitude','Living Area after Renovation (in Sqft)']]\n",
        "numerical_columns.info()\n"
      ]
    },
    {
      "cell_type": "code",
      "execution_count": null,
      "metadata": {
        "id": "KlxwSQK2KgvR"
      },
      "outputs": [],
      "source": [
        "from sklearn.impute import SimpleImputer\n",
        "imputer = SimpleImputer(missing_values=np.nan,strategy='median')\n",
        "data[['No of Bathrooms','Flat Area (in Sqft)','Lot Area (in Sqft)','Area of the House from Basement (in Sqft)','Latitude','Longitude','Living Area after Renovation (in Sqft)']]=imputer.fit_transform(numerical_columns)\n"
      ]
    },
    {
      "cell_type": "code",
      "execution_count": null,
      "metadata": {
        "colab": {
          "base_uri": "https://localhost:8080/"
        },
        "id": "60YnipBtlJmD",
        "outputId": "d7da733e-3a54-4c10-f941-a0f702475b49"
      },
      "outputs": [
        {
          "output_type": "stream",
          "name": "stdout",
          "text": [
            "<class 'pandas.core.frame.DataFrame'>\n",
            "Int64Index: 21609 entries, 0 to 21612\n",
            "Data columns (total 21 columns):\n",
            " #   Column                                     Non-Null Count  Dtype  \n",
            "---  ------                                     --------------  -----  \n",
            " 0   ID                                         21609 non-null  int64  \n",
            " 1   Date House was Sold                        21609 non-null  object \n",
            " 2   Sale Price                                 21609 non-null  float64\n",
            " 3   No of Bedrooms                             21609 non-null  int64  \n",
            " 4   No of Bathrooms                            21609 non-null  float64\n",
            " 5   Flat Area (in Sqft)                        21609 non-null  float64\n",
            " 6   Lot Area (in Sqft)                         21609 non-null  float64\n",
            " 7   No of Floors                               21609 non-null  float64\n",
            " 8   Waterfront View                            21609 non-null  object \n",
            " 9   No of Times Visited                        21609 non-null  object \n",
            " 10  Condition of the House                     21609 non-null  object \n",
            " 11  Overall Grade                              21609 non-null  int64  \n",
            " 12  Area of the House from Basement (in Sqft)  21609 non-null  float64\n",
            " 13  Basement Area (in Sqft)                    21609 non-null  int64  \n",
            " 14  Age of House (in Years)                    21609 non-null  int64  \n",
            " 15  Renovated Year                             21609 non-null  int64  \n",
            " 16  Zipcode                                    21608 non-null  float64\n",
            " 17  Latitude                                   21609 non-null  float64\n",
            " 18  Longitude                                  21609 non-null  float64\n",
            " 19  Living Area after Renovation (in Sqft)     21609 non-null  float64\n",
            " 20  Lot Area after Renovation (in Sqft)        21609 non-null  int64  \n",
            "dtypes: float64(10), int64(7), object(4)\n",
            "memory usage: 3.6+ MB\n"
          ]
        }
      ],
      "source": [
        "data.info()"
      ]
    },
    {
      "cell_type": "code",
      "execution_count": null,
      "metadata": {
        "colab": {
          "base_uri": "https://localhost:8080/"
        },
        "id": "HVntOtieaJME",
        "outputId": "dce54989-04de-4591-ed19-adfdc1bacc50"
      },
      "outputs": [
        {
          "output_type": "stream",
          "name": "stdout",
          "text": [
            "<class 'pandas.core.frame.DataFrame'>\n",
            "Int64Index: 21609 entries, 0 to 21612\n",
            "Data columns (total 21 columns):\n",
            " #   Column                                     Non-Null Count  Dtype  \n",
            "---  ------                                     --------------  -----  \n",
            " 0   ID                                         21609 non-null  int64  \n",
            " 1   Date House was Sold                        21609 non-null  object \n",
            " 2   Sale Price                                 21609 non-null  float64\n",
            " 3   No of Bedrooms                             21609 non-null  int64  \n",
            " 4   No of Bathrooms                            21609 non-null  float64\n",
            " 5   Flat Area (in Sqft)                        21609 non-null  float64\n",
            " 6   Lot Area (in Sqft)                         21609 non-null  float64\n",
            " 7   No of Floors                               21609 non-null  float64\n",
            " 8   Waterfront View                            21609 non-null  object \n",
            " 9   No of Times Visited                        21609 non-null  object \n",
            " 10  Condition of the House                     21609 non-null  object \n",
            " 11  Overall Grade                              21609 non-null  int64  \n",
            " 12  Area of the House from Basement (in Sqft)  21609 non-null  float64\n",
            " 13  Basement Area (in Sqft)                    21609 non-null  int64  \n",
            " 14  Age of House (in Years)                    21609 non-null  int64  \n",
            " 15  Renovated Year                             21609 non-null  int64  \n",
            " 16  Zipcode                                    21609 non-null  float64\n",
            " 17  Latitude                                   21609 non-null  float64\n",
            " 18  Longitude                                  21609 non-null  float64\n",
            " 19  Living Area after Renovation (in Sqft)     21609 non-null  float64\n",
            " 20  Lot Area after Renovation (in Sqft)        21609 non-null  int64  \n",
            "dtypes: float64(10), int64(7), object(4)\n",
            "memory usage: 3.6+ MB\n"
          ]
        }
      ],
      "source": [
        "column=data['Zipcode'].values.reshape(-1,1)\n",
        "\n",
        "imputer =SimpleImputer(missing_values=np.nan,strategy='most_frequent')\n",
        "data['Zipcode']=imputer.fit_transform(column)\n",
        "data.info()"
      ]
    },
    {
      "cell_type": "code",
      "execution_count": null,
      "metadata": {
        "colab": {
          "base_uri": "https://localhost:8080/"
        },
        "id": "G_o56XoUkA8j",
        "outputId": "f74da70a-c2d1-41bf-b102-43b52be10a1c"
      },
      "outputs": [
        {
          "output_type": "stream",
          "name": "stdout",
          "text": [
            "<class 'pandas.core.frame.DataFrame'>\n",
            "Int64Index: 21609 entries, 0 to 21612\n",
            "Data columns (total 21 columns):\n",
            " #   Column                                     Non-Null Count  Dtype  \n",
            "---  ------                                     --------------  -----  \n",
            " 0   ID                                         21609 non-null  int64  \n",
            " 1   Date House was Sold                        21609 non-null  object \n",
            " 2   Sale Price                                 21609 non-null  float64\n",
            " 3   No of Bedrooms                             21609 non-null  int64  \n",
            " 4   No of Bathrooms                            21609 non-null  float64\n",
            " 5   Flat Area (in Sqft)                        21609 non-null  float64\n",
            " 6   Lot Area (in Sqft)                         21609 non-null  float64\n",
            " 7   No of Floors                               21609 non-null  float64\n",
            " 8   Waterfront View                            21609 non-null  object \n",
            " 9   No of Times Visited                        21609 non-null  object \n",
            " 10  Condition of the House                     21609 non-null  object \n",
            " 11  Overall Grade                              21609 non-null  int64  \n",
            " 12  Area of the House from Basement (in Sqft)  21609 non-null  float64\n",
            " 13  Basement Area (in Sqft)                    21609 non-null  int64  \n",
            " 14  Age of House (in Years)                    21609 non-null  int64  \n",
            " 15  Renovated Year                             21609 non-null  int64  \n",
            " 16  Zipcode                                    21609 non-null  object \n",
            " 17  Latitude                                   21609 non-null  float64\n",
            " 18  Longitude                                  21609 non-null  float64\n",
            " 19  Living Area after Renovation (in Sqft)     21609 non-null  float64\n",
            " 20  Lot Area after Renovation (in Sqft)        21609 non-null  int64  \n",
            "dtypes: float64(9), int64(7), object(5)\n",
            "memory usage: 3.6+ MB\n"
          ]
        }
      ],
      "source": [
        "# Converting Zipcode into object datatype\n",
        "data['Zipcode']=data['Zipcode'].astype(object)\n",
        "data.info()"
      ]
    },
    {
      "cell_type": "code",
      "execution_count": null,
      "metadata": {
        "id": "cXnxU-PTBeC3"
      },
      "outputs": [],
      "source": [
        ""
      ]
    },
    {
      "cell_type": "code",
      "execution_count": null,
      "metadata": {
        "id": "aEEXeDUqBdw3"
      },
      "outputs": [],
      "source": [
        ""
      ]
    },
    {
      "cell_type": "code",
      "execution_count": null,
      "metadata": {
        "id": "SuRNynXDHYU-"
      },
      "outputs": [],
      "source": [
        ""
      ]
    },
    {
      "cell_type": "markdown",
      "metadata": {
        "id": "dCPL6iF1XzJU"
      },
      "source": [
        "### i ) Transforming 'number of times visited' object to numeric :"
      ]
    },
    {
      "cell_type": "code",
      "execution_count": null,
      "metadata": {
        "colab": {
          "base_uri": "https://localhost:8080/"
        },
        "id": "9ULF6XsFW6cE",
        "outputId": "265aaf2a-6a27-4c0e-8210-37fd72dcdfce"
      },
      "outputs": [
        {
          "output_type": "execute_result",
          "data": {
            "text/plain": [
              "array(['None', 'Thrice', 'Four', 'Twice', 'Once'], dtype=object)"
            ]
          },
          "metadata": {},
          "execution_count": 106
        }
      ],
      "source": [
        "# Finding unique values of the 'No of Times Visited' feature\n",
        "data['No of Times Visited'].unique()\n"
      ]
    },
    {
      "cell_type": "code",
      "execution_count": null,
      "metadata": {
        "id": "He1wVwcAW6PR"
      },
      "outputs": [],
      "source": [
        "mapping = {\n",
        "   'None' : '0',\n",
        "   'Once':'1',\n",
        "   'Twice':'2',\n",
        "   'Thrice':'3',\n",
        "   'Four':'4'\n",
        "}"
      ]
    },
    {
      "cell_type": "code",
      "execution_count": null,
      "metadata": {
        "colab": {
          "base_uri": "https://localhost:8080/"
        },
        "id": "bximFJXZW6Bj",
        "outputId": "a4259879-e9c9-4362-cf03-45a8eaff168b"
      },
      "outputs": [
        {
          "output_type": "execute_result",
          "data": {
            "text/plain": [
              "array(['0', '3', '4', '2', '1'], dtype=object)"
            ]
          },
          "metadata": {},
          "execution_count": 108
        }
      ],
      "source": [
        "data['No of Times Visited']=data['No of Times Visited'].map(mapping)\n",
        "data['No of Times Visited'].unique()"
      ]
    },
    {
      "cell_type": "markdown",
      "metadata": {
        "id": "6fJbw3dh4flG"
      },
      "source": [
        "###ii) Creating a fearture called Ever Renovated :"
      ]
    },
    {
      "cell_type": "code",
      "execution_count": null,
      "metadata": {
        "colab": {
          "base_uri": "https://localhost:8080/"
        },
        "id": "NuRzuQUu4WJP",
        "outputId": "3aca59da-8fa4-4aa3-fe8a-8866a209c9c3"
      },
      "outputs": [
        {
          "output_type": "execute_result",
          "data": {
            "text/plain": [
              "0         No\n",
              "1        Yes\n",
              "2         No\n",
              "3         No\n",
              "4         No\n",
              "        ... \n",
              "21608     No\n",
              "21609     No\n",
              "21610     No\n",
              "21611     No\n",
              "21612     No\n",
              "Name: Ever Renovated, Length: 21609, dtype: object"
            ]
          },
          "metadata": {},
          "execution_count": 109
        }
      ],
      "source": [
        "data['Ever Renovated']= np.where(data['Renovated Year']==0,'No','Yes')\n",
        "data['Ever Renovated']"
      ]
    },
    {
      "cell_type": "markdown",
      "metadata": {
        "id": "sWP_0kgB5Eem"
      },
      "source": [
        "### iii) Creating a new freature named Purchase year:"
      ]
    },
    {
      "cell_type": "code",
      "execution_count": null,
      "metadata": {
        "colab": {
          "base_uri": "https://localhost:8080/"
        },
        "id": "vAyum3QYfgFc",
        "outputId": "1f452374-39e7-4d5d-eb40-9a5d3c630ad1"
      },
      "outputs": [
        {
          "output_type": "execute_result",
          "data": {
            "text/plain": [
              "0        2017\n",
              "1        2017\n",
              "2        2016\n",
              "3        2017\n",
              "4        2016\n",
              "         ... \n",
              "21608    2017\n",
              "21609    2016\n",
              "21610    2017\n",
              "21611    2016\n",
              "21612    2017\n",
              "Name: Purchase Year, Length: 21609, dtype: int64"
            ]
          },
          "metadata": {},
          "execution_count": 110
        }
      ],
      "source": [
        "data['Purchase Year']= pd.DatetimeIndex(data['Date House was Sold']).year\n",
        "data['Purchase Year']"
      ]
    },
    {
      "cell_type": "markdown",
      "metadata": {
        "id": "6KLNxIT18bes"
      },
      "source": [
        "### iv) Creating a new feature Yr Since Renovation :"
      ]
    },
    {
      "cell_type": "code",
      "execution_count": null,
      "metadata": {
        "colab": {
          "base_uri": "https://localhost:8080/"
        },
        "id": "um74kQGf8RQD",
        "outputId": "a547a439-06cc-4638-d26b-e6411a142387"
      },
      "outputs": [
        {
          "output_type": "execute_result",
          "data": {
            "text/plain": [
              "0         0\n",
              "1        26\n",
              "2         0\n",
              "3         0\n",
              "4         0\n",
              "         ..\n",
              "21608     0\n",
              "21609     0\n",
              "21610     0\n",
              "21611     0\n",
              "21612     0\n",
              "Name: Yr Since Renovation, Length: 21609, dtype: int64"
            ]
          },
          "metadata": {},
          "execution_count": 111
        }
      ],
      "source": [
        "data['Yr Since Renovation']=np.where(data['Ever Renovated']=='Yes',abs(data['Purchase Year']-data['Renovated Year']),0)\n",
        "data['Yr Since Renovation']"
      ]
    },
    {
      "cell_type": "code",
      "execution_count": null,
      "metadata": {
        "id": "IJIDYDE5H07i"
      },
      "outputs": [],
      "source": [
        ""
      ]
    },
    {
      "cell_type": "code",
      "execution_count": null,
      "metadata": {
        "id": "6mVQvAjCH0yG"
      },
      "outputs": [],
      "source": [
        ""
      ]
    },
    {
      "cell_type": "code",
      "execution_count": null,
      "metadata": {
        "colab": {
          "base_uri": "https://localhost:8080/",
          "height": 300
        },
        "id": "4oWcOjusAUdS",
        "outputId": "bbae8029-2ea4-4a61-b22d-6b1b870e47e6"
      },
      "outputs": [
        {
          "output_type": "execute_result",
          "data": {
            "text/plain": [
              "                 ID  No of Bedrooms  Overall Grade  Basement Area (in Sqft)  \\\n",
              "count  2.160900e+04    21609.000000   21609.000000             21609.000000   \n",
              "mean   4.580686e+09        3.370771       7.623490               291.513490   \n",
              "std    2.876653e+09        0.929916       1.105519               442.570991   \n",
              "min    1.000102e+06        0.000000       1.000000                 0.000000   \n",
              "25%    2.123049e+09        3.000000       7.000000                 0.000000   \n",
              "50%    3.904931e+09        3.000000       7.000000                 0.000000   \n",
              "75%    7.308900e+09        4.000000       8.000000               560.000000   \n",
              "max    9.900000e+09       33.000000      10.000000              4820.000000   \n",
              "\n",
              "       Age of House (in Years)  Renovated Year  \\\n",
              "count             21609.000000    21609.000000   \n",
              "mean                 46.999722       84.417881   \n",
              "std                  29.373317      401.714775   \n",
              "min                   3.000000        0.000000   \n",
              "25%                  21.000000        0.000000   \n",
              "50%                  43.000000        0.000000   \n",
              "75%                  67.000000        0.000000   \n",
              "max                 118.000000     2015.000000   \n",
              "\n",
              "       Lot Area after Renovation (in Sqft)  Purchase Year  Yr Since Renovation  \n",
              "count                         21609.000000   21609.000000         21609.000000  \n",
              "mean                          12769.770790    2016.677079             0.884122  \n",
              "std                           27306.508841       0.467604             5.279629  \n",
              "min                             651.000000    2016.000000             0.000000  \n",
              "25%                            5100.000000    2016.000000             0.000000  \n",
              "50%                            7620.000000    2017.000000             0.000000  \n",
              "75%                           10084.000000    2017.000000             0.000000  \n",
              "max                          871200.000000    2017.000000            83.000000  "
            ],
            "text/html": [
              "\n",
              "  <div id=\"df-c4c1f39c-ec59-477b-9d52-d9785b91ba9f\">\n",
              "    <div class=\"colab-df-container\">\n",
              "      <div>\n",
              "<style scoped>\n",
              "    .dataframe tbody tr th:only-of-type {\n",
              "        vertical-align: middle;\n",
              "    }\n",
              "\n",
              "    .dataframe tbody tr th {\n",
              "        vertical-align: top;\n",
              "    }\n",
              "\n",
              "    .dataframe thead th {\n",
              "        text-align: right;\n",
              "    }\n",
              "</style>\n",
              "<table border=\"1\" class=\"dataframe\">\n",
              "  <thead>\n",
              "    <tr style=\"text-align: right;\">\n",
              "      <th></th>\n",
              "      <th>ID</th>\n",
              "      <th>No of Bedrooms</th>\n",
              "      <th>Overall Grade</th>\n",
              "      <th>Basement Area (in Sqft)</th>\n",
              "      <th>Age of House (in Years)</th>\n",
              "      <th>Renovated Year</th>\n",
              "      <th>Lot Area after Renovation (in Sqft)</th>\n",
              "      <th>Purchase Year</th>\n",
              "      <th>Yr Since Renovation</th>\n",
              "    </tr>\n",
              "  </thead>\n",
              "  <tbody>\n",
              "    <tr>\n",
              "      <th>count</th>\n",
              "      <td>2.160900e+04</td>\n",
              "      <td>21609.000000</td>\n",
              "      <td>21609.000000</td>\n",
              "      <td>21609.000000</td>\n",
              "      <td>21609.000000</td>\n",
              "      <td>21609.000000</td>\n",
              "      <td>21609.000000</td>\n",
              "      <td>21609.000000</td>\n",
              "      <td>21609.000000</td>\n",
              "    </tr>\n",
              "    <tr>\n",
              "      <th>mean</th>\n",
              "      <td>4.580686e+09</td>\n",
              "      <td>3.370771</td>\n",
              "      <td>7.623490</td>\n",
              "      <td>291.513490</td>\n",
              "      <td>46.999722</td>\n",
              "      <td>84.417881</td>\n",
              "      <td>12769.770790</td>\n",
              "      <td>2016.677079</td>\n",
              "      <td>0.884122</td>\n",
              "    </tr>\n",
              "    <tr>\n",
              "      <th>std</th>\n",
              "      <td>2.876653e+09</td>\n",
              "      <td>0.929916</td>\n",
              "      <td>1.105519</td>\n",
              "      <td>442.570991</td>\n",
              "      <td>29.373317</td>\n",
              "      <td>401.714775</td>\n",
              "      <td>27306.508841</td>\n",
              "      <td>0.467604</td>\n",
              "      <td>5.279629</td>\n",
              "    </tr>\n",
              "    <tr>\n",
              "      <th>min</th>\n",
              "      <td>1.000102e+06</td>\n",
              "      <td>0.000000</td>\n",
              "      <td>1.000000</td>\n",
              "      <td>0.000000</td>\n",
              "      <td>3.000000</td>\n",
              "      <td>0.000000</td>\n",
              "      <td>651.000000</td>\n",
              "      <td>2016.000000</td>\n",
              "      <td>0.000000</td>\n",
              "    </tr>\n",
              "    <tr>\n",
              "      <th>25%</th>\n",
              "      <td>2.123049e+09</td>\n",
              "      <td>3.000000</td>\n",
              "      <td>7.000000</td>\n",
              "      <td>0.000000</td>\n",
              "      <td>21.000000</td>\n",
              "      <td>0.000000</td>\n",
              "      <td>5100.000000</td>\n",
              "      <td>2016.000000</td>\n",
              "      <td>0.000000</td>\n",
              "    </tr>\n",
              "    <tr>\n",
              "      <th>50%</th>\n",
              "      <td>3.904931e+09</td>\n",
              "      <td>3.000000</td>\n",
              "      <td>7.000000</td>\n",
              "      <td>0.000000</td>\n",
              "      <td>43.000000</td>\n",
              "      <td>0.000000</td>\n",
              "      <td>7620.000000</td>\n",
              "      <td>2017.000000</td>\n",
              "      <td>0.000000</td>\n",
              "    </tr>\n",
              "    <tr>\n",
              "      <th>75%</th>\n",
              "      <td>7.308900e+09</td>\n",
              "      <td>4.000000</td>\n",
              "      <td>8.000000</td>\n",
              "      <td>560.000000</td>\n",
              "      <td>67.000000</td>\n",
              "      <td>0.000000</td>\n",
              "      <td>10084.000000</td>\n",
              "      <td>2017.000000</td>\n",
              "      <td>0.000000</td>\n",
              "    </tr>\n",
              "    <tr>\n",
              "      <th>max</th>\n",
              "      <td>9.900000e+09</td>\n",
              "      <td>33.000000</td>\n",
              "      <td>10.000000</td>\n",
              "      <td>4820.000000</td>\n",
              "      <td>118.000000</td>\n",
              "      <td>2015.000000</td>\n",
              "      <td>871200.000000</td>\n",
              "      <td>2017.000000</td>\n",
              "      <td>83.000000</td>\n",
              "    </tr>\n",
              "  </tbody>\n",
              "</table>\n",
              "</div>\n",
              "      <button class=\"colab-df-convert\" onclick=\"convertToInteractive('df-c4c1f39c-ec59-477b-9d52-d9785b91ba9f')\"\n",
              "              title=\"Convert this dataframe to an interactive table.\"\n",
              "              style=\"display:none;\">\n",
              "        \n",
              "  <svg xmlns=\"http://www.w3.org/2000/svg\" height=\"24px\"viewBox=\"0 0 24 24\"\n",
              "       width=\"24px\">\n",
              "    <path d=\"M0 0h24v24H0V0z\" fill=\"none\"/>\n",
              "    <path d=\"M18.56 5.44l.94 2.06.94-2.06 2.06-.94-2.06-.94-.94-2.06-.94 2.06-2.06.94zm-11 1L8.5 8.5l.94-2.06 2.06-.94-2.06-.94L8.5 2.5l-.94 2.06-2.06.94zm10 10l.94 2.06.94-2.06 2.06-.94-2.06-.94-.94-2.06-.94 2.06-2.06.94z\"/><path d=\"M17.41 7.96l-1.37-1.37c-.4-.4-.92-.59-1.43-.59-.52 0-1.04.2-1.43.59L10.3 9.45l-7.72 7.72c-.78.78-.78 2.05 0 2.83L4 21.41c.39.39.9.59 1.41.59.51 0 1.02-.2 1.41-.59l7.78-7.78 2.81-2.81c.8-.78.8-2.07 0-2.86zM5.41 20L4 18.59l7.72-7.72 1.47 1.35L5.41 20z\"/>\n",
              "  </svg>\n",
              "      </button>\n",
              "      \n",
              "  <style>\n",
              "    .colab-df-container {\n",
              "      display:flex;\n",
              "      flex-wrap:wrap;\n",
              "      gap: 12px;\n",
              "    }\n",
              "\n",
              "    .colab-df-convert {\n",
              "      background-color: #E8F0FE;\n",
              "      border: none;\n",
              "      border-radius: 50%;\n",
              "      cursor: pointer;\n",
              "      display: none;\n",
              "      fill: #1967D2;\n",
              "      height: 32px;\n",
              "      padding: 0 0 0 0;\n",
              "      width: 32px;\n",
              "    }\n",
              "\n",
              "    .colab-df-convert:hover {\n",
              "      background-color: #E2EBFA;\n",
              "      box-shadow: 0px 1px 2px rgba(60, 64, 67, 0.3), 0px 1px 3px 1px rgba(60, 64, 67, 0.15);\n",
              "      fill: #174EA6;\n",
              "    }\n",
              "\n",
              "    [theme=dark] .colab-df-convert {\n",
              "      background-color: #3B4455;\n",
              "      fill: #D2E3FC;\n",
              "    }\n",
              "\n",
              "    [theme=dark] .colab-df-convert:hover {\n",
              "      background-color: #434B5C;\n",
              "      box-shadow: 0px 1px 3px 1px rgba(0, 0, 0, 0.15);\n",
              "      filter: drop-shadow(0px 1px 2px rgba(0, 0, 0, 0.3));\n",
              "      fill: #FFFFFF;\n",
              "    }\n",
              "  </style>\n",
              "\n",
              "      <script>\n",
              "        const buttonEl =\n",
              "          document.querySelector('#df-c4c1f39c-ec59-477b-9d52-d9785b91ba9f button.colab-df-convert');\n",
              "        buttonEl.style.display =\n",
              "          google.colab.kernel.accessAllowed ? 'block' : 'none';\n",
              "\n",
              "        async function convertToInteractive(key) {\n",
              "          const element = document.querySelector('#df-c4c1f39c-ec59-477b-9d52-d9785b91ba9f');\n",
              "          const dataTable =\n",
              "            await google.colab.kernel.invokeFunction('convertToInteractive',\n",
              "                                                     [key], {});\n",
              "          if (!dataTable) return;\n",
              "\n",
              "          const docLinkHtml = 'Like what you see? Visit the ' +\n",
              "            '<a target=\"_blank\" href=https://colab.research.google.com/notebooks/data_table.ipynb>data table notebook</a>'\n",
              "            + ' to learn more about interactive tables.';\n",
              "          element.innerHTML = '';\n",
              "          dataTable['output_type'] = 'display_data';\n",
              "          await google.colab.output.renderOutput(dataTable, element);\n",
              "          const docLink = document.createElement('div');\n",
              "          docLink.innerHTML = docLinkHtml;\n",
              "          element.appendChild(docLink);\n",
              "        }\n",
              "      </script>\n",
              "    </div>\n",
              "  </div>\n",
              "  "
            ]
          },
          "metadata": {},
          "execution_count": 112
        }
      ],
      "source": [
        "data_i_num=data.select_dtypes(include = ['int64'])\n",
        "data_i_num.describe()"
      ]
    },
    {
      "cell_type": "code",
      "execution_count": null,
      "metadata": {
        "colab": {
          "base_uri": "https://localhost:8080/",
          "height": 297
        },
        "id": "mFPNc8o5IgY4",
        "outputId": "b67df577-b2bb-45e0-d6cc-899d1be24fde"
      },
      "outputs": [
        {
          "output_type": "execute_result",
          "data": {
            "text/plain": [
              "<matplotlib.axes._subplots.AxesSubplot at 0x7fce47424f90>"
            ]
          },
          "metadata": {},
          "execution_count": 113
        },
        {
          "output_type": "display_data",
          "data": {
            "text/plain": [
              "<Figure size 432x288 with 1 Axes>"
            ],
            "image/png": "[encoded data removed]"
          },
          "metadata": {
            "needs_background": "light"
          }
        }
      ],
      "source": [
        "sns.boxplot(x=data['No of Bedrooms'])"
      ]
    },
    {
      "cell_type": "code",
      "execution_count": null,
      "metadata": {
        "colab": {
          "base_uri": "https://localhost:8080/",
          "height": 297
        },
        "id": "RzydOS1KHl1F",
        "outputId": "aa0d9cc2-4320-4cad-f24d-5aa6dff511af"
      },
      "outputs": [
        {
          "output_type": "execute_result",
          "data": {
            "text/plain": [
              "<matplotlib.axes._subplots.AxesSubplot at 0x7fce4a6d7b50>"
            ]
          },
          "metadata": {},
          "execution_count": 114
        },
        {
          "output_type": "display_data",
          "data": {
            "text/plain": [
              "<Figure size 432x288 with 1 Axes>"
            ],
            "image/png": "[encoded data removed]"
          },
          "metadata": {
            "needs_background": "light"
          }
        }
      ],
      "source": [
        "sns.boxplot(x=data['Basement Area (in Sqft)'])"
      ]
    },
    {
      "cell_type": "code",
      "execution_count": null,
      "metadata": {
        "colab": {
          "base_uri": "https://localhost:8080/",
          "height": 297
        },
        "id": "-VTyxsmMIyGX",
        "outputId": "59d63a67-e104-4bc5-da7d-6f23caa3f569"
      },
      "outputs": [
        {
          "output_type": "execute_result",
          "data": {
            "text/plain": [
              "<matplotlib.axes._subplots.AxesSubplot at 0x7fce4a640c90>"
            ]
          },
          "metadata": {},
          "execution_count": 115
        },
        {
          "output_type": "display_data",
          "data": {
            "text/plain": [
              "<Figure size 432x288 with 1 Axes>"
            ],
            "image/png": "[encoded data removed]"
          },
          "metadata": {
            "needs_background": "light"
          }
        }
      ],
      "source": [
        "sns.boxplot(x=data['Age of House (in Years)'])"
      ]
    },
    {
      "cell_type": "code",
      "execution_count": null,
      "metadata": {
        "id": "ELUh4BLcJsA6"
      },
      "outputs": [],
      "source": [
        ""
      ]
    },
    {
      "cell_type": "code",
      "execution_count": null,
      "metadata": {
        "id": "Xf4pyoIfJr81"
      },
      "outputs": [],
      "source": [
        ""
      ]
    },
    {
      "cell_type": "code",
      "execution_count": null,
      "metadata": {
        "id": "f3EJ0TkWJr3i"
      },
      "outputs": [],
      "source": [
        ""
      ]
    },
    {
      "cell_type": "code",
      "execution_count": null,
      "metadata": {
        "colab": {
          "base_uri": "https://localhost:8080/",
          "height": 300
        },
        "id": "B5uiZb9_HYIB",
        "outputId": "ab835968-4b11-4319-f8a5-e3a696e83381"
      },
      "outputs": [
        {
          "output_type": "execute_result",
          "data": {
            "text/plain": [
              "         Sale Price  No of Bathrooms  Flat Area (in Sqft)  Lot Area (in Sqft)  \\\n",
              "count  2.160900e+04     21609.000000         21609.000000        2.160900e+04   \n",
              "mean   5.116186e+05         2.114709          2079.872553        1.510641e+04   \n",
              "std    2.500620e+05         0.770097           918.347816        4.142353e+04   \n",
              "min    7.500000e+04         0.000000           290.000000        5.200000e+02   \n",
              "25%    3.219500e+05         1.750000          1430.000000        5.040000e+03   \n",
              "50%    4.500000e+05         2.250000          1910.000000        7.619000e+03   \n",
              "75%    6.450000e+05         2.500000          2550.000000        1.068700e+04   \n",
              "max    1.129575e+06         8.000000         13540.000000        1.651359e+06   \n",
              "\n",
              "       No of Floors  Area of the House from Basement (in Sqft)      Latitude  \\\n",
              "count  21609.000000                               21609.000000  21609.000000   \n",
              "mean       1.494215                                1788.319589     47.560050   \n",
              "std        0.539909                                 827.977604      0.138556   \n",
              "min        1.000000                                 290.000000     47.155900   \n",
              "25%        1.000000                                1190.000000     47.471000   \n",
              "50%        1.500000                                1560.000000     47.571800   \n",
              "75%        2.000000                                2210.000000     47.678000   \n",
              "max        3.500000                                9410.000000     47.777600   \n",
              "\n",
              "          Longitude  Living Area after Renovation (in Sqft)  \n",
              "count  21609.000000                            21609.000000  \n",
              "mean    -122.213875                             1986.553242  \n",
              "std        0.140832                              685.427485  \n",
              "min     -122.519000                              399.000000  \n",
              "25%     -122.328000                             1490.000000  \n",
              "50%     -122.230000                             1840.000000  \n",
              "75%     -122.125000                             2360.000000  \n",
              "max     -121.315000                             6210.000000  "
            ],
            "text/html": [
              "\n",
              "  <div id=\"df-445e8a4b-466b-4cc0-9602-8e2392c0006e\">\n",
              "    <div class=\"colab-df-container\">\n",
              "      <div>\n",
              "<style scoped>\n",
              "    .dataframe tbody tr th:only-of-type {\n",
              "        vertical-align: middle;\n",
              "    }\n",
              "\n",
              "    .dataframe tbody tr th {\n",
              "        vertical-align: top;\n",
              "    }\n",
              "\n",
              "    .dataframe thead th {\n",
              "        text-align: right;\n",
              "    }\n",
              "</style>\n",
              "<table border=\"1\" class=\"dataframe\">\n",
              "  <thead>\n",
              "    <tr style=\"text-align: right;\">\n",
              "      <th></th>\n",
              "      <th>Sale Price</th>\n",
              "      <th>No of Bathrooms</th>\n",
              "      <th>Flat Area (in Sqft)</th>\n",
              "      <th>Lot Area (in Sqft)</th>\n",
              "      <th>No of Floors</th>\n",
              "      <th>Area of the House from Basement (in Sqft)</th>\n",
              "      <th>Latitude</th>\n",
              "      <th>Longitude</th>\n",
              "      <th>Living Area after Renovation (in Sqft)</th>\n",
              "    </tr>\n",
              "  </thead>\n",
              "  <tbody>\n",
              "    <tr>\n",
              "      <th>count</th>\n",
              "      <td>2.160900e+04</td>\n",
              "      <td>21609.000000</td>\n",
              "      <td>21609.000000</td>\n",
              "      <td>2.160900e+04</td>\n",
              "      <td>21609.000000</td>\n",
              "      <td>21609.000000</td>\n",
              "      <td>21609.000000</td>\n",
              "      <td>21609.000000</td>\n",
              "      <td>21609.000000</td>\n",
              "    </tr>\n",
              "    <tr>\n",
              "      <th>mean</th>\n",
              "      <td>5.116186e+05</td>\n",
              "      <td>2.114709</td>\n",
              "      <td>2079.872553</td>\n",
              "      <td>1.510641e+04</td>\n",
              "      <td>1.494215</td>\n",
              "      <td>1788.319589</td>\n",
              "      <td>47.560050</td>\n",
              "      <td>-122.213875</td>\n",
              "      <td>1986.553242</td>\n",
              "    </tr>\n",
              "    <tr>\n",
              "      <th>std</th>\n",
              "      <td>2.500620e+05</td>\n",
              "      <td>0.770097</td>\n",
              "      <td>918.347816</td>\n",
              "      <td>4.142353e+04</td>\n",
              "      <td>0.539909</td>\n",
              "      <td>827.977604</td>\n",
              "      <td>0.138556</td>\n",
              "      <td>0.140832</td>\n",
              "      <td>685.427485</td>\n",
              "    </tr>\n",
              "    <tr>\n",
              "      <th>min</th>\n",
              "      <td>7.500000e+04</td>\n",
              "      <td>0.000000</td>\n",
              "      <td>290.000000</td>\n",
              "      <td>5.200000e+02</td>\n",
              "      <td>1.000000</td>\n",
              "      <td>290.000000</td>\n",
              "      <td>47.155900</td>\n",
              "      <td>-122.519000</td>\n",
              "      <td>399.000000</td>\n",
              "    </tr>\n",
              "    <tr>\n",
              "      <th>25%</th>\n",
              "      <td>3.219500e+05</td>\n",
              "      <td>1.750000</td>\n",
              "      <td>1430.000000</td>\n",
              "      <td>5.040000e+03</td>\n",
              "      <td>1.000000</td>\n",
              "      <td>1190.000000</td>\n",
              "      <td>47.471000</td>\n",
              "      <td>-122.328000</td>\n",
              "      <td>1490.000000</td>\n",
              "    </tr>\n",
              "    <tr>\n",
              "      <th>50%</th>\n",
              "      <td>4.500000e+05</td>\n",
              "      <td>2.250000</td>\n",
              "      <td>1910.000000</td>\n",
              "      <td>7.619000e+03</td>\n",
              "      <td>1.500000</td>\n",
              "      <td>1560.000000</td>\n",
              "      <td>47.571800</td>\n",
              "      <td>-122.230000</td>\n",
              "      <td>1840.000000</td>\n",
              "    </tr>\n",
              "    <tr>\n",
              "      <th>75%</th>\n",
              "      <td>6.450000e+05</td>\n",
              "      <td>2.500000</td>\n",
              "      <td>2550.000000</td>\n",
              "      <td>1.068700e+04</td>\n",
              "      <td>2.000000</td>\n",
              "      <td>2210.000000</td>\n",
              "      <td>47.678000</td>\n",
              "      <td>-122.125000</td>\n",
              "      <td>2360.000000</td>\n",
              "    </tr>\n",
              "    <tr>\n",
              "      <th>max</th>\n",
              "      <td>1.129575e+06</td>\n",
              "      <td>8.000000</td>\n",
              "      <td>13540.000000</td>\n",
              "      <td>1.651359e+06</td>\n",
              "      <td>3.500000</td>\n",
              "      <td>9410.000000</td>\n",
              "      <td>47.777600</td>\n",
              "      <td>-121.315000</td>\n",
              "      <td>6210.000000</td>\n",
              "    </tr>\n",
              "  </tbody>\n",
              "</table>\n",
              "</div>\n",
              "      <button class=\"colab-df-convert\" onclick=\"convertToInteractive('df-445e8a4b-466b-4cc0-9602-8e2392c0006e')\"\n",
              "              title=\"Convert this dataframe to an interactive table.\"\n",
              "              style=\"display:none;\">\n",
              "        \n",
              "  <svg xmlns=\"http://www.w3.org/2000/svg\" height=\"24px\"viewBox=\"0 0 24 24\"\n",
              "       width=\"24px\">\n",
              "    <path d=\"M0 0h24v24H0V0z\" fill=\"none\"/>\n",
              "    <path d=\"M18.56 5.44l.94 2.06.94-2.06 2.06-.94-2.06-.94-.94-2.06-.94 2.06-2.06.94zm-11 1L8.5 8.5l.94-2.06 2.06-.94-2.06-.94L8.5 2.5l-.94 2.06-2.06.94zm10 10l.94 2.06.94-2.06 2.06-.94-2.06-.94-.94-2.06-.94 2.06-2.06.94z\"/><path d=\"M17.41 7.96l-1.37-1.37c-.4-.4-.92-.59-1.43-.59-.52 0-1.04.2-1.43.59L10.3 9.45l-7.72 7.72c-.78.78-.78 2.05 0 2.83L4 21.41c.39.39.9.59 1.41.59.51 0 1.02-.2 1.41-.59l7.78-7.78 2.81-2.81c.8-.78.8-2.07 0-2.86zM5.41 20L4 18.59l7.72-7.72 1.47 1.35L5.41 20z\"/>\n",
              "  </svg>\n",
              "      </button>\n",
              "      \n",
              "  <style>\n",
              "    .colab-df-container {\n",
              "      display:flex;\n",
              "      flex-wrap:wrap;\n",
              "      gap: 12px;\n",
              "    }\n",
              "\n",
              "    .colab-df-convert {\n",
              "      background-color: #E8F0FE;\n",
              "      border: none;\n",
              "      border-radius: 50%;\n",
              "      cursor: pointer;\n",
              "      display: none;\n",
              "      fill: #1967D2;\n",
              "      height: 32px;\n",
              "      padding: 0 0 0 0;\n",
              "      width: 32px;\n",
              "    }\n",
              "\n",
              "    .colab-df-convert:hover {\n",
              "      background-color: #E2EBFA;\n",
              "      box-shadow: 0px 1px 2px rgba(60, 64, 67, 0.3), 0px 1px 3px 1px rgba(60, 64, 67, 0.15);\n",
              "      fill: #174EA6;\n",
              "    }\n",
              "\n",
              "    [theme=dark] .colab-df-convert {\n",
              "      background-color: #3B4455;\n",
              "      fill: #D2E3FC;\n",
              "    }\n",
              "\n",
              "    [theme=dark] .colab-df-convert:hover {\n",
              "      background-color: #434B5C;\n",
              "      box-shadow: 0px 1px 3px 1px rgba(0, 0, 0, 0.15);\n",
              "      filter: drop-shadow(0px 1px 2px rgba(0, 0, 0, 0.3));\n",
              "      fill: #FFFFFF;\n",
              "    }\n",
              "  </style>\n",
              "\n",
              "      <script>\n",
              "        const buttonEl =\n",
              "          document.querySelector('#df-445e8a4b-466b-4cc0-9602-8e2392c0006e button.colab-df-convert');\n",
              "        buttonEl.style.display =\n",
              "          google.colab.kernel.accessAllowed ? 'block' : 'none';\n",
              "\n",
              "        async function convertToInteractive(key) {\n",
              "          const element = document.querySelector('#df-445e8a4b-466b-4cc0-9602-8e2392c0006e');\n",
              "          const dataTable =\n",
              "            await google.colab.kernel.invokeFunction('convertToInteractive',\n",
              "                                                     [key], {});\n",
              "          if (!dataTable) return;\n",
              "\n",
              "          const docLinkHtml = 'Like what you see? Visit the ' +\n",
              "            '<a target=\"_blank\" href=https://colab.research.google.com/notebooks/data_table.ipynb>data table notebook</a>'\n",
              "            + ' to learn more about interactive tables.';\n",
              "          element.innerHTML = '';\n",
              "          dataTable['output_type'] = 'display_data';\n",
              "          await google.colab.output.renderOutput(dataTable, element);\n",
              "          const docLink = document.createElement('div');\n",
              "          docLink.innerHTML = docLinkHtml;\n",
              "          element.appendChild(docLink);\n",
              "        }\n",
              "      </script>\n",
              "    </div>\n",
              "  </div>\n",
              "  "
            ]
          },
          "metadata": {},
          "execution_count": 116
        }
      ],
      "source": [
        "data_f_num=data.select_dtypes(include = ['float64'])\n",
        "data_f_num.describe()"
      ]
    },
    {
      "cell_type": "code",
      "execution_count": null,
      "metadata": {
        "id": "dKlQHOTqJvvt"
      },
      "outputs": [],
      "source": [
        ""
      ]
    },
    {
      "cell_type": "code",
      "execution_count": null,
      "metadata": {
        "id": "0-gsFjJhJvrd"
      },
      "outputs": [],
      "source": [
        ""
      ]
    },
    {
      "cell_type": "markdown",
      "metadata": {
        "id": "sgOn3jlZ9K5H"
      },
      "source": [
        "### Correlation :"
      ]
    },
    {
      "cell_type": "code",
      "execution_count": null,
      "metadata": {
        "colab": {
          "base_uri": "https://localhost:8080/",
          "height": 895
        },
        "id": "5PCs5woF9JkG",
        "outputId": "3ff1b36d-eb3f-4908-995a-ec0e0f0ee8a3"
      },
      "outputs": [
        {
          "output_type": "execute_result",
          "data": {
            "text/plain": [
              "<pandas.io.formats.style.Styler at 0x7fce4a5f13d0>"
            ],
            "text/html": [
              "<style type=\"text/css\">\n",
              "#T_d6ebb_row0_col0, #T_d6ebb_row1_col1, #T_d6ebb_row2_col2, #T_d6ebb_row3_col3, #T_d6ebb_row4_col4, #T_d6ebb_row5_col5, #T_d6ebb_row6_col6, #T_d6ebb_row7_col7, #T_d6ebb_row8_col8, #T_d6ebb_row9_col9, #T_d6ebb_row10_col10, #T_d6ebb_row11_col11, #T_d6ebb_row12_col12, #T_d6ebb_row13_col13, #T_d6ebb_row14_col14, #T_d6ebb_row15_col15, #T_d6ebb_row16_col16 {\n",
              "  background-color: #b40426;\n",
              "  color: #f1f1f1;\n",
              "}\n",
              "#T_d6ebb_row0_col1, #T_d6ebb_row0_col11 {\n",
              "  background-color: #4961d2;\n",
              "  color: #f1f1f1;\n",
              "}\n",
              "#T_d6ebb_row0_col2, #T_d6ebb_row7_col0, #T_d6ebb_row11_col16 {\n",
              "  background-color: #6485ec;\n",
              "  color: #f1f1f1;\n",
              "}\n",
              "#T_d6ebb_row0_col3 {\n",
              "  background-color: #abc8fd;\n",
              "  color: #000000;\n",
              "}\n",
              "#T_d6ebb_row0_col4, #T_d6ebb_row2_col10, #T_d6ebb_row4_col12 {\n",
              "  background-color: #86a9fc;\n",
              "  color: #f1f1f1;\n",
              "}\n",
              "#T_d6ebb_row0_col5, #T_d6ebb_row3_col10, #T_d6ebb_row6_col9, #T_d6ebb_row10_col1, #T_d6ebb_row10_col2, #T_d6ebb_row10_col3, #T_d6ebb_row10_col4, #T_d6ebb_row10_col6, #T_d6ebb_row10_col7, #T_d6ebb_row10_col8, #T_d6ebb_row10_col15, #T_d6ebb_row12_col2, #T_d6ebb_row12_col5, #T_d6ebb_row12_col14, #T_d6ebb_row12_col16, #T_d6ebb_row14_col11, #T_d6ebb_row14_col12, #T_d6ebb_row14_col13, #T_d6ebb_row16_col0 {\n",
              "  background-color: #3b4cc0;\n",
              "  color: #f1f1f1;\n",
              "}\n",
              "#T_d6ebb_row0_col6, #T_d6ebb_row6_col1 {\n",
              "  background-color: #adc9fd;\n",
              "  color: #000000;\n",
              "}\n",
              "#T_d6ebb_row0_col7, #T_d6ebb_row0_col10, #T_d6ebb_row6_col12, #T_d6ebb_row11_col7, #T_d6ebb_row16_col6 {\n",
              "  background-color: #a6c4fe;\n",
              "  color: #000000;\n",
              "}\n",
              "#T_d6ebb_row0_col8 {\n",
              "  background-color: #9bbcff;\n",
              "  color: #000000;\n",
              "}\n",
              "#T_d6ebb_row0_col9, #T_d6ebb_row3_col5, #T_d6ebb_row8_col12 {\n",
              "  background-color: #799cf8;\n",
              "  color: #f1f1f1;\n",
              "}\n",
              "#T_d6ebb_row0_col12, #T_d6ebb_row5_col15, #T_d6ebb_row12_col13, #T_d6ebb_row13_col3 {\n",
              "  background-color: #b1cbfc;\n",
              "  color: #000000;\n",
              "}\n",
              "#T_d6ebb_row0_col13, #T_d6ebb_row6_col16, #T_d6ebb_row8_col13, #T_d6ebb_row9_col0, #T_d6ebb_row13_col0, #T_d6ebb_row15_col0, #T_d6ebb_row15_col10 {\n",
              "  background-color: #5f7fe8;\n",
              "  color: #f1f1f1;\n",
              "}\n",
              "#T_d6ebb_row0_col14, #T_d6ebb_row5_col4 {\n",
              "  background-color: #b7cff9;\n",
              "  color: #000000;\n",
              "}\n",
              "#T_d6ebb_row0_col15, #T_d6ebb_row11_col15, #T_d6ebb_row14_col2, #T_d6ebb_row15_col5 {\n",
              "  background-color: #8badfd;\n",
              "  color: #000000;\n",
              "}\n",
              "#T_d6ebb_row0_col16, #T_d6ebb_row5_col0 {\n",
              "  background-color: #3c4ec2;\n",
              "  color: #f1f1f1;\n",
              "}\n",
              "#T_d6ebb_row1_col0, #T_d6ebb_row2_col13, #T_d6ebb_row3_col11, #T_d6ebb_row4_col0, #T_d6ebb_row6_col5, #T_d6ebb_row8_col0 {\n",
              "  background-color: #5d7ce6;\n",
              "  color: #f1f1f1;\n",
              "}\n",
              "#T_d6ebb_row1_col2, #T_d6ebb_row5_col8 {\n",
              "  background-color: #c9d7f0;\n",
              "  color: #000000;\n",
              "}\n",
              "#T_d6ebb_row1_col3 {\n",
              "  background-color: #f7b093;\n",
              "  color: #000000;\n",
              "}\n",
              "#T_d6ebb_row1_col4 {\n",
              "  background-color: #f29274;\n",
              "  color: #f1f1f1;\n",
              "}\n",
              "#T_d6ebb_row1_col5, #T_d6ebb_row3_col16 {\n",
              "  background-color: #7da0f9;\n",
              "  color: #f1f1f1;\n",
              "}\n",
              "#T_d6ebb_row1_col6 {\n",
              "  background-color: #e4d9d2;\n",
              "  color: #000000;\n",
              "}\n",
              "#T_d6ebb_row1_col7, #T_d6ebb_row3_col8 {\n",
              "  background-color: #f18d6f;\n",
              "  color: #f1f1f1;\n",
              "}\n",
              "#T_d6ebb_row1_col8 {\n",
              "  background-color: #f6a385;\n",
              "  color: #000000;\n",
              "}\n",
              "#T_d6ebb_row1_col9, #T_d6ebb_row2_col14 {\n",
              "  background-color: #cdd9ec;\n",
              "  color: #000000;\n",
              "}\n",
              "#T_d6ebb_row1_col10 {\n",
              "  background-color: #9dbdff;\n",
              "  color: #000000;\n",
              "}\n",
              "#T_d6ebb_row1_col11 {\n",
              "  background-color: #7396f5;\n",
              "  color: #f1f1f1;\n",
              "}\n",
              "#T_d6ebb_row1_col12, #T_d6ebb_row11_col6 {\n",
              "  background-color: #aac7fd;\n",
              "  color: #000000;\n",
              "}\n",
              "#T_d6ebb_row1_col13, #T_d6ebb_row15_col2 {\n",
              "  background-color: #d6dce4;\n",
              "  color: #000000;\n",
              "}\n",
              "#T_d6ebb_row1_col14, #T_d6ebb_row13_col7, #T_d6ebb_row16_col7 {\n",
              "  background-color: #bcd2f7;\n",
              "  color: #000000;\n",
              "}\n",
              "#T_d6ebb_row1_col15 {\n",
              "  background-color: #f6a586;\n",
              "  color: #000000;\n",
              "}\n",
              "#T_d6ebb_row1_col16, #T_d6ebb_row5_col9, #T_d6ebb_row7_col5 {\n",
              "  background-color: #7ea1fa;\n",
              "  color: #f1f1f1;\n",
              "}\n",
              "#T_d6ebb_row2_col0, #T_d6ebb_row4_col10, #T_d6ebb_row11_col5, #T_d6ebb_row12_col11 {\n",
              "  background-color: #6180e9;\n",
              "  color: #f1f1f1;\n",
              "}\n",
              "#T_d6ebb_row2_col1, #T_d6ebb_row16_col4 {\n",
              "  background-color: #bad0f8;\n",
              "  color: #000000;\n",
              "}\n",
              "#T_d6ebb_row2_col3, #T_d6ebb_row2_col4 {\n",
              "  background-color: #f7b497;\n",
              "  color: #000000;\n",
              "}\n",
              "#T_d6ebb_row2_col5, #T_d6ebb_row11_col13, #T_d6ebb_row16_col1 {\n",
              "  background-color: #688aef;\n",
              "  color: #f1f1f1;\n",
              "}\n",
              "#T_d6ebb_row2_col6 {\n",
              "  background-color: #cedaeb;\n",
              "  color: #000000;\n",
              "}\n",
              "#T_d6ebb_row2_col7 {\n",
              "  background-color: #ead5c9;\n",
              "  color: #000000;\n",
              "}\n",
              "#T_d6ebb_row2_col8, #T_d6ebb_row4_col2 {\n",
              "  background-color: #f5c1a9;\n",
              "  color: #000000;\n",
              "}\n",
              "#T_d6ebb_row2_col9, #T_d6ebb_row6_col14, #T_d6ebb_row13_col1 {\n",
              "  background-color: #ccd9ed;\n",
              "  color: #000000;\n",
              "}\n",
              "#T_d6ebb_row2_col11, #T_d6ebb_row14_col9 {\n",
              "  background-color: #536edd;\n",
              "  color: #f1f1f1;\n",
              "}\n",
              "#T_d6ebb_row2_col12 {\n",
              "  background-color: #92b4fe;\n",
              "  color: #000000;\n",
              "}\n",
              "#T_d6ebb_row2_col15, #T_d6ebb_row14_col8 {\n",
              "  background-color: #e7d7ce;\n",
              "  color: #000000;\n",
              "}\n",
              "#T_d6ebb_row2_col16, #T_d6ebb_row5_col1, #T_d6ebb_row8_col9 {\n",
              "  background-color: #6b8df0;\n",
              "  color: #f1f1f1;\n",
              "}\n",
              "#T_d6ebb_row3_col0, #T_d6ebb_row13_col2 {\n",
              "  background-color: #6282ea;\n",
              "  color: #f1f1f1;\n",
              "}\n",
              "#T_d6ebb_row3_col1, #T_d6ebb_row4_col6, #T_d6ebb_row12_col10 {\n",
              "  background-color: #ecd3c5;\n",
              "  color: #000000;\n",
              "}\n",
              "#T_d6ebb_row3_col2, #T_d6ebb_row8_col14 {\n",
              "  background-color: #efcfbf;\n",
              "  color: #000000;\n",
              "}\n",
              "#T_d6ebb_row3_col4, #T_d6ebb_row4_col15, #T_d6ebb_row15_col4 {\n",
              "  background-color: #eb7d62;\n",
              "  color: #f1f1f1;\n",
              "}\n",
              "#T_d6ebb_row3_col6, #T_d6ebb_row6_col8 {\n",
              "  background-color: #f7b89c;\n",
              "  color: #000000;\n",
              "}\n",
              "#T_d6ebb_row3_col7 {\n",
              "  background-color: #f49a7b;\n",
              "  color: #000000;\n",
              "}\n",
              "#T_d6ebb_row3_col9, #T_d6ebb_row9_col10, #T_d6ebb_row14_col4 {\n",
              "  background-color: #c7d7f0;\n",
              "  color: #000000;\n",
              "}\n",
              "#T_d6ebb_row3_col12 {\n",
              "  background-color: #85a8fc;\n",
              "  color: #f1f1f1;\n",
              "}\n",
              "#T_d6ebb_row3_col13, #T_d6ebb_row9_col16 {\n",
              "  background-color: #6788ee;\n",
              "  color: #f1f1f1;\n",
              "}\n",
              "#T_d6ebb_row3_col14 {\n",
              "  background-color: #dddcdc;\n",
              "  color: #000000;\n",
              "}\n",
              "#T_d6ebb_row3_col15 {\n",
              "  background-color: #f7b599;\n",
              "  color: #000000;\n",
              "}\n",
              "#T_d6ebb_row4_col1, #T_d6ebb_row15_col3 {\n",
              "  background-color: #f7a889;\n",
              "  color: #000000;\n",
              "}\n",
              "#T_d6ebb_row4_col3 {\n",
              "  background-color: #e67259;\n",
              "  color: #f1f1f1;\n",
              "}\n",
              "#T_d6ebb_row4_col5, #T_d6ebb_row9_col14, #T_d6ebb_row16_col12 {\n",
              "  background-color: #93b5fe;\n",
              "  color: #000000;\n",
              "}\n",
              "#T_d6ebb_row4_col7, #T_d6ebb_row8_col7, #T_d6ebb_row8_col15 {\n",
              "  background-color: #ee8468;\n",
              "  color: #f1f1f1;\n",
              "}\n",
              "#T_d6ebb_row4_col8 {\n",
              "  background-color: #d24b40;\n",
              "  color: #f1f1f1;\n",
              "}\n",
              "#T_d6ebb_row4_col9 {\n",
              "  background-color: #e8d6cc;\n",
              "  color: #000000;\n",
              "}\n",
              "#T_d6ebb_row4_col11, #T_d6ebb_row12_col0, #T_d6ebb_row12_col8 {\n",
              "  background-color: #5e7de7;\n",
              "  color: #f1f1f1;\n",
              "}\n",
              "#T_d6ebb_row4_col13 {\n",
              "  background-color: #6f92f3;\n",
              "  color: #f1f1f1;\n",
              "}\n",
              "#T_d6ebb_row4_col14 {\n",
              "  background-color: #e0dbd8;\n",
              "  color: #000000;\n",
              "}\n",
              "#T_d6ebb_row4_col16, #T_d6ebb_row6_col2, #T_d6ebb_row12_col6, #T_d6ebb_row13_col9, #T_d6ebb_row15_col16, #T_d6ebb_row16_col10 {\n",
              "  background-color: #9abbff;\n",
              "  color: #000000;\n",
              "}\n",
              "#T_d6ebb_row5_col2, #T_d6ebb_row6_col13, #T_d6ebb_row9_col6, #T_d6ebb_row15_col13 {\n",
              "  background-color: #6e90f2;\n",
              "  color: #f1f1f1;\n",
              "}\n",
              "#T_d6ebb_row5_col3, #T_d6ebb_row16_col3 {\n",
              "  background-color: #bed2f6;\n",
              "  color: #000000;\n",
              "}\n",
              "#T_d6ebb_row5_col6 {\n",
              "  background-color: #a7c5fe;\n",
              "  color: #000000;\n",
              "}\n",
              "#T_d6ebb_row5_col7, #T_d6ebb_row16_col15 {\n",
              "  background-color: #bbd1f8;\n",
              "  color: #000000;\n",
              "}\n",
              "#T_d6ebb_row5_col10, #T_d6ebb_row8_col16, #T_d6ebb_row13_col8 {\n",
              "  background-color: #9ebeff;\n",
              "  color: #000000;\n",
              "}\n",
              "#T_d6ebb_row5_col11, #T_d6ebb_row7_col11, #T_d6ebb_row16_col11 {\n",
              "  background-color: #506bda;\n",
              "  color: #f1f1f1;\n",
              "}\n",
              "#T_d6ebb_row5_col12, #T_d6ebb_row8_col5 {\n",
              "  background-color: #97b8ff;\n",
              "  color: #000000;\n",
              "}\n",
              "#T_d6ebb_row5_col13, #T_d6ebb_row16_col13 {\n",
              "  background-color: #485fd1;\n",
              "  color: #f1f1f1;\n",
              "}\n",
              "#T_d6ebb_row5_col14 {\n",
              "  background-color: #dedcdb;\n",
              "  color: #000000;\n",
              "}\n",
              "#T_d6ebb_row5_col16 {\n",
              "  background-color: #f39778;\n",
              "  color: #000000;\n",
              "}\n",
              "#T_d6ebb_row6_col0, #T_d6ebb_row14_col0 {\n",
              "  background-color: #6687ed;\n",
              "  color: #f1f1f1;\n",
              "}\n",
              "#T_d6ebb_row6_col3 {\n",
              "  background-color: #f7b79b;\n",
              "  color: #000000;\n",
              "}\n",
              "#T_d6ebb_row6_col4 {\n",
              "  background-color: #dfdbd9;\n",
              "  color: #000000;\n",
              "}\n",
              "#T_d6ebb_row6_col7, #T_d6ebb_row8_col1 {\n",
              "  background-color: #f5c2aa;\n",
              "  color: #000000;\n",
              "}\n",
              "#T_d6ebb_row6_col10 {\n",
              "  background-color: #3d50c3;\n",
              "  color: #f1f1f1;\n",
              "}\n",
              "#T_d6ebb_row6_col11, #T_d6ebb_row10_col5, #T_d6ebb_row10_col16 {\n",
              "  background-color: #4f69d9;\n",
              "  color: #f1f1f1;\n",
              "}\n",
              "#T_d6ebb_row6_col15 {\n",
              "  background-color: #d2dbe8;\n",
              "  color: #000000;\n",
              "}\n",
              "#T_d6ebb_row7_col1 {\n",
              "  background-color: #f7ac8e;\n",
              "  color: #000000;\n",
              "}\n",
              "#T_d6ebb_row7_col2, #T_d6ebb_row13_col10, #T_d6ebb_row16_col8 {\n",
              "  background-color: #cbd8ee;\n",
              "  color: #000000;\n",
              "}\n",
              "#T_d6ebb_row7_col3, #T_d6ebb_row7_col15 {\n",
              "  background-color: #f39577;\n",
              "  color: #000000;\n",
              "}\n",
              "#T_d6ebb_row7_col4 {\n",
              "  background-color: #f18f71;\n",
              "  color: #f1f1f1;\n",
              "}\n",
              "#T_d6ebb_row7_col6 {\n",
              "  background-color: #f5c0a7;\n",
              "  color: #000000;\n",
              "}\n",
              "#T_d6ebb_row7_col8 {\n",
              "  background-color: #ee8669;\n",
              "  color: #f1f1f1;\n",
              "}\n",
              "#T_d6ebb_row7_col9, #T_d6ebb_row11_col8 {\n",
              "  background-color: #a3c2fe;\n",
              "  color: #000000;\n",
              "}\n",
              "#T_d6ebb_row7_col10 {\n",
              "  background-color: #445acc;\n",
              "  color: #f1f1f1;\n",
              "}\n",
              "#T_d6ebb_row7_col12 {\n",
              "  background-color: #89acfd;\n",
              "  color: #000000;\n",
              "}\n",
              "#T_d6ebb_row7_col13, #T_d6ebb_row9_col13 {\n",
              "  background-color: #81a4fb;\n",
              "  color: #f1f1f1;\n",
              "}\n",
              "#T_d6ebb_row7_col14 {\n",
              "  background-color: #dadce0;\n",
              "  color: #000000;\n",
              "}\n",
              "#T_d6ebb_row7_col16 {\n",
              "  background-color: #82a6fb;\n",
              "  color: #f1f1f1;\n",
              "}\n",
              "#T_d6ebb_row8_col2 {\n",
              "  background-color: #e9d5cb;\n",
              "  color: #000000;\n",
              "}\n",
              "#T_d6ebb_row8_col3 {\n",
              "  background-color: #ef886b;\n",
              "  color: #f1f1f1;\n",
              "}\n",
              "#T_d6ebb_row8_col4 {\n",
              "  background-color: #d44e41;\n",
              "  color: #f1f1f1;\n",
              "}\n",
              "#T_d6ebb_row8_col6 {\n",
              "  background-color: #f7b396;\n",
              "  color: #000000;\n",
              "}\n",
              "#T_d6ebb_row8_col10, #T_d6ebb_row13_col16 {\n",
              "  background-color: #4a63d3;\n",
              "  color: #f1f1f1;\n",
              "}\n",
              "#T_d6ebb_row8_col11 {\n",
              "  background-color: #5470de;\n",
              "  color: #f1f1f1;\n",
              "}\n",
              "#T_d6ebb_row9_col1, #T_d6ebb_row14_col16 {\n",
              "  background-color: #afcafc;\n",
              "  color: #000000;\n",
              "}\n",
              "#T_d6ebb_row9_col2, #T_d6ebb_row9_col15 {\n",
              "  background-color: #bfd3f6;\n",
              "  color: #000000;\n",
              "}\n",
              "#T_d6ebb_row9_col3 {\n",
              "  background-color: #e3d9d3;\n",
              "  color: #000000;\n",
              "}\n",
              "#T_d6ebb_row9_col4 {\n",
              "  background-color: #edd1c2;\n",
              "  color: #000000;\n",
              "}\n",
              "#T_d6ebb_row9_col5, #T_d6ebb_row9_col11 {\n",
              "  background-color: #6384eb;\n",
              "  color: #f1f1f1;\n",
              "}\n",
              "#T_d6ebb_row9_col7, #T_d6ebb_row14_col6 {\n",
              "  background-color: #c4d5f3;\n",
              "  color: #000000;\n",
              "}\n",
              "#T_d6ebb_row9_col8 {\n",
              "  background-color: #90b2fe;\n",
              "  color: #000000;\n",
              "}\n",
              "#T_d6ebb_row9_col12 {\n",
              "  background-color: #c3d5f4;\n",
              "  color: #000000;\n",
              "}\n",
              "#T_d6ebb_row10_col0, #T_d6ebb_row14_col1 {\n",
              "  background-color: #5a78e4;\n",
              "  color: #f1f1f1;\n",
              "}\n",
              "#T_d6ebb_row10_col9 {\n",
              "  background-color: #9fbfff;\n",
              "  color: #000000;\n",
              "}\n",
              "#T_d6ebb_row10_col11, #T_d6ebb_row13_col14 {\n",
              "  background-color: #96b7ff;\n",
              "  color: #000000;\n",
              "}\n",
              "#T_d6ebb_row10_col12 {\n",
              "  background-color: #efcebd;\n",
              "  color: #000000;\n",
              "}\n",
              "#T_d6ebb_row10_col13 {\n",
              "  background-color: #8caffe;\n",
              "  color: #000000;\n",
              "}\n",
              "#T_d6ebb_row10_col14 {\n",
              "  background-color: #5977e3;\n",
              "  color: #f1f1f1;\n",
              "}\n",
              "#T_d6ebb_row11_col0 {\n",
              "  background-color: #5b7ae5;\n",
              "  color: #f1f1f1;\n",
              "}\n",
              "#T_d6ebb_row11_col1 {\n",
              "  background-color: #7295f4;\n",
              "  color: #f1f1f1;\n",
              "}\n",
              "#T_d6ebb_row11_col2 {\n",
              "  background-color: #6a8bef;\n",
              "  color: #f1f1f1;\n",
              "}\n",
              "#T_d6ebb_row11_col3 {\n",
              "  background-color: #b6cefa;\n",
              "  color: #000000;\n",
              "}\n",
              "#T_d6ebb_row11_col4, #T_d6ebb_row13_col4, #T_d6ebb_row13_col15 {\n",
              "  background-color: #98b9ff;\n",
              "  color: #000000;\n",
              "}\n",
              "#T_d6ebb_row11_col9, #T_d6ebb_row12_col9 {\n",
              "  background-color: #8fb1fe;\n",
              "  color: #000000;\n",
              "}\n",
              "#T_d6ebb_row11_col10 {\n",
              "  background-color: #d9dce1;\n",
              "  color: #000000;\n",
              "}\n",
              "#T_d6ebb_row11_col12 {\n",
              "  background-color: #c0d4f5;\n",
              "  color: #000000;\n",
              "}\n",
              "#T_d6ebb_row11_col14, #T_d6ebb_row14_col5 {\n",
              "  background-color: #a5c3fe;\n",
              "  color: #000000;\n",
              "}\n",
              "#T_d6ebb_row12_col1 {\n",
              "  background-color: #4055c8;\n",
              "  color: #f1f1f1;\n",
              "}\n",
              "#T_d6ebb_row12_col3 {\n",
              "  background-color: #7b9ff9;\n",
              "  color: #f1f1f1;\n",
              "}\n",
              "#T_d6ebb_row12_col4, #T_d6ebb_row13_col11 {\n",
              "  background-color: #5673e0;\n",
              "  color: #f1f1f1;\n",
              "}\n",
              "#T_d6ebb_row12_col7 {\n",
              "  background-color: #7699f6;\n",
              "  color: #f1f1f1;\n",
              "}\n",
              "#T_d6ebb_row12_col15 {\n",
              "  background-color: #455cce;\n",
              "  color: #f1f1f1;\n",
              "}\n",
              "#T_d6ebb_row13_col5 {\n",
              "  background-color: #465ecf;\n",
              "  color: #f1f1f1;\n",
              "}\n",
              "#T_d6ebb_row13_col6 {\n",
              "  background-color: #b3cdfb;\n",
              "  color: #000000;\n",
              "}\n",
              "#T_d6ebb_row13_col12 {\n",
              "  background-color: #e5d8d1;\n",
              "  color: #000000;\n",
              "}\n",
              "#T_d6ebb_row14_col3 {\n",
              "  background-color: #d8dce2;\n",
              "  color: #000000;\n",
              "}\n",
              "#T_d6ebb_row14_col7 {\n",
              "  background-color: #cfdaea;\n",
              "  color: #000000;\n",
              "}\n",
              "#T_d6ebb_row14_col10 {\n",
              "  background-color: #4e68d8;\n",
              "  color: #f1f1f1;\n",
              "}\n",
              "#T_d6ebb_row14_col15 {\n",
              "  background-color: #dcdddd;\n",
              "  color: #000000;\n",
              "}\n",
              "#T_d6ebb_row15_col1 {\n",
              "  background-color: #f6bda2;\n",
              "  color: #000000;\n",
              "}\n",
              "#T_d6ebb_row15_col6 {\n",
              "  background-color: #e1dad6;\n",
              "  color: #000000;\n",
              "}\n",
              "#T_d6ebb_row15_col7 {\n",
              "  background-color: #f08b6e;\n",
              "  color: #f1f1f1;\n",
              "}\n",
              "#T_d6ebb_row15_col8 {\n",
              "  background-color: #ec7f63;\n",
              "  color: #f1f1f1;\n",
              "}\n",
              "#T_d6ebb_row15_col9 {\n",
              "  background-color: #b2ccfb;\n",
              "  color: #000000;\n",
              "}\n",
              "#T_d6ebb_row15_col11 {\n",
              "  background-color: #4c66d6;\n",
              "  color: #f1f1f1;\n",
              "}\n",
              "#T_d6ebb_row15_col12 {\n",
              "  background-color: #7597f6;\n",
              "  color: #f1f1f1;\n",
              "}\n",
              "#T_d6ebb_row15_col14 {\n",
              "  background-color: #eed0c0;\n",
              "  color: #000000;\n",
              "}\n",
              "#T_d6ebb_row16_col2 {\n",
              "  background-color: #6c8ff1;\n",
              "  color: #f1f1f1;\n",
              "}\n",
              "#T_d6ebb_row16_col5 {\n",
              "  background-color: #f4987a;\n",
              "  color: #000000;\n",
              "}\n",
              "#T_d6ebb_row16_col9 {\n",
              "  background-color: #80a3fa;\n",
              "  color: #f1f1f1;\n",
              "}\n",
              "#T_d6ebb_row16_col14 {\n",
              "  background-color: #e2dad5;\n",
              "  color: #000000;\n",
              "}\n",
              "</style>\n",
              "<table id=\"T_d6ebb_\" class=\"dataframe\">\n",
              "  <thead>\n",
              "    <tr>\n",
              "      <th class=\"blank level0\" >&nbsp;</th>\n",
              "      <th class=\"col_heading level0 col0\" >ID</th>\n",
              "      <th class=\"col_heading level0 col1\" >Sale Price</th>\n",
              "      <th class=\"col_heading level0 col2\" >No of Bedrooms</th>\n",
              "      <th class=\"col_heading level0 col3\" >No of Bathrooms</th>\n",
              "      <th class=\"col_heading level0 col4\" >Flat Area (in Sqft)</th>\n",
              "      <th class=\"col_heading level0 col5\" >Lot Area (in Sqft)</th>\n",
              "      <th class=\"col_heading level0 col6\" >No of Floors</th>\n",
              "      <th class=\"col_heading level0 col7\" >Overall Grade</th>\n",
              "      <th class=\"col_heading level0 col8\" >Area of the House from Basement (in Sqft)</th>\n",
              "      <th class=\"col_heading level0 col9\" >Basement Area (in Sqft)</th>\n",
              "      <th class=\"col_heading level0 col10\" >Age of House (in Years)</th>\n",
              "      <th class=\"col_heading level0 col11\" >Renovated Year</th>\n",
              "      <th class=\"col_heading level0 col12\" >Zipcode</th>\n",
              "      <th class=\"col_heading level0 col13\" >Latitude</th>\n",
              "      <th class=\"col_heading level0 col14\" >Longitude</th>\n",
              "      <th class=\"col_heading level0 col15\" >Living Area after Renovation (in Sqft)</th>\n",
              "      <th class=\"col_heading level0 col16\" >Lot Area after Renovation (in Sqft)</th>\n",
              "    </tr>\n",
              "  </thead>\n",
              "  <tbody>\n",
              "    <tr>\n",
              "      <th id=\"T_d6ebb_level0_row0\" class=\"row_heading level0 row0\" >ID</th>\n",
              "      <td id=\"T_d6ebb_row0_col0\" class=\"data row0 col0\" >1.000000</td>\n",
              "      <td id=\"T_d6ebb_row0_col1\" class=\"data row0 col1\" >-0.011529</td>\n",
              "      <td id=\"T_d6ebb_row0_col2\" class=\"data row0 col2\" >0.001450</td>\n",
              "      <td id=\"T_d6ebb_row0_col3\" class=\"data row0 col3\" >0.005269</td>\n",
              "      <td id=\"T_d6ebb_row0_col4\" class=\"data row0 col4\" >-0.012376</td>\n",
              "      <td id=\"T_d6ebb_row0_col5\" class=\"data row0 col5\" >-0.132151</td>\n",
              "      <td id=\"T_d6ebb_row0_col6\" class=\"data row0 col6\" >0.018653</td>\n",
              "      <td id=\"T_d6ebb_row0_col7\" class=\"data row0 col7\" >0.013762</td>\n",
              "      <td id=\"T_d6ebb_row0_col8\" class=\"data row0 col8\" >-0.010709</td>\n",
              "      <td id=\"T_d6ebb_row0_col9\" class=\"data row0 col9\" >-0.005189</td>\n",
              "      <td id=\"T_d6ebb_row0_col10\" class=\"data row0 col10\" >-0.021524</td>\n",
              "      <td id=\"T_d6ebb_row0_col11\" class=\"data row0 col11\" >-0.016936</td>\n",
              "      <td id=\"T_d6ebb_row0_col12\" class=\"data row0 col12\" >-0.008260</td>\n",
              "      <td id=\"T_d6ebb_row0_col13\" class=\"data row0 col13\" >-0.001990</td>\n",
              "      <td id=\"T_d6ebb_row0_col14\" class=\"data row0 col14\" >0.020721</td>\n",
              "      <td id=\"T_d6ebb_row0_col15\" class=\"data row0 col15\" >-0.002920</td>\n",
              "      <td id=\"T_d6ebb_row0_col16\" class=\"data row0 col16\" >-0.138843</td>\n",
              "    </tr>\n",
              "    <tr>\n",
              "      <th id=\"T_d6ebb_level0_row1\" class=\"row_heading level0 row1\" >Sale Price</th>\n",
              "      <td id=\"T_d6ebb_row1_col0\" class=\"data row1 col0\" >-0.011529</td>\n",
              "      <td id=\"T_d6ebb_row1_col1\" class=\"data row1 col1\" >1.000000</td>\n",
              "      <td id=\"T_d6ebb_row1_col2\" class=\"data row1 col2\" >0.339407</td>\n",
              "      <td id=\"T_d6ebb_row1_col3\" class=\"data row1 col3\" >0.535200</td>\n",
              "      <td id=\"T_d6ebb_row1_col4\" class=\"data row1 col4\" >0.695231</td>\n",
              "      <td id=\"T_d6ebb_row1_col5\" class=\"data row1 col5\" >0.101398</td>\n",
              "      <td id=\"T_d6ebb_row1_col6\" class=\"data row1 col6\" >0.298913</td>\n",
              "      <td id=\"T_d6ebb_row1_col7\" class=\"data row1 col7\" >0.680914</td>\n",
              "      <td id=\"T_d6ebb_row1_col8\" class=\"data row1 col8\" >0.606649</td>\n",
              "      <td id=\"T_d6ebb_row1_col9\" class=\"data row1 col9\" >0.307513</td>\n",
              "      <td id=\"T_d6ebb_row1_col10\" class=\"data row1 col10\" >-0.064306</td>\n",
              "      <td id=\"T_d6ebb_row1_col11\" class=\"data row1 col11\" >0.122021</td>\n",
              "      <td id=\"T_d6ebb_row1_col12\" class=\"data row1 col12\" >-0.043058</td>\n",
              "      <td id=\"T_d6ebb_row1_col13\" class=\"data row1 col13\" >0.402430</td>\n",
              "      <td id=\"T_d6ebb_row1_col14\" class=\"data row1 col14\" >0.045400</td>\n",
              "      <td id=\"T_d6ebb_row1_col15\" class=\"data row1 col15\" >0.629943</td>\n",
              "      <td id=\"T_d6ebb_row1_col16\" class=\"data row1 col16\" >0.092325</td>\n",
              "    </tr>\n",
              "    <tr>\n",
              "      <th id=\"T_d6ebb_level0_row2\" class=\"row_heading level0 row2\" >No of Bedrooms</th>\n",
              "      <td id=\"T_d6ebb_row2_col0\" class=\"data row2 col0\" >0.001450</td>\n",
              "      <td id=\"T_d6ebb_row2_col1\" class=\"data row2 col1\" >0.339407</td>\n",
              "      <td id=\"T_d6ebb_row2_col2\" class=\"data row2 col2\" >1.000000</td>\n",
              "      <td id=\"T_d6ebb_row2_col3\" class=\"data row2 col3\" >0.515829</td>\n",
              "      <td id=\"T_d6ebb_row2_col4\" class=\"data row2 col4\" >0.576678</td>\n",
              "      <td id=\"T_d6ebb_row2_col5\" class=\"data row2 col5\" >0.031644</td>\n",
              "      <td id=\"T_d6ebb_row2_col6\" class=\"data row2 col6\" >0.175536</td>\n",
              "      <td id=\"T_d6ebb_row2_col7\" class=\"data row2 col7\" >0.349223</td>\n",
              "      <td id=\"T_d6ebb_row2_col8\" class=\"data row2 col8\" >0.477558</td>\n",
              "      <td id=\"T_d6ebb_row2_col9\" class=\"data row2 col9\" >0.303294</td>\n",
              "      <td id=\"T_d6ebb_row2_col10\" class=\"data row2 col10\" >-0.154113</td>\n",
              "      <td id=\"T_d6ebb_row2_col11\" class=\"data row2 col11\" >0.018861</td>\n",
              "      <td id=\"T_d6ebb_row2_col12\" class=\"data row2 col12\" >-0.152752</td>\n",
              "      <td id=\"T_d6ebb_row2_col13\" class=\"data row2 col13\" >-0.008703</td>\n",
              "      <td id=\"T_d6ebb_row2_col14\" class=\"data row2 col14\" >0.129574</td>\n",
              "      <td id=\"T_d6ebb_row2_col15\" class=\"data row2 col15\" >0.391769</td>\n",
              "      <td id=\"T_d6ebb_row2_col16\" class=\"data row2 col16\" >0.029264</td>\n",
              "    </tr>\n",
              "    <tr>\n",
              "      <th id=\"T_d6ebb_level0_row3\" class=\"row_heading level0 row3\" >No of Bathrooms</th>\n",
              "      <td id=\"T_d6ebb_row3_col0\" class=\"data row3 col0\" >0.005269</td>\n",
              "      <td id=\"T_d6ebb_row3_col1\" class=\"data row3 col1\" >0.535200</td>\n",
              "      <td id=\"T_d6ebb_row3_col2\" class=\"data row3 col2\" >0.515829</td>\n",
              "      <td id=\"T_d6ebb_row3_col3\" class=\"data row3 col3\" >1.000000</td>\n",
              "      <td id=\"T_d6ebb_row3_col4\" class=\"data row3 col4\" >0.754694</td>\n",
              "      <td id=\"T_d6ebb_row3_col5\" class=\"data row3 col5\" >0.087772</td>\n",
              "      <td id=\"T_d6ebb_row3_col6\" class=\"data row3 col6\" >0.500803</td>\n",
              "      <td id=\"T_d6ebb_row3_col7\" class=\"data row3 col7\" >0.635670</td>\n",
              "      <td id=\"T_d6ebb_row3_col8\" class=\"data row3 col8\" >0.685239</td>\n",
              "      <td id=\"T_d6ebb_row3_col9\" class=\"data row3 col9\" >0.283805</td>\n",
              "      <td id=\"T_d6ebb_row3_col10\" class=\"data row3 col10\" >-0.505983</td>\n",
              "      <td id=\"T_d6ebb_row3_col11\" class=\"data row3 col11\" >0.050769</td>\n",
              "      <td id=\"T_d6ebb_row3_col12\" class=\"data row3 col12\" >-0.204047</td>\n",
              "      <td id=\"T_d6ebb_row3_col13\" class=\"data row3 col13\" >0.024583</td>\n",
              "      <td id=\"T_d6ebb_row3_col14\" class=\"data row3 col14\" >0.223212</td>\n",
              "      <td id=\"T_d6ebb_row3_col15\" class=\"data row3 col15\" >0.568632</td>\n",
              "      <td id=\"T_d6ebb_row3_col16\" class=\"data row3 col16\" >0.087231</td>\n",
              "    </tr>\n",
              "    <tr>\n",
              "      <th id=\"T_d6ebb_level0_row4\" class=\"row_heading level0 row4\" >Flat Area (in Sqft)</th>\n",
              "      <td id=\"T_d6ebb_row4_col0\" class=\"data row4 col0\" >-0.012376</td>\n",
              "      <td id=\"T_d6ebb_row4_col1\" class=\"data row4 col1\" >0.695231</td>\n",
              "      <td id=\"T_d6ebb_row4_col2\" class=\"data row4 col2\" >0.576678</td>\n",
              "      <td id=\"T_d6ebb_row4_col3\" class=\"data row4 col3\" >0.754694</td>\n",
              "      <td id=\"T_d6ebb_row4_col4\" class=\"data row4 col4\" >1.000000</td>\n",
              "      <td id=\"T_d6ebb_row4_col5\" class=\"data row4 col5\" >0.172807</td>\n",
              "      <td id=\"T_d6ebb_row4_col6\" class=\"data row4 col6\" >0.354217</td>\n",
              "      <td id=\"T_d6ebb_row4_col7\" class=\"data row4 col7\" >0.705894</td>\n",
              "      <td id=\"T_d6ebb_row4_col8\" class=\"data row4 col8\" >0.876603</td>\n",
              "      <td id=\"T_d6ebb_row4_col9\" class=\"data row4 col9\" >0.435211</td>\n",
              "      <td id=\"T_d6ebb_row4_col10\" class=\"data row4 col10\" >-0.318291</td>\n",
              "      <td id=\"T_d6ebb_row4_col11\" class=\"data row4 col11\" >0.055365</td>\n",
              "      <td id=\"T_d6ebb_row4_col12\" class=\"data row4 col12\" >-0.199403</td>\n",
              "      <td id=\"T_d6ebb_row4_col13\" class=\"data row4 col13\" >0.052563</td>\n",
              "      <td id=\"T_d6ebb_row4_col14\" class=\"data row4 col14\" >0.240131</td>\n",
              "      <td id=\"T_d6ebb_row4_col15\" class=\"data row4 col15\" >0.756353</td>\n",
              "      <td id=\"T_d6ebb_row4_col16\" class=\"data row4 col16\" >0.183218</td>\n",
              "    </tr>\n",
              "    <tr>\n",
              "      <th id=\"T_d6ebb_level0_row5\" class=\"row_heading level0 row5\" >Lot Area (in Sqft)</th>\n",
              "      <td id=\"T_d6ebb_row5_col0\" class=\"data row5 col0\" >-0.132151</td>\n",
              "      <td id=\"T_d6ebb_row5_col1\" class=\"data row5 col1\" >0.101398</td>\n",
              "      <td id=\"T_d6ebb_row5_col2\" class=\"data row5 col2\" >0.031644</td>\n",
              "      <td id=\"T_d6ebb_row5_col3\" class=\"data row5 col3\" >0.087772</td>\n",
              "      <td id=\"T_d6ebb_row5_col4\" class=\"data row5 col4\" >0.172807</td>\n",
              "      <td id=\"T_d6ebb_row5_col5\" class=\"data row5 col5\" >1.000000</td>\n",
              "      <td id=\"T_d6ebb_row5_col6\" class=\"data row5 col6\" >-0.005178</td>\n",
              "      <td id=\"T_d6ebb_row5_col7\" class=\"data row5 col7\" >0.102344</td>\n",
              "      <td id=\"T_d6ebb_row5_col8\" class=\"data row5 col8\" >0.183514</td>\n",
              "      <td id=\"T_d6ebb_row5_col9\" class=\"data row5 col9\" >0.015275</td>\n",
              "      <td id=\"T_d6ebb_row5_col10\" class=\"data row5 col10\" >-0.053112</td>\n",
              "      <td id=\"T_d6ebb_row5_col11\" class=\"data row5 col11\" >0.007709</td>\n",
              "      <td id=\"T_d6ebb_row5_col12\" class=\"data row5 col12\" >-0.129541</td>\n",
              "      <td id=\"T_d6ebb_row5_col13\" class=\"data row5 col13\" >-0.085684</td>\n",
              "      <td id=\"T_d6ebb_row5_col14\" class=\"data row5 col14\" >0.229477</td>\n",
              "      <td id=\"T_d6ebb_row5_col15\" class=\"data row5 col15\" >0.144539</td>\n",
              "      <td id=\"T_d6ebb_row5_col16\" class=\"data row5 col16\" >0.718544</td>\n",
              "    </tr>\n",
              "    <tr>\n",
              "      <th id=\"T_d6ebb_level0_row6\" class=\"row_heading level0 row6\" >No of Floors</th>\n",
              "      <td id=\"T_d6ebb_row6_col0\" class=\"data row6 col0\" >0.018653</td>\n",
              "      <td id=\"T_d6ebb_row6_col1\" class=\"data row6 col1\" >0.298913</td>\n",
              "      <td id=\"T_d6ebb_row6_col2\" class=\"data row6 col2\" >0.175536</td>\n",
              "      <td id=\"T_d6ebb_row6_col3\" class=\"data row6 col3\" >0.500803</td>\n",
              "      <td id=\"T_d6ebb_row6_col4\" class=\"data row6 col4\" >0.354217</td>\n",
              "      <td id=\"T_d6ebb_row6_col5\" class=\"data row6 col5\" >-0.005178</td>\n",
              "      <td id=\"T_d6ebb_row6_col6\" class=\"data row6 col6\" >1.000000</td>\n",
              "      <td id=\"T_d6ebb_row6_col7\" class=\"data row6 col7\" >0.461368</td>\n",
              "      <td id=\"T_d6ebb_row6_col8\" class=\"data row6 col8\" >0.524053</td>\n",
              "      <td id=\"T_d6ebb_row6_col9\" class=\"data row6 col9\" >-0.245572</td>\n",
              "      <td id=\"T_d6ebb_row6_col10\" class=\"data row6 col10\" >-0.489244</td>\n",
              "      <td id=\"T_d6ebb_row6_col11\" class=\"data row6 col11\" >0.006376</td>\n",
              "      <td id=\"T_d6ebb_row6_col12\" class=\"data row6 col12\" >-0.059223</td>\n",
              "      <td id=\"T_d6ebb_row6_col13\" class=\"data row6 col13\" >0.049697</td>\n",
              "      <td id=\"T_d6ebb_row6_col14\" class=\"data row6 col14\" >0.125617</td>\n",
              "      <td id=\"T_d6ebb_row6_col15\" class=\"data row6 col15\" >0.280121</td>\n",
              "      <td id=\"T_d6ebb_row6_col16\" class=\"data row6 col16\" >-0.011204</td>\n",
              "    </tr>\n",
              "    <tr>\n",
              "      <th id=\"T_d6ebb_level0_row7\" class=\"row_heading level0 row7\" >Overall Grade</th>\n",
              "      <td id=\"T_d6ebb_row7_col0\" class=\"data row7 col0\" >0.013762</td>\n",
              "      <td id=\"T_d6ebb_row7_col1\" class=\"data row7 col1\" >0.680914</td>\n",
              "      <td id=\"T_d6ebb_row7_col2\" class=\"data row7 col2\" >0.349223</td>\n",
              "      <td id=\"T_d6ebb_row7_col3\" class=\"data row7 col3\" >0.635670</td>\n",
              "      <td id=\"T_d6ebb_row7_col4\" class=\"data row7 col4\" >0.705894</td>\n",
              "      <td id=\"T_d6ebb_row7_col5\" class=\"data row7 col5\" >0.102344</td>\n",
              "      <td id=\"T_d6ebb_row7_col6\" class=\"data row7 col6\" >0.461368</td>\n",
              "      <td id=\"T_d6ebb_row7_col7\" class=\"data row7 col7\" >1.000000</td>\n",
              "      <td id=\"T_d6ebb_row7_col8\" class=\"data row7 col8\" >0.705264</td>\n",
              "      <td id=\"T_d6ebb_row7_col9\" class=\"data row7 col9\" >0.145232</td>\n",
              "      <td id=\"T_d6ebb_row7_col10\" class=\"data row7 col10\" >-0.456711</td>\n",
              "      <td id=\"T_d6ebb_row7_col11\" class=\"data row7 col11\" >0.010436</td>\n",
              "      <td id=\"T_d6ebb_row7_col12\" class=\"data row7 col12\" >-0.185852</td>\n",
              "      <td id=\"T_d6ebb_row7_col13\" class=\"data row7 col13\" >0.111229</td>\n",
              "      <td id=\"T_d6ebb_row7_col14\" class=\"data row7 col14\" >0.201734</td>\n",
              "      <td id=\"T_d6ebb_row7_col15\" class=\"data row7 col15\" >0.681368</td>\n",
              "      <td id=\"T_d6ebb_row7_col16\" class=\"data row7 col16\" >0.107581</td>\n",
              "    </tr>\n",
              "    <tr>\n",
              "      <th id=\"T_d6ebb_level0_row8\" class=\"row_heading level0 row8\" >Area of the House from Basement (in Sqft)</th>\n",
              "      <td id=\"T_d6ebb_row8_col0\" class=\"data row8 col0\" >-0.010709</td>\n",
              "      <td id=\"T_d6ebb_row8_col1\" class=\"data row8 col1\" >0.606649</td>\n",
              "      <td id=\"T_d6ebb_row8_col2\" class=\"data row8 col2\" >0.477558</td>\n",
              "      <td id=\"T_d6ebb_row8_col3\" class=\"data row8 col3\" >0.685239</td>\n",
              "      <td id=\"T_d6ebb_row8_col4\" class=\"data row8 col4\" >0.876603</td>\n",
              "      <td id=\"T_d6ebb_row8_col5\" class=\"data row8 col5\" >0.183514</td>\n",
              "      <td id=\"T_d6ebb_row8_col6\" class=\"data row8 col6\" >0.524053</td>\n",
              "      <td id=\"T_d6ebb_row8_col7\" class=\"data row8 col7\" >0.705264</td>\n",
              "      <td id=\"T_d6ebb_row8_col8\" class=\"data row8 col8\" >1.000000</td>\n",
              "      <td id=\"T_d6ebb_row8_col9\" class=\"data row8 col9\" >-0.051809</td>\n",
              "      <td id=\"T_d6ebb_row8_col10\" class=\"data row8 col10\" >-0.423878</td>\n",
              "      <td id=\"T_d6ebb_row8_col11\" class=\"data row8 col11\" >0.023300</td>\n",
              "      <td id=\"T_d6ebb_row8_col12\" class=\"data row8 col12\" >-0.261157</td>\n",
              "      <td id=\"T_d6ebb_row8_col13\" class=\"data row8 col13\" >-0.000787</td>\n",
              "      <td id=\"T_d6ebb_row8_col14\" class=\"data row8 col14\" >0.343794</td>\n",
              "      <td id=\"T_d6ebb_row8_col15\" class=\"data row8 col15\" >0.732032</td>\n",
              "      <td id=\"T_d6ebb_row8_col16\" class=\"data row8 col16\" >0.194101</td>\n",
              "    </tr>\n",
              "    <tr>\n",
              "      <th id=\"T_d6ebb_level0_row9\" class=\"row_heading level0 row9\" >Basement Area (in Sqft)</th>\n",
              "      <td id=\"T_d6ebb_row9_col0\" class=\"data row9 col0\" >-0.005189</td>\n",
              "      <td id=\"T_d6ebb_row9_col1\" class=\"data row9 col1\" >0.307513</td>\n",
              "      <td id=\"T_d6ebb_row9_col2\" class=\"data row9 col2\" >0.303294</td>\n",
              "      <td id=\"T_d6ebb_row9_col3\" class=\"data row9 col3\" >0.283805</td>\n",
              "      <td id=\"T_d6ebb_row9_col4\" class=\"data row9 col4\" >0.435211</td>\n",
              "      <td id=\"T_d6ebb_row9_col5\" class=\"data row9 col5\" >0.015275</td>\n",
              "      <td id=\"T_d6ebb_row9_col6\" class=\"data row9 col6\" >-0.245572</td>\n",
              "      <td id=\"T_d6ebb_row9_col7\" class=\"data row9 col7\" >0.145232</td>\n",
              "      <td id=\"T_d6ebb_row9_col8\" class=\"data row9 col8\" >-0.051809</td>\n",
              "      <td id=\"T_d6ebb_row9_col9\" class=\"data row9 col9\" >1.000000</td>\n",
              "      <td id=\"T_d6ebb_row9_col10\" class=\"data row9 col10\" >0.133072</td>\n",
              "      <td id=\"T_d6ebb_row9_col11\" class=\"data row9 col11\" >0.071328</td>\n",
              "      <td id=\"T_d6ebb_row9_col12\" class=\"data row9 col12\" >0.074938</td>\n",
              "      <td id=\"T_d6ebb_row9_col13\" class=\"data row9 col13\" >0.110453</td>\n",
              "      <td id=\"T_d6ebb_row9_col14\" class=\"data row9 col14\" >-0.144820</td>\n",
              "      <td id=\"T_d6ebb_row9_col15\" class=\"data row9 col15\" >0.200298</td>\n",
              "      <td id=\"T_d6ebb_row9_col16\" class=\"data row9 col16\" >0.017263</td>\n",
              "    </tr>\n",
              "    <tr>\n",
              "      <th id=\"T_d6ebb_level0_row10\" class=\"row_heading level0 row10\" >Age of House (in Years)</th>\n",
              "      <td id=\"T_d6ebb_row10_col0\" class=\"data row10 col0\" >-0.021524</td>\n",
              "      <td id=\"T_d6ebb_row10_col1\" class=\"data row10 col1\" >-0.064306</td>\n",
              "      <td id=\"T_d6ebb_row10_col2\" class=\"data row10 col2\" >-0.154113</td>\n",
              "      <td id=\"T_d6ebb_row10_col3\" class=\"data row10 col3\" >-0.505983</td>\n",
              "      <td id=\"T_d6ebb_row10_col4\" class=\"data row10 col4\" >-0.318291</td>\n",
              "      <td id=\"T_d6ebb_row10_col5\" class=\"data row10 col5\" >-0.053112</td>\n",
              "      <td id=\"T_d6ebb_row10_col6\" class=\"data row10 col6\" >-0.489244</td>\n",
              "      <td id=\"T_d6ebb_row10_col7\" class=\"data row10 col7\" >-0.456711</td>\n",
              "      <td id=\"T_d6ebb_row10_col8\" class=\"data row10 col8\" >-0.423878</td>\n",
              "      <td id=\"T_d6ebb_row10_col9\" class=\"data row10 col9\" >0.133072</td>\n",
              "      <td id=\"T_d6ebb_row10_col10\" class=\"data row10 col10\" >1.000000</td>\n",
              "      <td id=\"T_d6ebb_row10_col11\" class=\"data row10 col11\" >0.224861</td>\n",
              "      <td id=\"T_d6ebb_row10_col12\" class=\"data row10 col12\" >0.346923</td>\n",
              "      <td id=\"T_d6ebb_row10_col13\" class=\"data row10 col13\" >0.148090</td>\n",
              "      <td id=\"T_d6ebb_row10_col14\" class=\"data row10 col14\" >-0.409520</td>\n",
              "      <td id=\"T_d6ebb_row10_col15\" class=\"data row10 col15\" >-0.326336</td>\n",
              "      <td id=\"T_d6ebb_row10_col16\" class=\"data row10 col16\" >-0.071016</td>\n",
              "    </tr>\n",
              "    <tr>\n",
              "      <th id=\"T_d6ebb_level0_row11\" class=\"row_heading level0 row11\" >Renovated Year</th>\n",
              "      <td id=\"T_d6ebb_row11_col0\" class=\"data row11 col0\" >-0.016936</td>\n",
              "      <td id=\"T_d6ebb_row11_col1\" class=\"data row11 col1\" >0.122021</td>\n",
              "      <td id=\"T_d6ebb_row11_col2\" class=\"data row11 col2\" >0.018861</td>\n",
              "      <td id=\"T_d6ebb_row11_col3\" class=\"data row11 col3\" >0.050769</td>\n",
              "      <td id=\"T_d6ebb_row11_col4\" class=\"data row11 col4\" >0.055365</td>\n",
              "      <td id=\"T_d6ebb_row11_col5\" class=\"data row11 col5\" >0.007709</td>\n",
              "      <td id=\"T_d6ebb_row11_col6\" class=\"data row11 col6\" >0.006376</td>\n",
              "      <td id=\"T_d6ebb_row11_col7\" class=\"data row11 col7\" >0.010436</td>\n",
              "      <td id=\"T_d6ebb_row11_col8\" class=\"data row11 col8\" >0.023300</td>\n",
              "      <td id=\"T_d6ebb_row11_col9\" class=\"data row11 col9\" >0.071328</td>\n",
              "      <td id=\"T_d6ebb_row11_col10\" class=\"data row11 col10\" >0.224861</td>\n",
              "      <td id=\"T_d6ebb_row11_col11\" class=\"data row11 col11\" >1.000000</td>\n",
              "      <td id=\"T_d6ebb_row11_col12\" class=\"data row11 col12\" >0.064207</td>\n",
              "      <td id=\"T_d6ebb_row11_col13\" class=\"data row11 col13\" >0.029406</td>\n",
              "      <td id=\"T_d6ebb_row11_col14\" class=\"data row11 col14\" >-0.068411</td>\n",
              "      <td id=\"T_d6ebb_row11_col15\" class=\"data row11 col15\" >-0.002675</td>\n",
              "      <td id=\"T_d6ebb_row11_col16\" class=\"data row11 col16\" >0.007844</td>\n",
              "    </tr>\n",
              "    <tr>\n",
              "      <th id=\"T_d6ebb_level0_row12\" class=\"row_heading level0 row12\" >Zipcode</th>\n",
              "      <td id=\"T_d6ebb_row12_col0\" class=\"data row12 col0\" >-0.008260</td>\n",
              "      <td id=\"T_d6ebb_row12_col1\" class=\"data row12 col1\" >-0.043058</td>\n",
              "      <td id=\"T_d6ebb_row12_col2\" class=\"data row12 col2\" >-0.152752</td>\n",
              "      <td id=\"T_d6ebb_row12_col3\" class=\"data row12 col3\" >-0.204047</td>\n",
              "      <td id=\"T_d6ebb_row12_col4\" class=\"data row12 col4\" >-0.199403</td>\n",
              "      <td id=\"T_d6ebb_row12_col5\" class=\"data row12 col5\" >-0.129541</td>\n",
              "      <td id=\"T_d6ebb_row12_col6\" class=\"data row12 col6\" >-0.059223</td>\n",
              "      <td id=\"T_d6ebb_row12_col7\" class=\"data row12 col7\" >-0.185852</td>\n",
              "      <td id=\"T_d6ebb_row12_col8\" class=\"data row12 col8\" >-0.261157</td>\n",
              "      <td id=\"T_d6ebb_row12_col9\" class=\"data row12 col9\" >0.074938</td>\n",
              "      <td id=\"T_d6ebb_row12_col10\" class=\"data row12 col10\" >0.346923</td>\n",
              "      <td id=\"T_d6ebb_row12_col11\" class=\"data row12 col11\" >0.064207</td>\n",
              "      <td id=\"T_d6ebb_row12_col12\" class=\"data row12 col12\" >1.000000</td>\n",
              "      <td id=\"T_d6ebb_row12_col13\" class=\"data row12 col13\" >0.267017</td>\n",
              "      <td id=\"T_d6ebb_row12_col14\" class=\"data row12 col14\" >-0.564135</td>\n",
              "      <td id=\"T_d6ebb_row12_col15\" class=\"data row12 col15\" >-0.278998</td>\n",
              "      <td id=\"T_d6ebb_row12_col16\" class=\"data row12 col16\" >-0.147218</td>\n",
              "    </tr>\n",
              "    <tr>\n",
              "      <th id=\"T_d6ebb_level0_row13\" class=\"row_heading level0 row13\" >Latitude</th>\n",
              "      <td id=\"T_d6ebb_row13_col0\" class=\"data row13 col0\" >-0.001990</td>\n",
              "      <td id=\"T_d6ebb_row13_col1\" class=\"data row13 col1\" >0.402430</td>\n",
              "      <td id=\"T_d6ebb_row13_col2\" class=\"data row13 col2\" >-0.008703</td>\n",
              "      <td id=\"T_d6ebb_row13_col3\" class=\"data row13 col3\" >0.024583</td>\n",
              "      <td id=\"T_d6ebb_row13_col4\" class=\"data row13 col4\" >0.052563</td>\n",
              "      <td id=\"T_d6ebb_row13_col5\" class=\"data row13 col5\" >-0.085684</td>\n",
              "      <td id=\"T_d6ebb_row13_col6\" class=\"data row13 col6\" >0.049697</td>\n",
              "      <td id=\"T_d6ebb_row13_col7\" class=\"data row13 col7\" >0.111229</td>\n",
              "      <td id=\"T_d6ebb_row13_col8\" class=\"data row13 col8\" >-0.000787</td>\n",
              "      <td id=\"T_d6ebb_row13_col9\" class=\"data row13 col9\" >0.110453</td>\n",
              "      <td id=\"T_d6ebb_row13_col10\" class=\"data row13 col10\" >0.148090</td>\n",
              "      <td id=\"T_d6ebb_row13_col11\" class=\"data row13 col11\" >0.029406</td>\n",
              "      <td id=\"T_d6ebb_row13_col12\" class=\"data row13 col12\" >0.267017</td>\n",
              "      <td id=\"T_d6ebb_row13_col13\" class=\"data row13 col13\" >1.000000</td>\n",
              "      <td id=\"T_d6ebb_row13_col14\" class=\"data row13 col14\" >-0.135548</td>\n",
              "      <td id=\"T_d6ebb_row13_col15\" class=\"data row13 col15\" >0.048851</td>\n",
              "      <td id=\"T_d6ebb_row13_col16\" class=\"data row13 col16\" >-0.086419</td>\n",
              "    </tr>\n",
              "    <tr>\n",
              "      <th id=\"T_d6ebb_level0_row14\" class=\"row_heading level0 row14\" >Longitude</th>\n",
              "      <td id=\"T_d6ebb_row14_col0\" class=\"data row14 col0\" >0.020721</td>\n",
              "      <td id=\"T_d6ebb_row14_col1\" class=\"data row14 col1\" >0.045400</td>\n",
              "      <td id=\"T_d6ebb_row14_col2\" class=\"data row14 col2\" >0.129574</td>\n",
              "      <td id=\"T_d6ebb_row14_col3\" class=\"data row14 col3\" >0.223212</td>\n",
              "      <td id=\"T_d6ebb_row14_col4\" class=\"data row14 col4\" >0.240131</td>\n",
              "      <td id=\"T_d6ebb_row14_col5\" class=\"data row14 col5\" >0.229477</td>\n",
              "      <td id=\"T_d6ebb_row14_col6\" class=\"data row14 col6\" >0.125617</td>\n",
              "      <td id=\"T_d6ebb_row14_col7\" class=\"data row14 col7\" >0.201734</td>\n",
              "      <td id=\"T_d6ebb_row14_col8\" class=\"data row14 col8\" >0.343794</td>\n",
              "      <td id=\"T_d6ebb_row14_col9\" class=\"data row14 col9\" >-0.144820</td>\n",
              "      <td id=\"T_d6ebb_row14_col10\" class=\"data row14 col10\" >-0.409520</td>\n",
              "      <td id=\"T_d6ebb_row14_col11\" class=\"data row14 col11\" >-0.068411</td>\n",
              "      <td id=\"T_d6ebb_row14_col12\" class=\"data row14 col12\" >-0.564135</td>\n",
              "      <td id=\"T_d6ebb_row14_col13\" class=\"data row14 col13\" >-0.135548</td>\n",
              "      <td id=\"T_d6ebb_row14_col14\" class=\"data row14 col14\" >1.000000</td>\n",
              "      <td id=\"T_d6ebb_row14_col15\" class=\"data row14 col15\" >0.334559</td>\n",
              "      <td id=\"T_d6ebb_row14_col16\" class=\"data row14 col16\" >0.254427</td>\n",
              "    </tr>\n",
              "    <tr>\n",
              "      <th id=\"T_d6ebb_level0_row15\" class=\"row_heading level0 row15\" >Living Area after Renovation (in Sqft)</th>\n",
              "      <td id=\"T_d6ebb_row15_col0\" class=\"data row15 col0\" >-0.002920</td>\n",
              "      <td id=\"T_d6ebb_row15_col1\" class=\"data row15 col1\" >0.629943</td>\n",
              "      <td id=\"T_d6ebb_row15_col2\" class=\"data row15 col2\" >0.391769</td>\n",
              "      <td id=\"T_d6ebb_row15_col3\" class=\"data row15 col3\" >0.568632</td>\n",
              "      <td id=\"T_d6ebb_row15_col4\" class=\"data row15 col4\" >0.756353</td>\n",
              "      <td id=\"T_d6ebb_row15_col5\" class=\"data row15 col5\" >0.144539</td>\n",
              "      <td id=\"T_d6ebb_row15_col6\" class=\"data row15 col6\" >0.280121</td>\n",
              "      <td id=\"T_d6ebb_row15_col7\" class=\"data row15 col7\" >0.681368</td>\n",
              "      <td id=\"T_d6ebb_row15_col8\" class=\"data row15 col8\" >0.732032</td>\n",
              "      <td id=\"T_d6ebb_row15_col9\" class=\"data row15 col9\" >0.200298</td>\n",
              "      <td id=\"T_d6ebb_row15_col10\" class=\"data row15 col10\" >-0.326336</td>\n",
              "      <td id=\"T_d6ebb_row15_col11\" class=\"data row15 col11\" >-0.002675</td>\n",
              "      <td id=\"T_d6ebb_row15_col12\" class=\"data row15 col12\" >-0.278998</td>\n",
              "      <td id=\"T_d6ebb_row15_col13\" class=\"data row15 col13\" >0.048851</td>\n",
              "      <td id=\"T_d6ebb_row15_col14\" class=\"data row15 col14\" >0.334559</td>\n",
              "      <td id=\"T_d6ebb_row15_col15\" class=\"data row15 col15\" >1.000000</td>\n",
              "      <td id=\"T_d6ebb_row15_col16\" class=\"data row15 col16\" >0.183186</td>\n",
              "    </tr>\n",
              "    <tr>\n",
              "      <th id=\"T_d6ebb_level0_row16\" class=\"row_heading level0 row16\" >Lot Area after Renovation (in Sqft)</th>\n",
              "      <td id=\"T_d6ebb_row16_col0\" class=\"data row16 col0\" >-0.138843</td>\n",
              "      <td id=\"T_d6ebb_row16_col1\" class=\"data row16 col1\" >0.092325</td>\n",
              "      <td id=\"T_d6ebb_row16_col2\" class=\"data row16 col2\" >0.029264</td>\n",
              "      <td id=\"T_d6ebb_row16_col3\" class=\"data row16 col3\" >0.087231</td>\n",
              "      <td id=\"T_d6ebb_row16_col4\" class=\"data row16 col4\" >0.183218</td>\n",
              "      <td id=\"T_d6ebb_row16_col5\" class=\"data row16 col5\" >0.718544</td>\n",
              "      <td id=\"T_d6ebb_row16_col6\" class=\"data row16 col6\" >-0.011204</td>\n",
              "      <td id=\"T_d6ebb_row16_col7\" class=\"data row16 col7\" >0.107581</td>\n",
              "      <td id=\"T_d6ebb_row16_col8\" class=\"data row16 col8\" >0.194101</td>\n",
              "      <td id=\"T_d6ebb_row16_col9\" class=\"data row16 col9\" >0.017263</td>\n",
              "      <td id=\"T_d6ebb_row16_col10\" class=\"data row16 col10\" >-0.071016</td>\n",
              "      <td id=\"T_d6ebb_row16_col11\" class=\"data row16 col11\" >0.007844</td>\n",
              "      <td id=\"T_d6ebb_row16_col12\" class=\"data row16 col12\" >-0.147218</td>\n",
              "      <td id=\"T_d6ebb_row16_col13\" class=\"data row16 col13\" >-0.086419</td>\n",
              "      <td id=\"T_d6ebb_row16_col14\" class=\"data row16 col14\" >0.254427</td>\n",
              "      <td id=\"T_d6ebb_row16_col15\" class=\"data row16 col15\" >0.183186</td>\n",
              "      <td id=\"T_d6ebb_row16_col16\" class=\"data row16 col16\" >1.000000</td>\n",
              "    </tr>\n",
              "  </tbody>\n",
              "</table>\n"
            ]
          },
          "metadata": {},
          "execution_count": 117
        }
      ],
      "source": [
        "corr=data_1.corr()\n",
        "corr.style.background_gradient(cmap='coolwarm')"
      ]
    },
    {
      "cell_type": "code",
      "execution_count": null,
      "metadata": {
        "id": "-5UtQiZ09aS2"
      },
      "outputs": [],
      "source": [
        ""
      ]
    },
    {
      "cell_type": "markdown",
      "metadata": {
        "id": "J0OA95jd8mqc"
      },
      "source": [
        "### (iii)  Exploration of Independent Categorical variable"
      ]
    },
    {
      "cell_type": "markdown",
      "metadata": {
        "id": "Sd5hUKDk8uvg"
      },
      "source": [
        "\n",
        "1. What info does the Categorical variablel represent?\n",
        "2. What is the data type of Categorical variable?\n",
        "3. Is there a pattern or anomalies in the Categorical variable?\n",
        "4. How many and what unique values/levels does the categorical variable have & what is the frequency distribution of those unique values?\n",
        "5. How is the Target variable correlated with these categorical values?\n",
        "\n",
        "\n"
      ]
    },
    {
      "cell_type": "code",
      "execution_count": null,
      "metadata": {
        "id": "R3f5SYj0KAMn"
      },
      "outputs": [],
      "source": [
        ""
      ]
    },
    {
      "cell_type": "code",
      "execution_count": null,
      "metadata": {
        "colab": {
          "base_uri": "https://localhost:8080/",
          "height": 175
        },
        "id": "XP6BnAVMJ__D",
        "outputId": "e1203926-a0e0-46b1-d6ba-0a847d648f3b"
      },
      "outputs": [
        {
          "output_type": "execute_result",
          "data": {
            "text/plain": [
              "       Date House was Sold Waterfront View No of Times Visited  \\\n",
              "count                21609           21609               21609   \n",
              "unique                  13               2                   5   \n",
              "top          15 April 2016              No                   0   \n",
              "freq                  2231           21446               19485   \n",
              "\n",
              "       Condition of the House  Zipcode Ever Renovated  \n",
              "count                   21609  21609.0          21609  \n",
              "unique                      5     70.0              2  \n",
              "top                      Fair  98103.0             No  \n",
              "freq                    14028    602.0          20695  "
            ],
            "text/html": [
              "\n",
              "  <div id=\"df-3a0e5b74-b960-4ef6-b4bf-b976c7d7e8e2\">\n",
              "    <div class=\"colab-df-container\">\n",
              "      <div>\n",
              "<style scoped>\n",
              "    .dataframe tbody tr th:only-of-type {\n",
              "        vertical-align: middle;\n",
              "    }\n",
              "\n",
              "    .dataframe tbody tr th {\n",
              "        vertical-align: top;\n",
              "    }\n",
              "\n",
              "    .dataframe thead th {\n",
              "        text-align: right;\n",
              "    }\n",
              "</style>\n",
              "<table border=\"1\" class=\"dataframe\">\n",
              "  <thead>\n",
              "    <tr style=\"text-align: right;\">\n",
              "      <th></th>\n",
              "      <th>Date House was Sold</th>\n",
              "      <th>Waterfront View</th>\n",
              "      <th>No of Times Visited</th>\n",
              "      <th>Condition of the House</th>\n",
              "      <th>Zipcode</th>\n",
              "      <th>Ever Renovated</th>\n",
              "    </tr>\n",
              "  </thead>\n",
              "  <tbody>\n",
              "    <tr>\n",
              "      <th>count</th>\n",
              "      <td>21609</td>\n",
              "      <td>21609</td>\n",
              "      <td>21609</td>\n",
              "      <td>21609</td>\n",
              "      <td>21609.0</td>\n",
              "      <td>21609</td>\n",
              "    </tr>\n",
              "    <tr>\n",
              "      <th>unique</th>\n",
              "      <td>13</td>\n",
              "      <td>2</td>\n",
              "      <td>5</td>\n",
              "      <td>5</td>\n",
              "      <td>70.0</td>\n",
              "      <td>2</td>\n",
              "    </tr>\n",
              "    <tr>\n",
              "      <th>top</th>\n",
              "      <td>15 April 2016</td>\n",
              "      <td>No</td>\n",
              "      <td>0</td>\n",
              "      <td>Fair</td>\n",
              "      <td>98103.0</td>\n",
              "      <td>No</td>\n",
              "    </tr>\n",
              "    <tr>\n",
              "      <th>freq</th>\n",
              "      <td>2231</td>\n",
              "      <td>21446</td>\n",
              "      <td>19485</td>\n",
              "      <td>14028</td>\n",
              "      <td>602.0</td>\n",
              "      <td>20695</td>\n",
              "    </tr>\n",
              "  </tbody>\n",
              "</table>\n",
              "</div>\n",
              "      <button class=\"colab-df-convert\" onclick=\"convertToInteractive('df-3a0e5b74-b960-4ef6-b4bf-b976c7d7e8e2')\"\n",
              "              title=\"Convert this dataframe to an interactive table.\"\n",
              "              style=\"display:none;\">\n",
              "        \n",
              "  <svg xmlns=\"http://www.w3.org/2000/svg\" height=\"24px\"viewBox=\"0 0 24 24\"\n",
              "       width=\"24px\">\n",
              "    <path d=\"M0 0h24v24H0V0z\" fill=\"none\"/>\n",
              "    <path d=\"M18.56 5.44l.94 2.06.94-2.06 2.06-.94-2.06-.94-.94-2.06-.94 2.06-2.06.94zm-11 1L8.5 8.5l.94-2.06 2.06-.94-2.06-.94L8.5 2.5l-.94 2.06-2.06.94zm10 10l.94 2.06.94-2.06 2.06-.94-2.06-.94-.94-2.06-.94 2.06-2.06.94z\"/><path d=\"M17.41 7.96l-1.37-1.37c-.4-.4-.92-.59-1.43-.59-.52 0-1.04.2-1.43.59L10.3 9.45l-7.72 7.72c-.78.78-.78 2.05 0 2.83L4 21.41c.39.39.9.59 1.41.59.51 0 1.02-.2 1.41-.59l7.78-7.78 2.81-2.81c.8-.78.8-2.07 0-2.86zM5.41 20L4 18.59l7.72-7.72 1.47 1.35L5.41 20z\"/>\n",
              "  </svg>\n",
              "      </button>\n",
              "      \n",
              "  <style>\n",
              "    .colab-df-container {\n",
              "      display:flex;\n",
              "      flex-wrap:wrap;\n",
              "      gap: 12px;\n",
              "    }\n",
              "\n",
              "    .colab-df-convert {\n",
              "      background-color: #E8F0FE;\n",
              "      border: none;\n",
              "      border-radius: 50%;\n",
              "      cursor: pointer;\n",
              "      display: none;\n",
              "      fill: #1967D2;\n",
              "      height: 32px;\n",
              "      padding: 0 0 0 0;\n",
              "      width: 32px;\n",
              "    }\n",
              "\n",
              "    .colab-df-convert:hover {\n",
              "      background-color: #E2EBFA;\n",
              "      box-shadow: 0px 1px 2px rgba(60, 64, 67, 0.3), 0px 1px 3px 1px rgba(60, 64, 67, 0.15);\n",
              "      fill: #174EA6;\n",
              "    }\n",
              "\n",
              "    [theme=dark] .colab-df-convert {\n",
              "      background-color: #3B4455;\n",
              "      fill: #D2E3FC;\n",
              "    }\n",
              "\n",
              "    [theme=dark] .colab-df-convert:hover {\n",
              "      background-color: #434B5C;\n",
              "      box-shadow: 0px 1px 3px 1px rgba(0, 0, 0, 0.15);\n",
              "      filter: drop-shadow(0px 1px 2px rgba(0, 0, 0, 0.3));\n",
              "      fill: #FFFFFF;\n",
              "    }\n",
              "  </style>\n",
              "\n",
              "      <script>\n",
              "        const buttonEl =\n",
              "          document.querySelector('#df-3a0e5b74-b960-4ef6-b4bf-b976c7d7e8e2 button.colab-df-convert');\n",
              "        buttonEl.style.display =\n",
              "          google.colab.kernel.accessAllowed ? 'block' : 'none';\n",
              "\n",
              "        async function convertToInteractive(key) {\n",
              "          const element = document.querySelector('#df-3a0e5b74-b960-4ef6-b4bf-b976c7d7e8e2');\n",
              "          const dataTable =\n",
              "            await google.colab.kernel.invokeFunction('convertToInteractive',\n",
              "                                                     [key], {});\n",
              "          if (!dataTable) return;\n",
              "\n",
              "          const docLinkHtml = 'Like what you see? Visit the ' +\n",
              "            '<a target=\"_blank\" href=https://colab.research.google.com/notebooks/data_table.ipynb>data table notebook</a>'\n",
              "            + ' to learn more about interactive tables.';\n",
              "          element.innerHTML = '';\n",
              "          dataTable['output_type'] = 'display_data';\n",
              "          await google.colab.output.renderOutput(dataTable, element);\n",
              "          const docLink = document.createElement('div');\n",
              "          docLink.innerHTML = docLinkHtml;\n",
              "          element.appendChild(docLink);\n",
              "        }\n",
              "      </script>\n",
              "    </div>\n",
              "  </div>\n",
              "  "
            ]
          },
          "metadata": {},
          "execution_count": 118
        }
      ],
      "source": [
        "data_obj=data.select_dtypes(include = ['object'])\n",
        "data_obj.describe()"
      ]
    },
    {
      "cell_type": "markdown",
      "metadata": {
        "id": "Ajs7jazBb_Uc"
      },
      "source": [
        "### i)    Waterfront View: "
      ]
    },
    {
      "cell_type": "code",
      "execution_count": null,
      "metadata": {
        "colab": {
          "base_uri": "https://localhost:8080/"
        },
        "id": "hhdlw3M2bx6s",
        "outputId": "27b91798-c13c-4f2d-bfb3-e608f577e822"
      },
      "outputs": [
        {
          "output_type": "execute_result",
          "data": {
            "text/plain": [
              "0    No\n",
              "1    No\n",
              "2    No\n",
              "3    No\n",
              "4    No\n",
              "Name: Waterfront View, dtype: object"
            ]
          },
          "metadata": {},
          "execution_count": 119
        }
      ],
      "source": [
        "data_obj['Waterfront View'].head()"
      ]
    },
    {
      "cell_type": "code",
      "execution_count": null,
      "metadata": {
        "colab": {
          "base_uri": "https://localhost:8080/"
        },
        "id": "ZZIlIiZOJ_rd",
        "outputId": "6e2612a9-c68f-4dff-d2e2-6132898b7217"
      },
      "outputs": [
        {
          "output_type": "execute_result",
          "data": {
            "text/plain": [
              "No     21446\n",
              "Yes      163\n",
              "Name: Waterfront View, dtype: int64"
            ]
          },
          "metadata": {},
          "execution_count": 120
        }
      ],
      "source": [
        "data_obj['Waterfront View'].value_counts()"
      ]
    },
    {
      "cell_type": "code",
      "execution_count": null,
      "metadata": {
        "colab": {
          "base_uri": "https://localhost:8080/",
          "height": 314
        },
        "id": "orFD54JNb4wk",
        "outputId": "267ee82b-fca8-46e9-c619-498636df3afc"
      },
      "outputs": [
        {
          "output_type": "execute_result",
          "data": {
            "text/plain": [
              "<matplotlib.axes._subplots.AxesSubplot at 0x7fce4a54a610>"
            ]
          },
          "metadata": {},
          "execution_count": 121
        },
        {
          "output_type": "display_data",
          "data": {
            "text/plain": [
              "<Figure size 432x288 with 1 Axes>"
            ],
            "image/png": "[encoded data removed]"
          },
          "metadata": {
            "needs_background": "light"
          }
        }
      ],
      "source": [
        "data.groupby('Waterfront View',)['Sale Price'].mean().sort_values().plot(kind = 'bar')"
      ]
    },
    {
      "cell_type": "code",
      "execution_count": null,
      "metadata": {
        "id": "LQKQvnBacLa_"
      },
      "outputs": [],
      "source": [
        ""
      ]
    },
    {
      "cell_type": "markdown",
      "metadata": {
        "id": "Sq9uJS_Sc-NG"
      },
      "source": [
        "### ii) No of Times Visited :"
      ]
    },
    {
      "cell_type": "code",
      "execution_count": null,
      "metadata": {
        "colab": {
          "base_uri": "https://localhost:8080/"
        },
        "id": "-RkHxcxJcLQU",
        "outputId": "7751b656-8318-4e34-934a-428d538d7378"
      },
      "outputs": [
        {
          "output_type": "execute_result",
          "data": {
            "text/plain": [
              "0    0\n",
              "1    0\n",
              "2    0\n",
              "3    0\n",
              "4    0\n",
              "Name: No of Times Visited, dtype: object"
            ]
          },
          "metadata": {},
          "execution_count": 122
        }
      ],
      "source": [
        "data_obj['No of Times Visited'].head()"
      ]
    },
    {
      "cell_type": "code",
      "execution_count": null,
      "metadata": {
        "colab": {
          "base_uri": "https://localhost:8080/"
        },
        "id": "_EH1zhZkcLEp",
        "outputId": "6450a09b-07af-4188-8710-b45fa5da44ea"
      },
      "outputs": [
        {
          "output_type": "execute_result",
          "data": {
            "text/plain": [
              "0    19485\n",
              "2      963\n",
              "3      510\n",
              "1      332\n",
              "4      319\n",
              "Name: No of Times Visited, dtype: int64"
            ]
          },
          "metadata": {},
          "execution_count": 123
        }
      ],
      "source": [
        "data_obj['No of Times Visited'].value_counts()"
      ]
    },
    {
      "cell_type": "code",
      "execution_count": null,
      "metadata": {
        "colab": {
          "base_uri": "https://localhost:8080/",
          "height": 305
        },
        "id": "Ok1NoN-PctSg",
        "outputId": "44630585-1f52-46fc-8203-5cc8d965bd9d"
      },
      "outputs": [
        {
          "output_type": "execute_result",
          "data": {
            "text/plain": [
              "<matplotlib.axes._subplots.AxesSubplot at 0x7fce4a4b8790>"
            ]
          },
          "metadata": {},
          "execution_count": 124
        },
        {
          "output_type": "display_data",
          "data": {
            "text/plain": [
              "<Figure size 432x288 with 1 Axes>"
            ],
            "image/png": "[encoded data removed]"
          },
          "metadata": {
            "needs_background": "light"
          }
        }
      ],
      "source": [
        "data.groupby('No of Times Visited',)['Sale Price'].mean().sort_values().plot(kind = 'bar',color='c')"
      ]
    },
    {
      "cell_type": "markdown",
      "metadata": {
        "id": "0DhmkjD5bSam"
      },
      "source": [
        "### iii) Condition of the house :"
      ]
    },
    {
      "cell_type": "code",
      "execution_count": null,
      "metadata": {
        "colab": {
          "base_uri": "https://localhost:8080/"
        },
        "id": "LO5yh9md-rdl",
        "outputId": "aa54d5d4-b428-47ad-9bc7-97317dd0c273"
      },
      "outputs": [
        {
          "output_type": "execute_result",
          "data": {
            "text/plain": [
              "0         Fair\n",
              "1         Fair\n",
              "2         Fair\n",
              "3    Excellent\n",
              "4         Fair\n",
              "Name: Condition of the House, dtype: object"
            ]
          },
          "metadata": {},
          "execution_count": 125
        }
      ],
      "source": [
        "data_obj['Condition of the House'].head()"
      ]
    },
    {
      "cell_type": "code",
      "execution_count": null,
      "metadata": {
        "colab": {
          "base_uri": "https://localhost:8080/"
        },
        "id": "ABRVWbiyaftH",
        "outputId": "8165378c-e3db-4e38-c80f-10553dca17ba"
      },
      "outputs": [
        {
          "output_type": "execute_result",
          "data": {
            "text/plain": [
              "Fair         14028\n",
              "Good          5678\n",
              "Excellent     1701\n",
              "Okay           172\n",
              "Bad             30\n",
              "Name: Condition of the House, dtype: int64"
            ]
          },
          "metadata": {},
          "execution_count": 126
        }
      ],
      "source": [
        "data_obj['Condition of the House'].value_counts()"
      ]
    },
    {
      "cell_type": "code",
      "execution_count": null,
      "metadata": {
        "colab": {
          "base_uri": "https://localhost:8080/",
          "height": 333
        },
        "id": "qh0POVmFaqUZ",
        "outputId": "6f9a0d72-fe96-427e-8bdd-dbdb2302163b"
      },
      "outputs": [
        {
          "output_type": "execute_result",
          "data": {
            "text/plain": [
              "<matplotlib.axes._subplots.AxesSubplot at 0x7fce4a6c1b90>"
            ]
          },
          "metadata": {},
          "execution_count": 127
        },
        {
          "output_type": "display_data",
          "data": {
            "text/plain": [
              "<Figure size 432x288 with 1 Axes>"
            ],
            "image/png": "[encoded data removed]"
          },
          "metadata": {
            "needs_background": "light"
          }
        }
      ],
      "source": [
        "data.groupby('Condition of the House',)['Sale Price'].mean().sort_values().plot(kind = 'bar',color='g')"
      ]
    },
    {
      "cell_type": "markdown",
      "metadata": {
        "id": "IJKDIgSt69qX"
      },
      "source": [
        "### iv) Zipcode :"
      ]
    },
    {
      "cell_type": "code",
      "execution_count": null,
      "metadata": {
        "colab": {
          "base_uri": "https://localhost:8080/"
        },
        "id": "9FEzXrbR9-6C",
        "outputId": "9ea4a226-20c5-4bd7-f525-bab5549cdd81"
      },
      "outputs": [
        {
          "output_type": "execute_result",
          "data": {
            "text/plain": [
              "0    98178.0\n",
              "1    98125.0\n",
              "2    98028.0\n",
              "3    98136.0\n",
              "4    98074.0\n",
              "Name: Zipcode, dtype: object"
            ]
          },
          "metadata": {},
          "execution_count": 128
        }
      ],
      "source": [
        "data_obj['Zipcode'].head()"
      ]
    },
    {
      "cell_type": "code",
      "execution_count": null,
      "metadata": {
        "colab": {
          "base_uri": "https://localhost:8080/"
        },
        "id": "_Ifh2YPD9z8I",
        "outputId": "2d6269b2-b9b3-4c96-8ef7-1a55bc79943e"
      },
      "outputs": [
        {
          "output_type": "execute_result",
          "data": {
            "text/plain": [
              "98103.0    602\n",
              "98038.0    590\n",
              "98115.0    583\n",
              "98052.0    574\n",
              "98117.0    553\n",
              "          ... \n",
              "98102.0    105\n",
              "98010.0    100\n",
              "98024.0     81\n",
              "98148.0     57\n",
              "98039.0     50\n",
              "Name: Zipcode, Length: 70, dtype: int64"
            ]
          },
          "metadata": {},
          "execution_count": 129
        }
      ],
      "source": [
        "data_obj['Zipcode'].value_counts()"
      ]
    },
    {
      "cell_type": "code",
      "execution_count": null,
      "metadata": {
        "colab": {
          "base_uri": "https://localhost:8080/",
          "height": 394
        },
        "id": "Olmgo6Jz6_yg",
        "outputId": "2cad7076-2d44-4540-b934-9d7840642209"
      },
      "outputs": [
        {
          "output_type": "execute_result",
          "data": {
            "text/plain": [
              "<matplotlib.axes._subplots.AxesSubplot at 0x7fce4a3fc250>"
            ]
          },
          "metadata": {},
          "execution_count": 130
        },
        {
          "output_type": "display_data",
          "data": {
            "text/plain": [
              "<Figure size 1440x360 with 1 Axes>"
            ],
            "image/png": "[encoded data removed]"
          },
          "metadata": {
            "needs_background": "light"
          }
        }
      ],
      "source": [
        "plt.figure(figsize=(20,5))\n",
        "data.groupby('Zipcode',)['Sale Price'].mean().sort_values().plot(kind = 'bar',color='m')"
      ]
    },
    {
      "cell_type": "code",
      "execution_count": null,
      "metadata": {
        "id": "7nXbgquu7ArB"
      },
      "outputs": [],
      "source": [
        ""
      ]
    },
    {
      "cell_type": "code",
      "execution_count": null,
      "metadata": {
        "id": "YHGCULoTCtBD"
      },
      "outputs": [],
      "source": [
        ""
      ]
    },
    {
      "cell_type": "markdown",
      "metadata": {
        "id": "UHbDTIeYd0NR"
      },
      "source": [
        "### Relationship between Categorical value and Numeric Target Value :\n",
        "\n",
        "*    Does the categorical varaible have any impact on the target variable?\n",
        "\n"
      ]
    },
    {
      "cell_type": "code",
      "execution_count": null,
      "metadata": {
        "id": "u7NWeu_dd54a"
      },
      "outputs": [],
      "source": [
        "from statsmodels.formula.api import ols\n",
        "import statsmodels.api as sm\n"
      ]
    },
    {
      "cell_type": "code",
      "execution_count": null,
      "metadata": {
        "colab": {
          "base_uri": "https://localhost:8080/",
          "height": 525
        },
        "id": "fL0Boplud5r7",
        "outputId": "728a6c36-01b0-4877-9e6b-77c3632f46e4"
      },
      "outputs": [
        {
          "output_type": "execute_result",
          "data": {
            "text/plain": [
              "           ID Date House was Sold  Sale_Price  No of Bedrooms  \\\n",
              "0  7129300520     14 October 2017    221900.0               3   \n",
              "1  6414100192    14 December 2017    538000.0               3   \n",
              "2  5631500400    15 February 2016    180000.0               2   \n",
              "3  2487200875    14 December 2017    604000.0               4   \n",
              "4  1954400510    15 February 2016    510000.0               3   \n",
              "\n",
              "   No of Bathrooms  Flat Area (in Sqft)  Lot Area (in Sqft)  No of Floors  \\\n",
              "0             1.00               1180.0              5650.0           1.0   \n",
              "1             2.25               2570.0              7242.0           2.0   \n",
              "2             1.00                770.0             10000.0           1.0   \n",
              "3             3.00               1960.0              5000.0           1.0   \n",
              "4             2.00               1680.0              8080.0           1.0   \n",
              "\n",
              "  Waterfront_View No_of_Times_Visited  ... Age of House (in Years)  \\\n",
              "0              No                   0  ...                      63   \n",
              "1              No                   0  ...                      67   \n",
              "2              No                   0  ...                      85   \n",
              "3              No                   0  ...                      53   \n",
              "4              No                   0  ...                      31   \n",
              "\n",
              "   Renovated Year  Zipcode  Latitude  Longitude  \\\n",
              "0               0  98178.0   47.5112   -122.257   \n",
              "1            1991  98125.0   47.7210   -122.319   \n",
              "2               0  98028.0   47.7379   -122.233   \n",
              "3               0  98136.0   47.5208   -122.393   \n",
              "4               0  98074.0   47.6168   -122.045   \n",
              "\n",
              "   Living Area after Renovation (in Sqft) Lot Area after Renovation (in Sqft)  \\\n",
              "0                                  1340.0                                5650   \n",
              "1                                  1690.0                                7639   \n",
              "2                                  2720.0                                8062   \n",
              "3                                  1360.0                                5000   \n",
              "4                                  1800.0                                7503   \n",
              "\n",
              "   Ever_Renovated  Purchase Year  Yr Since Renovation  \n",
              "0              No           2017                    0  \n",
              "1             Yes           2017                   26  \n",
              "2              No           2016                    0  \n",
              "3              No           2017                    0  \n",
              "4              No           2016                    0  \n",
              "\n",
              "[5 rows x 24 columns]"
            ],
            "text/html": [
              "\n",
              "  <div id=\"df-6c986863-e9a0-4b43-8c40-fadf3f1f7ff2\">\n",
              "    <div class=\"colab-df-container\">\n",
              "      <div>\n",
              "<style scoped>\n",
              "    .dataframe tbody tr th:only-of-type {\n",
              "        vertical-align: middle;\n",
              "    }\n",
              "\n",
              "    .dataframe tbody tr th {\n",
              "        vertical-align: top;\n",
              "    }\n",
              "\n",
              "    .dataframe thead th {\n",
              "        text-align: right;\n",
              "    }\n",
              "</style>\n",
              "<table border=\"1\" class=\"dataframe\">\n",
              "  <thead>\n",
              "    <tr style=\"text-align: right;\">\n",
              "      <th></th>\n",
              "      <th>ID</th>\n",
              "      <th>Date House was Sold</th>\n",
              "      <th>Sale_Price</th>\n",
              "      <th>No of Bedrooms</th>\n",
              "      <th>No of Bathrooms</th>\n",
              "      <th>Flat Area (in Sqft)</th>\n",
              "      <th>Lot Area (in Sqft)</th>\n",
              "      <th>No of Floors</th>\n",
              "      <th>Waterfront_View</th>\n",
              "      <th>No_of_Times_Visited</th>\n",
              "      <th>...</th>\n",
              "      <th>Age of House (in Years)</th>\n",
              "      <th>Renovated Year</th>\n",
              "      <th>Zipcode</th>\n",
              "      <th>Latitude</th>\n",
              "      <th>Longitude</th>\n",
              "      <th>Living Area after Renovation (in Sqft)</th>\n",
              "      <th>Lot Area after Renovation (in Sqft)</th>\n",
              "      <th>Ever_Renovated</th>\n",
              "      <th>Purchase Year</th>\n",
              "      <th>Yr Since Renovation</th>\n",
              "    </tr>\n",
              "  </thead>\n",
              "  <tbody>\n",
              "    <tr>\n",
              "      <th>0</th>\n",
              "      <td>7129300520</td>\n",
              "      <td>14 October 2017</td>\n",
              "      <td>221900.0</td>\n",
              "      <td>3</td>\n",
              "      <td>1.00</td>\n",
              "      <td>1180.0</td>\n",
              "      <td>5650.0</td>\n",
              "      <td>1.0</td>\n",
              "      <td>No</td>\n",
              "      <td>0</td>\n",
              "      <td>...</td>\n",
              "      <td>63</td>\n",
              "      <td>0</td>\n",
              "      <td>98178.0</td>\n",
              "      <td>47.5112</td>\n",
              "      <td>-122.257</td>\n",
              "      <td>1340.0</td>\n",
              "      <td>5650</td>\n",
              "      <td>No</td>\n",
              "      <td>2017</td>\n",
              "      <td>0</td>\n",
              "    </tr>\n",
              "    <tr>\n",
              "      <th>1</th>\n",
              "      <td>6414100192</td>\n",
              "      <td>14 December 2017</td>\n",
              "      <td>538000.0</td>\n",
              "      <td>3</td>\n",
              "      <td>2.25</td>\n",
              "      <td>2570.0</td>\n",
              "      <td>7242.0</td>\n",
              "      <td>2.0</td>\n",
              "      <td>No</td>\n",
              "      <td>0</td>\n",
              "      <td>...</td>\n",
              "      <td>67</td>\n",
              "      <td>1991</td>\n",
              "      <td>98125.0</td>\n",
              "      <td>47.7210</td>\n",
              "      <td>-122.319</td>\n",
              "      <td>1690.0</td>\n",
              "      <td>7639</td>\n",
              "      <td>Yes</td>\n",
              "      <td>2017</td>\n",
              "      <td>26</td>\n",
              "    </tr>\n",
              "    <tr>\n",
              "      <th>2</th>\n",
              "      <td>5631500400</td>\n",
              "      <td>15 February 2016</td>\n",
              "      <td>180000.0</td>\n",
              "      <td>2</td>\n",
              "      <td>1.00</td>\n",
              "      <td>770.0</td>\n",
              "      <td>10000.0</td>\n",
              "      <td>1.0</td>\n",
              "      <td>No</td>\n",
              "      <td>0</td>\n",
              "      <td>...</td>\n",
              "      <td>85</td>\n",
              "      <td>0</td>\n",
              "      <td>98028.0</td>\n",
              "      <td>47.7379</td>\n",
              "      <td>-122.233</td>\n",
              "      <td>2720.0</td>\n",
              "      <td>8062</td>\n",
              "      <td>No</td>\n",
              "      <td>2016</td>\n",
              "      <td>0</td>\n",
              "    </tr>\n",
              "    <tr>\n",
              "      <th>3</th>\n",
              "      <td>2487200875</td>\n",
              "      <td>14 December 2017</td>\n",
              "      <td>604000.0</td>\n",
              "      <td>4</td>\n",
              "      <td>3.00</td>\n",
              "      <td>1960.0</td>\n",
              "      <td>5000.0</td>\n",
              "      <td>1.0</td>\n",
              "      <td>No</td>\n",
              "      <td>0</td>\n",
              "      <td>...</td>\n",
              "      <td>53</td>\n",
              "      <td>0</td>\n",
              "      <td>98136.0</td>\n",
              "      <td>47.5208</td>\n",
              "      <td>-122.393</td>\n",
              "      <td>1360.0</td>\n",
              "      <td>5000</td>\n",
              "      <td>No</td>\n",
              "      <td>2017</td>\n",
              "      <td>0</td>\n",
              "    </tr>\n",
              "    <tr>\n",
              "      <th>4</th>\n",
              "      <td>1954400510</td>\n",
              "      <td>15 February 2016</td>\n",
              "      <td>510000.0</td>\n",
              "      <td>3</td>\n",
              "      <td>2.00</td>\n",
              "      <td>1680.0</td>\n",
              "      <td>8080.0</td>\n",
              "      <td>1.0</td>\n",
              "      <td>No</td>\n",
              "      <td>0</td>\n",
              "      <td>...</td>\n",
              "      <td>31</td>\n",
              "      <td>0</td>\n",
              "      <td>98074.0</td>\n",
              "      <td>47.6168</td>\n",
              "      <td>-122.045</td>\n",
              "      <td>1800.0</td>\n",
              "      <td>7503</td>\n",
              "      <td>No</td>\n",
              "      <td>2016</td>\n",
              "      <td>0</td>\n",
              "    </tr>\n",
              "  </tbody>\n",
              "</table>\n",
              "<p>5 rows × 24 columns</p>\n",
              "</div>\n",
              "      <button class=\"colab-df-convert\" onclick=\"convertToInteractive('df-6c986863-e9a0-4b43-8c40-fadf3f1f7ff2')\"\n",
              "              title=\"Convert this dataframe to an interactive table.\"\n",
              "              style=\"display:none;\">\n",
              "        \n",
              "  <svg xmlns=\"http://www.w3.org/2000/svg\" height=\"24px\"viewBox=\"0 0 24 24\"\n",
              "       width=\"24px\">\n",
              "    <path d=\"M0 0h24v24H0V0z\" fill=\"none\"/>\n",
              "    <path d=\"M18.56 5.44l.94 2.06.94-2.06 2.06-.94-2.06-.94-.94-2.06-.94 2.06-2.06.94zm-11 1L8.5 8.5l.94-2.06 2.06-.94-2.06-.94L8.5 2.5l-.94 2.06-2.06.94zm10 10l.94 2.06.94-2.06 2.06-.94-2.06-.94-.94-2.06-.94 2.06-2.06.94z\"/><path d=\"M17.41 7.96l-1.37-1.37c-.4-.4-.92-.59-1.43-.59-.52 0-1.04.2-1.43.59L10.3 9.45l-7.72 7.72c-.78.78-.78 2.05 0 2.83L4 21.41c.39.39.9.59 1.41.59.51 0 1.02-.2 1.41-.59l7.78-7.78 2.81-2.81c.8-.78.8-2.07 0-2.86zM5.41 20L4 18.59l7.72-7.72 1.47 1.35L5.41 20z\"/>\n",
              "  </svg>\n",
              "      </button>\n",
              "      \n",
              "  <style>\n",
              "    .colab-df-container {\n",
              "      display:flex;\n",
              "      flex-wrap:wrap;\n",
              "      gap: 12px;\n",
              "    }\n",
              "\n",
              "    .colab-df-convert {\n",
              "      background-color: #E8F0FE;\n",
              "      border: none;\n",
              "      border-radius: 50%;\n",
              "      cursor: pointer;\n",
              "      display: none;\n",
              "      fill: #1967D2;\n",
              "      height: 32px;\n",
              "      padding: 0 0 0 0;\n",
              "      width: 32px;\n",
              "    }\n",
              "\n",
              "    .colab-df-convert:hover {\n",
              "      background-color: #E2EBFA;\n",
              "      box-shadow: 0px 1px 2px rgba(60, 64, 67, 0.3), 0px 1px 3px 1px rgba(60, 64, 67, 0.15);\n",
              "      fill: #174EA6;\n",
              "    }\n",
              "\n",
              "    [theme=dark] .colab-df-convert {\n",
              "      background-color: #3B4455;\n",
              "      fill: #D2E3FC;\n",
              "    }\n",
              "\n",
              "    [theme=dark] .colab-df-convert:hover {\n",
              "      background-color: #434B5C;\n",
              "      box-shadow: 0px 1px 3px 1px rgba(0, 0, 0, 0.15);\n",
              "      filter: drop-shadow(0px 1px 2px rgba(0, 0, 0, 0.3));\n",
              "      fill: #FFFFFF;\n",
              "    }\n",
              "  </style>\n",
              "\n",
              "      <script>\n",
              "        const buttonEl =\n",
              "          document.querySelector('#df-6c986863-e9a0-4b43-8c40-fadf3f1f7ff2 button.colab-df-convert');\n",
              "        buttonEl.style.display =\n",
              "          google.colab.kernel.accessAllowed ? 'block' : 'none';\n",
              "\n",
              "        async function convertToInteractive(key) {\n",
              "          const element = document.querySelector('#df-6c986863-e9a0-4b43-8c40-fadf3f1f7ff2');\n",
              "          const dataTable =\n",
              "            await google.colab.kernel.invokeFunction('convertToInteractive',\n",
              "                                                     [key], {});\n",
              "          if (!dataTable) return;\n",
              "\n",
              "          const docLinkHtml = 'Like what you see? Visit the ' +\n",
              "            '<a target=\"_blank\" href=https://colab.research.google.com/notebooks/data_table.ipynb>data table notebook</a>'\n",
              "            + ' to learn more about interactive tables.';\n",
              "          element.innerHTML = '';\n",
              "          dataTable['output_type'] = 'display_data';\n",
              "          await google.colab.output.renderOutput(dataTable, element);\n",
              "          const docLink = document.createElement('div');\n",
              "          docLink.innerHTML = docLinkHtml;\n",
              "          element.appendChild(docLink);\n",
              "        }\n",
              "      </script>\n",
              "    </div>\n",
              "  </div>\n",
              "  "
            ]
          },
          "metadata": {},
          "execution_count": 132
        }
      ],
      "source": [
        "data=data.rename(columns={'Sale Price': 'Sale_Price',\n",
        "                                 'Condition of the House':'Condition_of_the_House',\n",
        "                                 'Ever Renovated':'Ever_Renovated',\n",
        "                                 'Waterfront View':'Waterfront_View',\n",
        "                          'No of Times Visited':'No_of_Times_Visited'})\n",
        "data.head()\n"
      ]
    },
    {
      "cell_type": "code",
      "execution_count": null,
      "metadata": {
        "colab": {
          "base_uri": "https://localhost:8080/"
        },
        "id": "dCeCt8wZd4sa",
        "outputId": "03f9ff14-ffe1-49dd-96e3-3671f06aafb6"
      },
      "outputs": [
        {
          "output_type": "stream",
          "name": "stdout",
          "text": [
            "                              sum_sq       df         F        PR(>F)\n",
            "Condition_of_the_House  1.441831e+13      4.0  58.25563  5.447605e-49\n",
            "Residual                1.336752e+15  21604.0       NaN           NaN\n"
          ]
        }
      ],
      "source": [
        "mod = ols('Sale_Price ~ Condition_of_the_House',data=data).fit()\n",
        "Anova_Table = sm.stats.anova_lm(mod,typ=2)\n",
        "print(Anova_Table)"
      ]
    },
    {
      "cell_type": "code",
      "execution_count": null,
      "metadata": {
        "colab": {
          "base_uri": "https://localhost:8080/"
        },
        "id": "mREJfwbvC_b7",
        "outputId": "6be554f6-bd2f-49aa-bf97-75898bbeede9"
      },
      "outputs": [
        {
          "output_type": "stream",
          "name": "stdout",
          "text": [
            "                      sum_sq       df           F        PR(>F)\n",
            "Ever_Renovated  1.998463e+13      1.0  324.378469  5.419055e-72\n",
            "Residual        1.331185e+15  21607.0         NaN           NaN\n"
          ]
        }
      ],
      "source": [
        "mod = ols('Sale_Price ~ Ever_Renovated',data=data).fit()\n",
        "Anova_Table = sm.stats.anova_lm(mod,typ=2)\n",
        "print(Anova_Table)"
      ]
    },
    {
      "cell_type": "code",
      "execution_count": null,
      "metadata": {
        "colab": {
          "base_uri": "https://localhost:8080/"
        },
        "id": "5tdCvU6GC-8o",
        "outputId": "94faaf0c-6c78-4621-ed6b-fbea48fbbb22"
      },
      "outputs": [
        {
          "output_type": "stream",
          "name": "stdout",
          "text": [
            "                       sum_sq       df           F         PR(>F)\n",
            "Waterfront_View  3.283737e+13      1.0  538.192683  1.275558e-117\n",
            "Residual         1.318333e+15  21607.0         NaN            NaN\n"
          ]
        }
      ],
      "source": [
        "mod = ols('Sale_Price ~ Waterfront_View',data=data).fit()\n",
        "Anova_Table = sm.stats.anova_lm(mod,typ=2)\n",
        "print(Anova_Table)"
      ]
    },
    {
      "cell_type": "code",
      "execution_count": null,
      "metadata": {
        "colab": {
          "base_uri": "https://localhost:8080/"
        },
        "id": "z-orwDASG47W",
        "outputId": "b9797458-8909-4261-b041-907e0c89d23d"
      },
      "outputs": [
        {
          "output_type": "stream",
          "name": "stdout",
          "text": [
            "                sum_sq       df           F  PR(>F)\n",
            "Zipcode   6.859657e+14     69.0  321.902033     0.0\n",
            "Residual  6.652044e+14  21539.0         NaN     NaN\n"
          ]
        }
      ],
      "source": [
        "mod = ols('Sale_Price ~ Zipcode',data=data).fit()\n",
        "Anova_Table = sm.stats.anova_lm(mod,typ=2)\n",
        "print(Anova_Table)"
      ]
    },
    {
      "cell_type": "markdown",
      "metadata": {
        "id": "UvE1cTFTI-17"
      },
      "source": [
        "## Binning and Creation of Dummy Variables : "
      ]
    },
    {
      "cell_type": "code",
      "execution_count": null,
      "metadata": {
        "colab": {
          "base_uri": "https://localhost:8080/",
          "height": 525
        },
        "id": "NrTWIX7GKXMT",
        "outputId": "2014eb1b-4698-412c-d6b6-0ad293ffa567"
      },
      "outputs": [
        {
          "output_type": "execute_result",
          "data": {
            "text/plain": [
              "           ID Date House was Sold  Sale_Price  No of Bedrooms  \\\n",
              "0  7129300520     14 October 2017    221900.0               3   \n",
              "1  6414100192    14 December 2017    538000.0               3   \n",
              "2  5631500400    15 February 2016    180000.0               2   \n",
              "3  2487200875    14 December 2017    604000.0               4   \n",
              "4  1954400510    15 February 2016    510000.0               3   \n",
              "\n",
              "   No of Bathrooms  Flat Area (in Sqft)  Lot Area (in Sqft)  No of Floors  \\\n",
              "0             1.00               1180.0              5650.0           1.0   \n",
              "1             2.25               2570.0              7242.0           2.0   \n",
              "2             1.00                770.0             10000.0           1.0   \n",
              "3             3.00               1960.0              5000.0           1.0   \n",
              "4             2.00               1680.0              8080.0           1.0   \n",
              "\n",
              "  No_of_Times_Visited  Overall Grade  ...  \\\n",
              "0                   0              7  ...   \n",
              "1                   0              7  ...   \n",
              "2                   0              6  ...   \n",
              "3                   0              7  ...   \n",
              "4                   0              8  ...   \n",
              "\n",
              "   Living Area after Renovation (in Sqft)  \\\n",
              "0                                  1340.0   \n",
              "1                                  1690.0   \n",
              "2                                  2720.0   \n",
              "3                                  1360.0   \n",
              "4                                  1800.0   \n",
              "\n",
              "   Lot Area after Renovation (in Sqft)  Purchase Year  Yr Since Renovation  \\\n",
              "0                                 5650           2017                    0   \n",
              "1                                 7639           2017                   26   \n",
              "2                                 8062           2016                    0   \n",
              "3                                 5000           2017                    0   \n",
              "4                                 7503           2016                    0   \n",
              "\n",
              "  Condition_of_the_House_Excellent  Condition_of_the_House_Fair  \\\n",
              "0                                0                            1   \n",
              "1                                0                            1   \n",
              "2                                0                            1   \n",
              "3                                1                            0   \n",
              "4                                0                            1   \n",
              "\n",
              "   Condition_of_the_House_Good  Condition_of_the_House_Okay  \\\n",
              "0                            0                            0   \n",
              "1                            0                            0   \n",
              "2                            0                            0   \n",
              "3                            0                            0   \n",
              "4                            0                            0   \n",
              "\n",
              "   Waterfront_View_Yes  Ever_Renovated_Yes  \n",
              "0                    0                   0  \n",
              "1                    0                   1  \n",
              "2                    0                   0  \n",
              "3                    0                   0  \n",
              "4                    0                   0  \n",
              "\n",
              "[5 rows x 27 columns]"
            ],
            "text/html": [
              "\n",
              "  <div id=\"df-91ad954e-17ee-4789-b5dd-4e7444c10540\">\n",
              "    <div class=\"colab-df-container\">\n",
              "      <div>\n",
              "<style scoped>\n",
              "    .dataframe tbody tr th:only-of-type {\n",
              "        vertical-align: middle;\n",
              "    }\n",
              "\n",
              "    .dataframe tbody tr th {\n",
              "        vertical-align: top;\n",
              "    }\n",
              "\n",
              "    .dataframe thead th {\n",
              "        text-align: right;\n",
              "    }\n",
              "</style>\n",
              "<table border=\"1\" class=\"dataframe\">\n",
              "  <thead>\n",
              "    <tr style=\"text-align: right;\">\n",
              "      <th></th>\n",
              "      <th>ID</th>\n",
              "      <th>Date House was Sold</th>\n",
              "      <th>Sale_Price</th>\n",
              "      <th>No of Bedrooms</th>\n",
              "      <th>No of Bathrooms</th>\n",
              "      <th>Flat Area (in Sqft)</th>\n",
              "      <th>Lot Area (in Sqft)</th>\n",
              "      <th>No of Floors</th>\n",
              "      <th>No_of_Times_Visited</th>\n",
              "      <th>Overall Grade</th>\n",
              "      <th>...</th>\n",
              "      <th>Living Area after Renovation (in Sqft)</th>\n",
              "      <th>Lot Area after Renovation (in Sqft)</th>\n",
              "      <th>Purchase Year</th>\n",
              "      <th>Yr Since Renovation</th>\n",
              "      <th>Condition_of_the_House_Excellent</th>\n",
              "      <th>Condition_of_the_House_Fair</th>\n",
              "      <th>Condition_of_the_House_Good</th>\n",
              "      <th>Condition_of_the_House_Okay</th>\n",
              "      <th>Waterfront_View_Yes</th>\n",
              "      <th>Ever_Renovated_Yes</th>\n",
              "    </tr>\n",
              "  </thead>\n",
              "  <tbody>\n",
              "    <tr>\n",
              "      <th>0</th>\n",
              "      <td>7129300520</td>\n",
              "      <td>14 October 2017</td>\n",
              "      <td>221900.0</td>\n",
              "      <td>3</td>\n",
              "      <td>1.00</td>\n",
              "      <td>1180.0</td>\n",
              "      <td>5650.0</td>\n",
              "      <td>1.0</td>\n",
              "      <td>0</td>\n",
              "      <td>7</td>\n",
              "      <td>...</td>\n",
              "      <td>1340.0</td>\n",
              "      <td>5650</td>\n",
              "      <td>2017</td>\n",
              "      <td>0</td>\n",
              "      <td>0</td>\n",
              "      <td>1</td>\n",
              "      <td>0</td>\n",
              "      <td>0</td>\n",
              "      <td>0</td>\n",
              "      <td>0</td>\n",
              "    </tr>\n",
              "    <tr>\n",
              "      <th>1</th>\n",
              "      <td>6414100192</td>\n",
              "      <td>14 December 2017</td>\n",
              "      <td>538000.0</td>\n",
              "      <td>3</td>\n",
              "      <td>2.25</td>\n",
              "      <td>2570.0</td>\n",
              "      <td>7242.0</td>\n",
              "      <td>2.0</td>\n",
              "      <td>0</td>\n",
              "      <td>7</td>\n",
              "      <td>...</td>\n",
              "      <td>1690.0</td>\n",
              "      <td>7639</td>\n",
              "      <td>2017</td>\n",
              "      <td>26</td>\n",
              "      <td>0</td>\n",
              "      <td>1</td>\n",
              "      <td>0</td>\n",
              "      <td>0</td>\n",
              "      <td>0</td>\n",
              "      <td>1</td>\n",
              "    </tr>\n",
              "    <tr>\n",
              "      <th>2</th>\n",
              "      <td>5631500400</td>\n",
              "      <td>15 February 2016</td>\n",
              "      <td>180000.0</td>\n",
              "      <td>2</td>\n",
              "      <td>1.00</td>\n",
              "      <td>770.0</td>\n",
              "      <td>10000.0</td>\n",
              "      <td>1.0</td>\n",
              "      <td>0</td>\n",
              "      <td>6</td>\n",
              "      <td>...</td>\n",
              "      <td>2720.0</td>\n",
              "      <td>8062</td>\n",
              "      <td>2016</td>\n",
              "      <td>0</td>\n",
              "      <td>0</td>\n",
              "      <td>1</td>\n",
              "      <td>0</td>\n",
              "      <td>0</td>\n",
              "      <td>0</td>\n",
              "      <td>0</td>\n",
              "    </tr>\n",
              "    <tr>\n",
              "      <th>3</th>\n",
              "      <td>2487200875</td>\n",
              "      <td>14 December 2017</td>\n",
              "      <td>604000.0</td>\n",
              "      <td>4</td>\n",
              "      <td>3.00</td>\n",
              "      <td>1960.0</td>\n",
              "      <td>5000.0</td>\n",
              "      <td>1.0</td>\n",
              "      <td>0</td>\n",
              "      <td>7</td>\n",
              "      <td>...</td>\n",
              "      <td>1360.0</td>\n",
              "      <td>5000</td>\n",
              "      <td>2017</td>\n",
              "      <td>0</td>\n",
              "      <td>1</td>\n",
              "      <td>0</td>\n",
              "      <td>0</td>\n",
              "      <td>0</td>\n",
              "      <td>0</td>\n",
              "      <td>0</td>\n",
              "    </tr>\n",
              "    <tr>\n",
              "      <th>4</th>\n",
              "      <td>1954400510</td>\n",
              "      <td>15 February 2016</td>\n",
              "      <td>510000.0</td>\n",
              "      <td>3</td>\n",
              "      <td>2.00</td>\n",
              "      <td>1680.0</td>\n",
              "      <td>8080.0</td>\n",
              "      <td>1.0</td>\n",
              "      <td>0</td>\n",
              "      <td>8</td>\n",
              "      <td>...</td>\n",
              "      <td>1800.0</td>\n",
              "      <td>7503</td>\n",
              "      <td>2016</td>\n",
              "      <td>0</td>\n",
              "      <td>0</td>\n",
              "      <td>1</td>\n",
              "      <td>0</td>\n",
              "      <td>0</td>\n",
              "      <td>0</td>\n",
              "      <td>0</td>\n",
              "    </tr>\n",
              "  </tbody>\n",
              "</table>\n",
              "<p>5 rows × 27 columns</p>\n",
              "</div>\n",
              "      <button class=\"colab-df-convert\" onclick=\"convertToInteractive('df-91ad954e-17ee-4789-b5dd-4e7444c10540')\"\n",
              "              title=\"Convert this dataframe to an interactive table.\"\n",
              "              style=\"display:none;\">\n",
              "        \n",
              "  <svg xmlns=\"http://www.w3.org/2000/svg\" height=\"24px\"viewBox=\"0 0 24 24\"\n",
              "       width=\"24px\">\n",
              "    <path d=\"M0 0h24v24H0V0z\" fill=\"none\"/>\n",
              "    <path d=\"M18.56 5.44l.94 2.06.94-2.06 2.06-.94-2.06-.94-.94-2.06-.94 2.06-2.06.94zm-11 1L8.5 8.5l.94-2.06 2.06-.94-2.06-.94L8.5 2.5l-.94 2.06-2.06.94zm10 10l.94 2.06.94-2.06 2.06-.94-2.06-.94-.94-2.06-.94 2.06-2.06.94z\"/><path d=\"M17.41 7.96l-1.37-1.37c-.4-.4-.92-.59-1.43-.59-.52 0-1.04.2-1.43.59L10.3 9.45l-7.72 7.72c-.78.78-.78 2.05 0 2.83L4 21.41c.39.39.9.59 1.41.59.51 0 1.02-.2 1.41-.59l7.78-7.78 2.81-2.81c.8-.78.8-2.07 0-2.86zM5.41 20L4 18.59l7.72-7.72 1.47 1.35L5.41 20z\"/>\n",
              "  </svg>\n",
              "      </button>\n",
              "      \n",
              "  <style>\n",
              "    .colab-df-container {\n",
              "      display:flex;\n",
              "      flex-wrap:wrap;\n",
              "      gap: 12px;\n",
              "    }\n",
              "\n",
              "    .colab-df-convert {\n",
              "      background-color: #E8F0FE;\n",
              "      border: none;\n",
              "      border-radius: 50%;\n",
              "      cursor: pointer;\n",
              "      display: none;\n",
              "      fill: #1967D2;\n",
              "      height: 32px;\n",
              "      padding: 0 0 0 0;\n",
              "      width: 32px;\n",
              "    }\n",
              "\n",
              "    .colab-df-convert:hover {\n",
              "      background-color: #E2EBFA;\n",
              "      box-shadow: 0px 1px 2px rgba(60, 64, 67, 0.3), 0px 1px 3px 1px rgba(60, 64, 67, 0.15);\n",
              "      fill: #174EA6;\n",
              "    }\n",
              "\n",
              "    [theme=dark] .colab-df-convert {\n",
              "      background-color: #3B4455;\n",
              "      fill: #D2E3FC;\n",
              "    }\n",
              "\n",
              "    [theme=dark] .colab-df-convert:hover {\n",
              "      background-color: #434B5C;\n",
              "      box-shadow: 0px 1px 3px 1px rgba(0, 0, 0, 0.15);\n",
              "      filter: drop-shadow(0px 1px 2px rgba(0, 0, 0, 0.3));\n",
              "      fill: #FFFFFF;\n",
              "    }\n",
              "  </style>\n",
              "\n",
              "      <script>\n",
              "        const buttonEl =\n",
              "          document.querySelector('#df-91ad954e-17ee-4789-b5dd-4e7444c10540 button.colab-df-convert');\n",
              "        buttonEl.style.display =\n",
              "          google.colab.kernel.accessAllowed ? 'block' : 'none';\n",
              "\n",
              "        async function convertToInteractive(key) {\n",
              "          const element = document.querySelector('#df-91ad954e-17ee-4789-b5dd-4e7444c10540');\n",
              "          const dataTable =\n",
              "            await google.colab.kernel.invokeFunction('convertToInteractive',\n",
              "                                                     [key], {});\n",
              "          if (!dataTable) return;\n",
              "\n",
              "          const docLinkHtml = 'Like what you see? Visit the ' +\n",
              "            '<a target=\"_blank\" href=https://colab.research.google.com/notebooks/data_table.ipynb>data table notebook</a>'\n",
              "            + ' to learn more about interactive tables.';\n",
              "          element.innerHTML = '';\n",
              "          dataTable['output_type'] = 'display_data';\n",
              "          await google.colab.output.renderOutput(dataTable, element);\n",
              "          const docLink = document.createElement('div');\n",
              "          docLink.innerHTML = docLinkHtml;\n",
              "          element.appendChild(docLink);\n",
              "        }\n",
              "      </script>\n",
              "    </div>\n",
              "  </div>\n",
              "  "
            ]
          },
          "metadata": {},
          "execution_count": 137
        }
      ],
      "source": [
        "#Creating Dummy variables\n",
        "data=pd.get_dummies(data,columns=['Condition_of_the_House','Waterfront_View','Ever_Renovated'],drop_first=True)\n",
        "data.head()"
      ]
    },
    {
      "cell_type": "code",
      "execution_count": null,
      "metadata": {
        "id": "XAvhpAmBKXEL"
      },
      "outputs": [],
      "source": [
        ""
      ]
    },
    {
      "cell_type": "code",
      "execution_count": null,
      "metadata": {
        "colab": {
          "base_uri": "https://localhost:8080/",
          "height": 237
        },
        "id": "bm2xpuXTG4gy",
        "outputId": "f41d3669-f17e-475d-eba6-449e30df21d8"
      },
      "outputs": [
        {
          "output_type": "execute_result",
          "data": {
            "text/plain": [
              "            Sale_Price\n",
              "Zipcode               \n",
              "98002.0  234284.035176\n",
              "98168.0  240328.371747\n",
              "98032.0  251296.240000\n",
              "98001.0  280804.690608\n",
              "98148.0  284908.596491"
            ],
            "text/html": [
              "\n",
              "  <div id=\"df-2d5902c9-4bed-43bf-bd55-b25032657db7\">\n",
              "    <div class=\"colab-df-container\">\n",
              "      <div>\n",
              "<style scoped>\n",
              "    .dataframe tbody tr th:only-of-type {\n",
              "        vertical-align: middle;\n",
              "    }\n",
              "\n",
              "    .dataframe tbody tr th {\n",
              "        vertical-align: top;\n",
              "    }\n",
              "\n",
              "    .dataframe thead th {\n",
              "        text-align: right;\n",
              "    }\n",
              "</style>\n",
              "<table border=\"1\" class=\"dataframe\">\n",
              "  <thead>\n",
              "    <tr style=\"text-align: right;\">\n",
              "      <th></th>\n",
              "      <th>Sale_Price</th>\n",
              "    </tr>\n",
              "    <tr>\n",
              "      <th>Zipcode</th>\n",
              "      <th></th>\n",
              "    </tr>\n",
              "  </thead>\n",
              "  <tbody>\n",
              "    <tr>\n",
              "      <th>98002.0</th>\n",
              "      <td>234284.035176</td>\n",
              "    </tr>\n",
              "    <tr>\n",
              "      <th>98168.0</th>\n",
              "      <td>240328.371747</td>\n",
              "    </tr>\n",
              "    <tr>\n",
              "      <th>98032.0</th>\n",
              "      <td>251296.240000</td>\n",
              "    </tr>\n",
              "    <tr>\n",
              "      <th>98001.0</th>\n",
              "      <td>280804.690608</td>\n",
              "    </tr>\n",
              "    <tr>\n",
              "      <th>98148.0</th>\n",
              "      <td>284908.596491</td>\n",
              "    </tr>\n",
              "  </tbody>\n",
              "</table>\n",
              "</div>\n",
              "      <button class=\"colab-df-convert\" onclick=\"convertToInteractive('df-2d5902c9-4bed-43bf-bd55-b25032657db7')\"\n",
              "              title=\"Convert this dataframe to an interactive table.\"\n",
              "              style=\"display:none;\">\n",
              "        \n",
              "  <svg xmlns=\"http://www.w3.org/2000/svg\" height=\"24px\"viewBox=\"0 0 24 24\"\n",
              "       width=\"24px\">\n",
              "    <path d=\"M0 0h24v24H0V0z\" fill=\"none\"/>\n",
              "    <path d=\"M18.56 5.44l.94 2.06.94-2.06 2.06-.94-2.06-.94-.94-2.06-.94 2.06-2.06.94zm-11 1L8.5 8.5l.94-2.06 2.06-.94-2.06-.94L8.5 2.5l-.94 2.06-2.06.94zm10 10l.94 2.06.94-2.06 2.06-.94-2.06-.94-.94-2.06-.94 2.06-2.06.94z\"/><path d=\"M17.41 7.96l-1.37-1.37c-.4-.4-.92-.59-1.43-.59-.52 0-1.04.2-1.43.59L10.3 9.45l-7.72 7.72c-.78.78-.78 2.05 0 2.83L4 21.41c.39.39.9.59 1.41.59.51 0 1.02-.2 1.41-.59l7.78-7.78 2.81-2.81c.8-.78.8-2.07 0-2.86zM5.41 20L4 18.59l7.72-7.72 1.47 1.35L5.41 20z\"/>\n",
              "  </svg>\n",
              "      </button>\n",
              "      \n",
              "  <style>\n",
              "    .colab-df-container {\n",
              "      display:flex;\n",
              "      flex-wrap:wrap;\n",
              "      gap: 12px;\n",
              "    }\n",
              "\n",
              "    .colab-df-convert {\n",
              "      background-color: #E8F0FE;\n",
              "      border: none;\n",
              "      border-radius: 50%;\n",
              "      cursor: pointer;\n",
              "      display: none;\n",
              "      fill: #1967D2;\n",
              "      height: 32px;\n",
              "      padding: 0 0 0 0;\n",
              "      width: 32px;\n",
              "    }\n",
              "\n",
              "    .colab-df-convert:hover {\n",
              "      background-color: #E2EBFA;\n",
              "      box-shadow: 0px 1px 2px rgba(60, 64, 67, 0.3), 0px 1px 3px 1px rgba(60, 64, 67, 0.15);\n",
              "      fill: #174EA6;\n",
              "    }\n",
              "\n",
              "    [theme=dark] .colab-df-convert {\n",
              "      background-color: #3B4455;\n",
              "      fill: #D2E3FC;\n",
              "    }\n",
              "\n",
              "    [theme=dark] .colab-df-convert:hover {\n",
              "      background-color: #434B5C;\n",
              "      box-shadow: 0px 1px 3px 1px rgba(0, 0, 0, 0.15);\n",
              "      filter: drop-shadow(0px 1px 2px rgba(0, 0, 0, 0.3));\n",
              "      fill: #FFFFFF;\n",
              "    }\n",
              "  </style>\n",
              "\n",
              "      <script>\n",
              "        const buttonEl =\n",
              "          document.querySelector('#df-2d5902c9-4bed-43bf-bd55-b25032657db7 button.colab-df-convert');\n",
              "        buttonEl.style.display =\n",
              "          google.colab.kernel.accessAllowed ? 'block' : 'none';\n",
              "\n",
              "        async function convertToInteractive(key) {\n",
              "          const element = document.querySelector('#df-2d5902c9-4bed-43bf-bd55-b25032657db7');\n",
              "          const dataTable =\n",
              "            await google.colab.kernel.invokeFunction('convertToInteractive',\n",
              "                                                     [key], {});\n",
              "          if (!dataTable) return;\n",
              "\n",
              "          const docLinkHtml = 'Like what you see? Visit the ' +\n",
              "            '<a target=\"_blank\" href=https://colab.research.google.com/notebooks/data_table.ipynb>data table notebook</a>'\n",
              "            + ' to learn more about interactive tables.';\n",
              "          element.innerHTML = '';\n",
              "          dataTable['output_type'] = 'display_data';\n",
              "          await google.colab.output.renderOutput(dataTable, element);\n",
              "          const docLink = document.createElement('div');\n",
              "          docLink.innerHTML = docLinkHtml;\n",
              "          element.appendChild(docLink);\n",
              "        }\n",
              "      </script>\n",
              "    </div>\n",
              "  </div>\n",
              "  "
            ]
          },
          "metadata": {},
          "execution_count": 138
        }
      ],
      "source": [
        "Zip_Table =data.groupby('Zipcode').agg({'Sale_Price':'mean'}).sort_values('Sale_Price',ascending=7)\n",
        "Zip_Table.head()"
      ]
    },
    {
      "cell_type": "code",
      "execution_count": null,
      "metadata": {
        "colab": {
          "base_uri": "https://localhost:8080/",
          "height": 237
        },
        "id": "aCefzAVOKXAL",
        "outputId": "01be080c-59c2-4dd9-dcb1-583538c59bc7"
      },
      "outputs": [
        {
          "output_type": "execute_result",
          "data": {
            "text/plain": [
              "            Sale_Price    Zipcode_Group\n",
              "Zipcode                                \n",
              "98002.0  234284.035176  Zipcode_Group_0\n",
              "98168.0  240328.371747  Zipcode_Group_0\n",
              "98032.0  251296.240000  Zipcode_Group_0\n",
              "98001.0  280804.690608  Zipcode_Group_0\n",
              "98148.0  284908.596491  Zipcode_Group_0"
            ],
            "text/html": [
              "\n",
              "  <div id=\"df-9e4fbe21-cbaa-4816-a2a6-3c0b284c3325\">\n",
              "    <div class=\"colab-df-container\">\n",
              "      <div>\n",
              "<style scoped>\n",
              "    .dataframe tbody tr th:only-of-type {\n",
              "        vertical-align: middle;\n",
              "    }\n",
              "\n",
              "    .dataframe tbody tr th {\n",
              "        vertical-align: top;\n",
              "    }\n",
              "\n",
              "    .dataframe thead th {\n",
              "        text-align: right;\n",
              "    }\n",
              "</style>\n",
              "<table border=\"1\" class=\"dataframe\">\n",
              "  <thead>\n",
              "    <tr style=\"text-align: right;\">\n",
              "      <th></th>\n",
              "      <th>Sale_Price</th>\n",
              "      <th>Zipcode_Group</th>\n",
              "    </tr>\n",
              "    <tr>\n",
              "      <th>Zipcode</th>\n",
              "      <th></th>\n",
              "      <th></th>\n",
              "    </tr>\n",
              "  </thead>\n",
              "  <tbody>\n",
              "    <tr>\n",
              "      <th>98002.0</th>\n",
              "      <td>234284.035176</td>\n",
              "      <td>Zipcode_Group_0</td>\n",
              "    </tr>\n",
              "    <tr>\n",
              "      <th>98168.0</th>\n",
              "      <td>240328.371747</td>\n",
              "      <td>Zipcode_Group_0</td>\n",
              "    </tr>\n",
              "    <tr>\n",
              "      <th>98032.0</th>\n",
              "      <td>251296.240000</td>\n",
              "      <td>Zipcode_Group_0</td>\n",
              "    </tr>\n",
              "    <tr>\n",
              "      <th>98001.0</th>\n",
              "      <td>280804.690608</td>\n",
              "      <td>Zipcode_Group_0</td>\n",
              "    </tr>\n",
              "    <tr>\n",
              "      <th>98148.0</th>\n",
              "      <td>284908.596491</td>\n",
              "      <td>Zipcode_Group_0</td>\n",
              "    </tr>\n",
              "  </tbody>\n",
              "</table>\n",
              "</div>\n",
              "      <button class=\"colab-df-convert\" onclick=\"convertToInteractive('df-9e4fbe21-cbaa-4816-a2a6-3c0b284c3325')\"\n",
              "              title=\"Convert this dataframe to an interactive table.\"\n",
              "              style=\"display:none;\">\n",
              "        \n",
              "  <svg xmlns=\"http://www.w3.org/2000/svg\" height=\"24px\"viewBox=\"0 0 24 24\"\n",
              "       width=\"24px\">\n",
              "    <path d=\"M0 0h24v24H0V0z\" fill=\"none\"/>\n",
              "    <path d=\"M18.56 5.44l.94 2.06.94-2.06 2.06-.94-2.06-.94-.94-2.06-.94 2.06-2.06.94zm-11 1L8.5 8.5l.94-2.06 2.06-.94-2.06-.94L8.5 2.5l-.94 2.06-2.06.94zm10 10l.94 2.06.94-2.06 2.06-.94-2.06-.94-.94-2.06-.94 2.06-2.06.94z\"/><path d=\"M17.41 7.96l-1.37-1.37c-.4-.4-.92-.59-1.43-.59-.52 0-1.04.2-1.43.59L10.3 9.45l-7.72 7.72c-.78.78-.78 2.05 0 2.83L4 21.41c.39.39.9.59 1.41.59.51 0 1.02-.2 1.41-.59l7.78-7.78 2.81-2.81c.8-.78.8-2.07 0-2.86zM5.41 20L4 18.59l7.72-7.72 1.47 1.35L5.41 20z\"/>\n",
              "  </svg>\n",
              "      </button>\n",
              "      \n",
              "  <style>\n",
              "    .colab-df-container {\n",
              "      display:flex;\n",
              "      flex-wrap:wrap;\n",
              "      gap: 12px;\n",
              "    }\n",
              "\n",
              "    .colab-df-convert {\n",
              "      background-color: #E8F0FE;\n",
              "      border: none;\n",
              "      border-radius: 50%;\n",
              "      cursor: pointer;\n",
              "      display: none;\n",
              "      fill: #1967D2;\n",
              "      height: 32px;\n",
              "      padding: 0 0 0 0;\n",
              "      width: 32px;\n",
              "    }\n",
              "\n",
              "    .colab-df-convert:hover {\n",
              "      background-color: #E2EBFA;\n",
              "      box-shadow: 0px 1px 2px rgba(60, 64, 67, 0.3), 0px 1px 3px 1px rgba(60, 64, 67, 0.15);\n",
              "      fill: #174EA6;\n",
              "    }\n",
              "\n",
              "    [theme=dark] .colab-df-convert {\n",
              "      background-color: #3B4455;\n",
              "      fill: #D2E3FC;\n",
              "    }\n",
              "\n",
              "    [theme=dark] .colab-df-convert:hover {\n",
              "      background-color: #434B5C;\n",
              "      box-shadow: 0px 1px 3px 1px rgba(0, 0, 0, 0.15);\n",
              "      filter: drop-shadow(0px 1px 2px rgba(0, 0, 0, 0.3));\n",
              "      fill: #FFFFFF;\n",
              "    }\n",
              "  </style>\n",
              "\n",
              "      <script>\n",
              "        const buttonEl =\n",
              "          document.querySelector('#df-9e4fbe21-cbaa-4816-a2a6-3c0b284c3325 button.colab-df-convert');\n",
              "        buttonEl.style.display =\n",
              "          google.colab.kernel.accessAllowed ? 'block' : 'none';\n",
              "\n",
              "        async function convertToInteractive(key) {\n",
              "          const element = document.querySelector('#df-9e4fbe21-cbaa-4816-a2a6-3c0b284c3325');\n",
              "          const dataTable =\n",
              "            await google.colab.kernel.invokeFunction('convertToInteractive',\n",
              "                                                     [key], {});\n",
              "          if (!dataTable) return;\n",
              "\n",
              "          const docLinkHtml = 'Like what you see? Visit the ' +\n",
              "            '<a target=\"_blank\" href=https://colab.research.google.com/notebooks/data_table.ipynb>data table notebook</a>'\n",
              "            + ' to learn more about interactive tables.';\n",
              "          element.innerHTML = '';\n",
              "          dataTable['output_type'] = 'display_data';\n",
              "          await google.colab.output.renderOutput(dataTable, element);\n",
              "          const docLink = document.createElement('div');\n",
              "          docLink.innerHTML = docLinkHtml;\n",
              "          element.appendChild(docLink);\n",
              "        }\n",
              "      </script>\n",
              "    </div>\n",
              "  </div>\n",
              "  "
            ]
          },
          "metadata": {},
          "execution_count": 139
        }
      ],
      "source": [
        "Zip_Table['Zipcode_Group'] = pd.cut(Zip_Table['Sale_Price'],bins=10,labels=['Zipcode_Group_0','Zipcode_Group_1','Zipcode_Group_2','Zipcode_Group_3','Zipcode_Group_4','Zipcode_Group_5',\n",
        "                                                                             'Zipcode_Group_6','Zipcode_Group_7','Zipcode_Group_8','Zipcode_Group_9'],include_lowest = True)\n",
        "Zip_Table.head()\n"
      ]
    },
    {
      "cell_type": "code",
      "execution_count": null,
      "metadata": {
        "id": "hz11eojXOsKN"
      },
      "outputs": [],
      "source": [
        "Zip_Table = Zip_Table.drop(columns='Sale_Price') "
      ]
    },
    {
      "cell_type": "code",
      "execution_count": null,
      "metadata": {
        "colab": {
          "base_uri": "https://localhost:8080/",
          "height": 525
        },
        "id": "_APot2B_Qsr-",
        "outputId": "b6af5a90-5caf-4eed-b5a6-0822033282ce"
      },
      "outputs": [
        {
          "output_type": "execute_result",
          "data": {
            "text/plain": [
              "           ID Date House was Sold  Sale_Price  No of Bedrooms  \\\n",
              "0  7129300520     14 October 2017    221900.0               3   \n",
              "1  6414100192    14 December 2017    538000.0               3   \n",
              "2  5631500400    15 February 2016    180000.0               2   \n",
              "3  2487200875    14 December 2017    604000.0               4   \n",
              "4  1954400510    15 February 2016    510000.0               3   \n",
              "\n",
              "   No of Bathrooms  Flat Area (in Sqft)  Lot Area (in Sqft)  No of Floors  \\\n",
              "0             1.00               1180.0              5650.0           1.0   \n",
              "1             2.25               2570.0              7242.0           2.0   \n",
              "2             1.00                770.0             10000.0           1.0   \n",
              "3             3.00               1960.0              5000.0           1.0   \n",
              "4             2.00               1680.0              8080.0           1.0   \n",
              "\n",
              "  No_of_Times_Visited  Overall Grade  ...  \\\n",
              "0                   0              7  ...   \n",
              "1                   0              7  ...   \n",
              "2                   0              6  ...   \n",
              "3                   0              7  ...   \n",
              "4                   0              8  ...   \n",
              "\n",
              "   Lot Area after Renovation (in Sqft)  Purchase Year  Yr Since Renovation  \\\n",
              "0                                 5650           2017                    0   \n",
              "1                                 7639           2017                   26   \n",
              "2                                 8062           2016                    0   \n",
              "3                                 5000           2017                    0   \n",
              "4                                 7503           2016                    0   \n",
              "\n",
              "   Condition_of_the_House_Excellent  Condition_of_the_House_Fair  \\\n",
              "0                                 0                            1   \n",
              "1                                 0                            1   \n",
              "2                                 0                            1   \n",
              "3                                 1                            0   \n",
              "4                                 0                            1   \n",
              "\n",
              "   Condition_of_the_House_Good  Condition_of_the_House_Okay  \\\n",
              "0                            0                            0   \n",
              "1                            0                            0   \n",
              "2                            0                            0   \n",
              "3                            0                            0   \n",
              "4                            0                            0   \n",
              "\n",
              "   Waterfront_View_Yes  Ever_Renovated_Yes    Zipcode_Group  \n",
              "0                    0                   0  Zipcode_Group_0  \n",
              "1                    0                   1  Zipcode_Group_2  \n",
              "2                    0                   0  Zipcode_Group_2  \n",
              "3                    0                   0  Zipcode_Group_3  \n",
              "4                    0                   0  Zipcode_Group_4  \n",
              "\n",
              "[5 rows x 27 columns]"
            ],
            "text/html": [
              "\n",
              "  <div id=\"df-4c1b6fdc-f83f-4bd8-9722-30e417da3131\">\n",
              "    <div class=\"colab-df-container\">\n",
              "      <div>\n",
              "<style scoped>\n",
              "    .dataframe tbody tr th:only-of-type {\n",
              "        vertical-align: middle;\n",
              "    }\n",
              "\n",
              "    .dataframe tbody tr th {\n",
              "        vertical-align: top;\n",
              "    }\n",
              "\n",
              "    .dataframe thead th {\n",
              "        text-align: right;\n",
              "    }\n",
              "</style>\n",
              "<table border=\"1\" class=\"dataframe\">\n",
              "  <thead>\n",
              "    <tr style=\"text-align: right;\">\n",
              "      <th></th>\n",
              "      <th>ID</th>\n",
              "      <th>Date House was Sold</th>\n",
              "      <th>Sale_Price</th>\n",
              "      <th>No of Bedrooms</th>\n",
              "      <th>No of Bathrooms</th>\n",
              "      <th>Flat Area (in Sqft)</th>\n",
              "      <th>Lot Area (in Sqft)</th>\n",
              "      <th>No of Floors</th>\n",
              "      <th>No_of_Times_Visited</th>\n",
              "      <th>Overall Grade</th>\n",
              "      <th>...</th>\n",
              "      <th>Lot Area after Renovation (in Sqft)</th>\n",
              "      <th>Purchase Year</th>\n",
              "      <th>Yr Since Renovation</th>\n",
              "      <th>Condition_of_the_House_Excellent</th>\n",
              "      <th>Condition_of_the_House_Fair</th>\n",
              "      <th>Condition_of_the_House_Good</th>\n",
              "      <th>Condition_of_the_House_Okay</th>\n",
              "      <th>Waterfront_View_Yes</th>\n",
              "      <th>Ever_Renovated_Yes</th>\n",
              "      <th>Zipcode_Group</th>\n",
              "    </tr>\n",
              "  </thead>\n",
              "  <tbody>\n",
              "    <tr>\n",
              "      <th>0</th>\n",
              "      <td>7129300520</td>\n",
              "      <td>14 October 2017</td>\n",
              "      <td>221900.0</td>\n",
              "      <td>3</td>\n",
              "      <td>1.00</td>\n",
              "      <td>1180.0</td>\n",
              "      <td>5650.0</td>\n",
              "      <td>1.0</td>\n",
              "      <td>0</td>\n",
              "      <td>7</td>\n",
              "      <td>...</td>\n",
              "      <td>5650</td>\n",
              "      <td>2017</td>\n",
              "      <td>0</td>\n",
              "      <td>0</td>\n",
              "      <td>1</td>\n",
              "      <td>0</td>\n",
              "      <td>0</td>\n",
              "      <td>0</td>\n",
              "      <td>0</td>\n",
              "      <td>Zipcode_Group_0</td>\n",
              "    </tr>\n",
              "    <tr>\n",
              "      <th>1</th>\n",
              "      <td>6414100192</td>\n",
              "      <td>14 December 2017</td>\n",
              "      <td>538000.0</td>\n",
              "      <td>3</td>\n",
              "      <td>2.25</td>\n",
              "      <td>2570.0</td>\n",
              "      <td>7242.0</td>\n",
              "      <td>2.0</td>\n",
              "      <td>0</td>\n",
              "      <td>7</td>\n",
              "      <td>...</td>\n",
              "      <td>7639</td>\n",
              "      <td>2017</td>\n",
              "      <td>26</td>\n",
              "      <td>0</td>\n",
              "      <td>1</td>\n",
              "      <td>0</td>\n",
              "      <td>0</td>\n",
              "      <td>0</td>\n",
              "      <td>1</td>\n",
              "      <td>Zipcode_Group_2</td>\n",
              "    </tr>\n",
              "    <tr>\n",
              "      <th>2</th>\n",
              "      <td>5631500400</td>\n",
              "      <td>15 February 2016</td>\n",
              "      <td>180000.0</td>\n",
              "      <td>2</td>\n",
              "      <td>1.00</td>\n",
              "      <td>770.0</td>\n",
              "      <td>10000.0</td>\n",
              "      <td>1.0</td>\n",
              "      <td>0</td>\n",
              "      <td>6</td>\n",
              "      <td>...</td>\n",
              "      <td>8062</td>\n",
              "      <td>2016</td>\n",
              "      <td>0</td>\n",
              "      <td>0</td>\n",
              "      <td>1</td>\n",
              "      <td>0</td>\n",
              "      <td>0</td>\n",
              "      <td>0</td>\n",
              "      <td>0</td>\n",
              "      <td>Zipcode_Group_2</td>\n",
              "    </tr>\n",
              "    <tr>\n",
              "      <th>3</th>\n",
              "      <td>2487200875</td>\n",
              "      <td>14 December 2017</td>\n",
              "      <td>604000.0</td>\n",
              "      <td>4</td>\n",
              "      <td>3.00</td>\n",
              "      <td>1960.0</td>\n",
              "      <td>5000.0</td>\n",
              "      <td>1.0</td>\n",
              "      <td>0</td>\n",
              "      <td>7</td>\n",
              "      <td>...</td>\n",
              "      <td>5000</td>\n",
              "      <td>2017</td>\n",
              "      <td>0</td>\n",
              "      <td>1</td>\n",
              "      <td>0</td>\n",
              "      <td>0</td>\n",
              "      <td>0</td>\n",
              "      <td>0</td>\n",
              "      <td>0</td>\n",
              "      <td>Zipcode_Group_3</td>\n",
              "    </tr>\n",
              "    <tr>\n",
              "      <th>4</th>\n",
              "      <td>1954400510</td>\n",
              "      <td>15 February 2016</td>\n",
              "      <td>510000.0</td>\n",
              "      <td>3</td>\n",
              "      <td>2.00</td>\n",
              "      <td>1680.0</td>\n",
              "      <td>8080.0</td>\n",
              "      <td>1.0</td>\n",
              "      <td>0</td>\n",
              "      <td>8</td>\n",
              "      <td>...</td>\n",
              "      <td>7503</td>\n",
              "      <td>2016</td>\n",
              "      <td>0</td>\n",
              "      <td>0</td>\n",
              "      <td>1</td>\n",
              "      <td>0</td>\n",
              "      <td>0</td>\n",
              "      <td>0</td>\n",
              "      <td>0</td>\n",
              "      <td>Zipcode_Group_4</td>\n",
              "    </tr>\n",
              "  </tbody>\n",
              "</table>\n",
              "<p>5 rows × 27 columns</p>\n",
              "</div>\n",
              "      <button class=\"colab-df-convert\" onclick=\"convertToInteractive('df-4c1b6fdc-f83f-4bd8-9722-30e417da3131')\"\n",
              "              title=\"Convert this dataframe to an interactive table.\"\n",
              "              style=\"display:none;\">\n",
              "        \n",
              "  <svg xmlns=\"http://www.w3.org/2000/svg\" height=\"24px\"viewBox=\"0 0 24 24\"\n",
              "       width=\"24px\">\n",
              "    <path d=\"M0 0h24v24H0V0z\" fill=\"none\"/>\n",
              "    <path d=\"M18.56 5.44l.94 2.06.94-2.06 2.06-.94-2.06-.94-.94-2.06-.94 2.06-2.06.94zm-11 1L8.5 8.5l.94-2.06 2.06-.94-2.06-.94L8.5 2.5l-.94 2.06-2.06.94zm10 10l.94 2.06.94-2.06 2.06-.94-2.06-.94-.94-2.06-.94 2.06-2.06.94z\"/><path d=\"M17.41 7.96l-1.37-1.37c-.4-.4-.92-.59-1.43-.59-.52 0-1.04.2-1.43.59L10.3 9.45l-7.72 7.72c-.78.78-.78 2.05 0 2.83L4 21.41c.39.39.9.59 1.41.59.51 0 1.02-.2 1.41-.59l7.78-7.78 2.81-2.81c.8-.78.8-2.07 0-2.86zM5.41 20L4 18.59l7.72-7.72 1.47 1.35L5.41 20z\"/>\n",
              "  </svg>\n",
              "      </button>\n",
              "      \n",
              "  <style>\n",
              "    .colab-df-container {\n",
              "      display:flex;\n",
              "      flex-wrap:wrap;\n",
              "      gap: 12px;\n",
              "    }\n",
              "\n",
              "    .colab-df-convert {\n",
              "      background-color: #E8F0FE;\n",
              "      border: none;\n",
              "      border-radius: 50%;\n",
              "      cursor: pointer;\n",
              "      display: none;\n",
              "      fill: #1967D2;\n",
              "      height: 32px;\n",
              "      padding: 0 0 0 0;\n",
              "      width: 32px;\n",
              "    }\n",
              "\n",
              "    .colab-df-convert:hover {\n",
              "      background-color: #E2EBFA;\n",
              "      box-shadow: 0px 1px 2px rgba(60, 64, 67, 0.3), 0px 1px 3px 1px rgba(60, 64, 67, 0.15);\n",
              "      fill: #174EA6;\n",
              "    }\n",
              "\n",
              "    [theme=dark] .colab-df-convert {\n",
              "      background-color: #3B4455;\n",
              "      fill: #D2E3FC;\n",
              "    }\n",
              "\n",
              "    [theme=dark] .colab-df-convert:hover {\n",
              "      background-color: #434B5C;\n",
              "      box-shadow: 0px 1px 3px 1px rgba(0, 0, 0, 0.15);\n",
              "      filter: drop-shadow(0px 1px 2px rgba(0, 0, 0, 0.3));\n",
              "      fill: #FFFFFF;\n",
              "    }\n",
              "  </style>\n",
              "\n",
              "      <script>\n",
              "        const buttonEl =\n",
              "          document.querySelector('#df-4c1b6fdc-f83f-4bd8-9722-30e417da3131 button.colab-df-convert');\n",
              "        buttonEl.style.display =\n",
              "          google.colab.kernel.accessAllowed ? 'block' : 'none';\n",
              "\n",
              "        async function convertToInteractive(key) {\n",
              "          const element = document.querySelector('#df-4c1b6fdc-f83f-4bd8-9722-30e417da3131');\n",
              "          const dataTable =\n",
              "            await google.colab.kernel.invokeFunction('convertToInteractive',\n",
              "                                                     [key], {});\n",
              "          if (!dataTable) return;\n",
              "\n",
              "          const docLinkHtml = 'Like what you see? Visit the ' +\n",
              "            '<a target=\"_blank\" href=https://colab.research.google.com/notebooks/data_table.ipynb>data table notebook</a>'\n",
              "            + ' to learn more about interactive tables.';\n",
              "          element.innerHTML = '';\n",
              "          dataTable['output_type'] = 'display_data';\n",
              "          await google.colab.output.renderOutput(dataTable, element);\n",
              "          const docLink = document.createElement('div');\n",
              "          docLink.innerHTML = docLinkHtml;\n",
              "          element.appendChild(docLink);\n",
              "        }\n",
              "      </script>\n",
              "    </div>\n",
              "  </div>\n",
              "  "
            ]
          },
          "metadata": {},
          "execution_count": 141
        }
      ],
      "source": [
        "data = pd.merge(data,Zip_Table,left_on='Zipcode',how='left',right_index=True)\n",
        "data=data.drop(columns='Zipcode')\n",
        "data.head()"
      ]
    },
    {
      "cell_type": "code",
      "execution_count": null,
      "metadata": {
        "colab": {
          "base_uri": "https://localhost:8080/",
          "height": 525
        },
        "id": "eJEKrk0vQmk6",
        "outputId": "88e4523e-93fd-4682-82f8-4968fea68779"
      },
      "outputs": [
        {
          "output_type": "execute_result",
          "data": {
            "text/plain": [
              "           ID Date House was Sold  Sale_Price  No of Bedrooms  \\\n",
              "0  7129300520     14 October 2017    221900.0               3   \n",
              "1  6414100192    14 December 2017    538000.0               3   \n",
              "2  5631500400    15 February 2016    180000.0               2   \n",
              "3  2487200875    14 December 2017    604000.0               4   \n",
              "4  1954400510    15 February 2016    510000.0               3   \n",
              "\n",
              "   No of Bathrooms  Flat Area (in Sqft)  Lot Area (in Sqft)  No of Floors  \\\n",
              "0             1.00               1180.0              5650.0           1.0   \n",
              "1             2.25               2570.0              7242.0           2.0   \n",
              "2             1.00                770.0             10000.0           1.0   \n",
              "3             3.00               1960.0              5000.0           1.0   \n",
              "4             2.00               1680.0              8080.0           1.0   \n",
              "\n",
              "  No_of_Times_Visited  Overall Grade  ...  Ever_Renovated_Yes  \\\n",
              "0                   0              7  ...                   0   \n",
              "1                   0              7  ...                   1   \n",
              "2                   0              6  ...                   0   \n",
              "3                   0              7  ...                   0   \n",
              "4                   0              8  ...                   0   \n",
              "\n",
              "   Zipcode_Group_Zipcode_Group_1  Zipcode_Group_Zipcode_Group_2  \\\n",
              "0                              0                              0   \n",
              "1                              0                              1   \n",
              "2                              0                              1   \n",
              "3                              0                              0   \n",
              "4                              0                              0   \n",
              "\n",
              "   Zipcode_Group_Zipcode_Group_3  Zipcode_Group_Zipcode_Group_4  \\\n",
              "0                              0                              0   \n",
              "1                              0                              0   \n",
              "2                              0                              0   \n",
              "3                              1                              0   \n",
              "4                              0                              1   \n",
              "\n",
              "   Zipcode_Group_Zipcode_Group_5  Zipcode_Group_Zipcode_Group_6  \\\n",
              "0                              0                              0   \n",
              "1                              0                              0   \n",
              "2                              0                              0   \n",
              "3                              0                              0   \n",
              "4                              0                              0   \n",
              "\n",
              "   Zipcode_Group_Zipcode_Group_7  Zipcode_Group_Zipcode_Group_8  \\\n",
              "0                              0                              0   \n",
              "1                              0                              0   \n",
              "2                              0                              0   \n",
              "3                              0                              0   \n",
              "4                              0                              0   \n",
              "\n",
              "   Zipcode_Group_Zipcode_Group_9  \n",
              "0                              0  \n",
              "1                              0  \n",
              "2                              0  \n",
              "3                              0  \n",
              "4                              0  \n",
              "\n",
              "[5 rows x 35 columns]"
            ],
            "text/html": [
              "\n",
              "  <div id=\"df-608fa3d1-2927-48ea-8b22-8672be1e88a6\">\n",
              "    <div class=\"colab-df-container\">\n",
              "      <div>\n",
              "<style scoped>\n",
              "    .dataframe tbody tr th:only-of-type {\n",
              "        vertical-align: middle;\n",
              "    }\n",
              "\n",
              "    .dataframe tbody tr th {\n",
              "        vertical-align: top;\n",
              "    }\n",
              "\n",
              "    .dataframe thead th {\n",
              "        text-align: right;\n",
              "    }\n",
              "</style>\n",
              "<table border=\"1\" class=\"dataframe\">\n",
              "  <thead>\n",
              "    <tr style=\"text-align: right;\">\n",
              "      <th></th>\n",
              "      <th>ID</th>\n",
              "      <th>Date House was Sold</th>\n",
              "      <th>Sale_Price</th>\n",
              "      <th>No of Bedrooms</th>\n",
              "      <th>No of Bathrooms</th>\n",
              "      <th>Flat Area (in Sqft)</th>\n",
              "      <th>Lot Area (in Sqft)</th>\n",
              "      <th>No of Floors</th>\n",
              "      <th>No_of_Times_Visited</th>\n",
              "      <th>Overall Grade</th>\n",
              "      <th>...</th>\n",
              "      <th>Ever_Renovated_Yes</th>\n",
              "      <th>Zipcode_Group_Zipcode_Group_1</th>\n",
              "      <th>Zipcode_Group_Zipcode_Group_2</th>\n",
              "      <th>Zipcode_Group_Zipcode_Group_3</th>\n",
              "      <th>Zipcode_Group_Zipcode_Group_4</th>\n",
              "      <th>Zipcode_Group_Zipcode_Group_5</th>\n",
              "      <th>Zipcode_Group_Zipcode_Group_6</th>\n",
              "      <th>Zipcode_Group_Zipcode_Group_7</th>\n",
              "      <th>Zipcode_Group_Zipcode_Group_8</th>\n",
              "      <th>Zipcode_Group_Zipcode_Group_9</th>\n",
              "    </tr>\n",
              "  </thead>\n",
              "  <tbody>\n",
              "    <tr>\n",
              "      <th>0</th>\n",
              "      <td>7129300520</td>\n",
              "      <td>14 October 2017</td>\n",
              "      <td>221900.0</td>\n",
              "      <td>3</td>\n",
              "      <td>1.00</td>\n",
              "      <td>1180.0</td>\n",
              "      <td>5650.0</td>\n",
              "      <td>1.0</td>\n",
              "      <td>0</td>\n",
              "      <td>7</td>\n",
              "      <td>...</td>\n",
              "      <td>0</td>\n",
              "      <td>0</td>\n",
              "      <td>0</td>\n",
              "      <td>0</td>\n",
              "      <td>0</td>\n",
              "      <td>0</td>\n",
              "      <td>0</td>\n",
              "      <td>0</td>\n",
              "      <td>0</td>\n",
              "      <td>0</td>\n",
              "    </tr>\n",
              "    <tr>\n",
              "      <th>1</th>\n",
              "      <td>6414100192</td>\n",
              "      <td>14 December 2017</td>\n",
              "      <td>538000.0</td>\n",
              "      <td>3</td>\n",
              "      <td>2.25</td>\n",
              "      <td>2570.0</td>\n",
              "      <td>7242.0</td>\n",
              "      <td>2.0</td>\n",
              "      <td>0</td>\n",
              "      <td>7</td>\n",
              "      <td>...</td>\n",
              "      <td>1</td>\n",
              "      <td>0</td>\n",
              "      <td>1</td>\n",
              "      <td>0</td>\n",
              "      <td>0</td>\n",
              "      <td>0</td>\n",
              "      <td>0</td>\n",
              "      <td>0</td>\n",
              "      <td>0</td>\n",
              "      <td>0</td>\n",
              "    </tr>\n",
              "    <tr>\n",
              "      <th>2</th>\n",
              "      <td>5631500400</td>\n",
              "      <td>15 February 2016</td>\n",
              "      <td>180000.0</td>\n",
              "      <td>2</td>\n",
              "      <td>1.00</td>\n",
              "      <td>770.0</td>\n",
              "      <td>10000.0</td>\n",
              "      <td>1.0</td>\n",
              "      <td>0</td>\n",
              "      <td>6</td>\n",
              "      <td>...</td>\n",
              "      <td>0</td>\n",
              "      <td>0</td>\n",
              "      <td>1</td>\n",
              "      <td>0</td>\n",
              "      <td>0</td>\n",
              "      <td>0</td>\n",
              "      <td>0</td>\n",
              "      <td>0</td>\n",
              "      <td>0</td>\n",
              "      <td>0</td>\n",
              "    </tr>\n",
              "    <tr>\n",
              "      <th>3</th>\n",
              "      <td>2487200875</td>\n",
              "      <td>14 December 2017</td>\n",
              "      <td>604000.0</td>\n",
              "      <td>4</td>\n",
              "      <td>3.00</td>\n",
              "      <td>1960.0</td>\n",
              "      <td>5000.0</td>\n",
              "      <td>1.0</td>\n",
              "      <td>0</td>\n",
              "      <td>7</td>\n",
              "      <td>...</td>\n",
              "      <td>0</td>\n",
              "      <td>0</td>\n",
              "      <td>0</td>\n",
              "      <td>1</td>\n",
              "      <td>0</td>\n",
              "      <td>0</td>\n",
              "      <td>0</td>\n",
              "      <td>0</td>\n",
              "      <td>0</td>\n",
              "      <td>0</td>\n",
              "    </tr>\n",
              "    <tr>\n",
              "      <th>4</th>\n",
              "      <td>1954400510</td>\n",
              "      <td>15 February 2016</td>\n",
              "      <td>510000.0</td>\n",
              "      <td>3</td>\n",
              "      <td>2.00</td>\n",
              "      <td>1680.0</td>\n",
              "      <td>8080.0</td>\n",
              "      <td>1.0</td>\n",
              "      <td>0</td>\n",
              "      <td>8</td>\n",
              "      <td>...</td>\n",
              "      <td>0</td>\n",
              "      <td>0</td>\n",
              "      <td>0</td>\n",
              "      <td>0</td>\n",
              "      <td>1</td>\n",
              "      <td>0</td>\n",
              "      <td>0</td>\n",
              "      <td>0</td>\n",
              "      <td>0</td>\n",
              "      <td>0</td>\n",
              "    </tr>\n",
              "  </tbody>\n",
              "</table>\n",
              "<p>5 rows × 35 columns</p>\n",
              "</div>\n",
              "      <button class=\"colab-df-convert\" onclick=\"convertToInteractive('df-608fa3d1-2927-48ea-8b22-8672be1e88a6')\"\n",
              "              title=\"Convert this dataframe to an interactive table.\"\n",
              "              style=\"display:none;\">\n",
              "        \n",
              "  <svg xmlns=\"http://www.w3.org/2000/svg\" height=\"24px\"viewBox=\"0 0 24 24\"\n",
              "       width=\"24px\">\n",
              "    <path d=\"M0 0h24v24H0V0z\" fill=\"none\"/>\n",
              "    <path d=\"M18.56 5.44l.94 2.06.94-2.06 2.06-.94-2.06-.94-.94-2.06-.94 2.06-2.06.94zm-11 1L8.5 8.5l.94-2.06 2.06-.94-2.06-.94L8.5 2.5l-.94 2.06-2.06.94zm10 10l.94 2.06.94-2.06 2.06-.94-2.06-.94-.94-2.06-.94 2.06-2.06.94z\"/><path d=\"M17.41 7.96l-1.37-1.37c-.4-.4-.92-.59-1.43-.59-.52 0-1.04.2-1.43.59L10.3 9.45l-7.72 7.72c-.78.78-.78 2.05 0 2.83L4 21.41c.39.39.9.59 1.41.59.51 0 1.02-.2 1.41-.59l7.78-7.78 2.81-2.81c.8-.78.8-2.07 0-2.86zM5.41 20L4 18.59l7.72-7.72 1.47 1.35L5.41 20z\"/>\n",
              "  </svg>\n",
              "      </button>\n",
              "      \n",
              "  <style>\n",
              "    .colab-df-container {\n",
              "      display:flex;\n",
              "      flex-wrap:wrap;\n",
              "      gap: 12px;\n",
              "    }\n",
              "\n",
              "    .colab-df-convert {\n",
              "      background-color: #E8F0FE;\n",
              "      border: none;\n",
              "      border-radius: 50%;\n",
              "      cursor: pointer;\n",
              "      display: none;\n",
              "      fill: #1967D2;\n",
              "      height: 32px;\n",
              "      padding: 0 0 0 0;\n",
              "      width: 32px;\n",
              "    }\n",
              "\n",
              "    .colab-df-convert:hover {\n",
              "      background-color: #E2EBFA;\n",
              "      box-shadow: 0px 1px 2px rgba(60, 64, 67, 0.3), 0px 1px 3px 1px rgba(60, 64, 67, 0.15);\n",
              "      fill: #174EA6;\n",
              "    }\n",
              "\n",
              "    [theme=dark] .colab-df-convert {\n",
              "      background-color: #3B4455;\n",
              "      fill: #D2E3FC;\n",
              "    }\n",
              "\n",
              "    [theme=dark] .colab-df-convert:hover {\n",
              "      background-color: #434B5C;\n",
              "      box-shadow: 0px 1px 3px 1px rgba(0, 0, 0, 0.15);\n",
              "      filter: drop-shadow(0px 1px 2px rgba(0, 0, 0, 0.3));\n",
              "      fill: #FFFFFF;\n",
              "    }\n",
              "  </style>\n",
              "\n",
              "      <script>\n",
              "        const buttonEl =\n",
              "          document.querySelector('#df-608fa3d1-2927-48ea-8b22-8672be1e88a6 button.colab-df-convert');\n",
              "        buttonEl.style.display =\n",
              "          google.colab.kernel.accessAllowed ? 'block' : 'none';\n",
              "\n",
              "        async function convertToInteractive(key) {\n",
              "          const element = document.querySelector('#df-608fa3d1-2927-48ea-8b22-8672be1e88a6');\n",
              "          const dataTable =\n",
              "            await google.colab.kernel.invokeFunction('convertToInteractive',\n",
              "                                                     [key], {});\n",
              "          if (!dataTable) return;\n",
              "\n",
              "          const docLinkHtml = 'Like what you see? Visit the ' +\n",
              "            '<a target=\"_blank\" href=https://colab.research.google.com/notebooks/data_table.ipynb>data table notebook</a>'\n",
              "            + ' to learn more about interactive tables.';\n",
              "          element.innerHTML = '';\n",
              "          dataTable['output_type'] = 'display_data';\n",
              "          await google.colab.output.renderOutput(dataTable, element);\n",
              "          const docLink = document.createElement('div');\n",
              "          docLink.innerHTML = docLinkHtml;\n",
              "          element.appendChild(docLink);\n",
              "        }\n",
              "      </script>\n",
              "    </div>\n",
              "  </div>\n",
              "  "
            ]
          },
          "metadata": {},
          "execution_count": 142
        }
      ],
      "source": [
        "data = pd.get_dummies(data,columns=['Zipcode_Group'],drop_first=True)\n",
        "data.head()"
      ]
    },
    {
      "cell_type": "code",
      "execution_count": null,
      "metadata": {
        "id": "HR_TafEuOrxp"
      },
      "outputs": [],
      "source": [
        ""
      ]
    },
    {
      "cell_type": "markdown",
      "metadata": {
        "id": "nsRP_lu4Tq2s"
      },
      "source": [
        "## Splitting Data into Test and Train"
      ]
    },
    {
      "cell_type": "code",
      "execution_count": null,
      "metadata": {
        "colab": {
          "base_uri": "https://localhost:8080/"
        },
        "id": "H_jKgigYT1Db",
        "outputId": "5bbc592a-c2f2-4cb9-e231-abe08fc2d44c"
      },
      "outputs": [
        {
          "output_type": "execute_result",
          "data": {
            "text/plain": [
              "0        7129300520\n",
              "1        6414100192\n",
              "2        5631500400\n",
              "3        2487200875\n",
              "4        1954400510\n",
              "            ...    \n",
              "21608     263000018\n",
              "21609    6600060120\n",
              "21610    1523300141\n",
              "21611     291310100\n",
              "21612    1523300157\n",
              "Name: ID, Length: 21609, dtype: int64"
            ]
          },
          "metadata": {},
          "execution_count": 143
        }
      ],
      "source": [
        "Y = data.iloc[:,0]\n",
        "Y"
      ]
    },
    {
      "cell_type": "code",
      "execution_count": null,
      "metadata": {
        "colab": {
          "base_uri": "https://localhost:8080/",
          "height": 904
        },
        "id": "s6eaSeuaT2Zs",
        "outputId": "0e68c6fc-b4b9-4e3f-9127-2b905cad2c4b"
      },
      "outputs": [
        {
          "output_type": "execute_result",
          "data": {
            "text/plain": [
              "      Date House was Sold  Sale_Price  No of Bedrooms  No of Bathrooms  \\\n",
              "0         14 October 2017    221900.0               3             1.00   \n",
              "1        14 December 2017    538000.0               3             2.25   \n",
              "2        15 February 2016    180000.0               2             1.00   \n",
              "3        14 December 2017    604000.0               4             3.00   \n",
              "4        15 February 2016    510000.0               3             2.00   \n",
              "...                   ...         ...             ...              ...   \n",
              "21608         14 May 2017    360000.0               3             2.50   \n",
              "21609    15 February 2016    400000.0               4             2.50   \n",
              "21610        14 June 2017    402101.0               2             0.75   \n",
              "21611     15 January 2016    400000.0               3             2.50   \n",
              "21612     14 October 2017    325000.0               2             0.75   \n",
              "\n",
              "       Flat Area (in Sqft)  Lot Area (in Sqft)  No of Floors  \\\n",
              "0                   1180.0              5650.0           1.0   \n",
              "1                   2570.0              7242.0           2.0   \n",
              "2                    770.0             10000.0           1.0   \n",
              "3                   1960.0              5000.0           1.0   \n",
              "4                   1680.0              8080.0           1.0   \n",
              "...                    ...                 ...           ...   \n",
              "21608               1530.0              1131.0           3.0   \n",
              "21609               2310.0              5813.0           2.0   \n",
              "21610               1020.0              1350.0           2.0   \n",
              "21611               1600.0              2388.0           2.0   \n",
              "21612               1020.0              1076.0           2.0   \n",
              "\n",
              "      No_of_Times_Visited  Overall Grade  \\\n",
              "0                       0              7   \n",
              "1                       0              7   \n",
              "2                       0              6   \n",
              "3                       0              7   \n",
              "4                       0              8   \n",
              "...                   ...            ...   \n",
              "21608                   0              8   \n",
              "21609                   0              8   \n",
              "21610                   0              7   \n",
              "21611                   0              8   \n",
              "21612                   0              7   \n",
              "\n",
              "       Area of the House from Basement (in Sqft)  ...  Ever_Renovated_Yes  \\\n",
              "0                                         1180.0  ...                   0   \n",
              "1                                         2170.0  ...                   1   \n",
              "2                                          770.0  ...                   0   \n",
              "3                                         1050.0  ...                   0   \n",
              "4                                         1680.0  ...                   0   \n",
              "...                                          ...  ...                 ...   \n",
              "21608                                     1530.0  ...                   0   \n",
              "21609                                     2310.0  ...                   0   \n",
              "21610                                     1020.0  ...                   0   \n",
              "21611                                     1600.0  ...                   0   \n",
              "21612                                     1020.0  ...                   0   \n",
              "\n",
              "       Zipcode_Group_Zipcode_Group_1  Zipcode_Group_Zipcode_Group_2  \\\n",
              "0                                  0                              0   \n",
              "1                                  0                              1   \n",
              "2                                  0                              1   \n",
              "3                                  0                              0   \n",
              "4                                  0                              0   \n",
              "...                              ...                            ...   \n",
              "21608                              0                              0   \n",
              "21609                              1                              0   \n",
              "21610                              0                              0   \n",
              "21611                              0                              0   \n",
              "21612                              0                              0   \n",
              "\n",
              "       Zipcode_Group_Zipcode_Group_3  Zipcode_Group_Zipcode_Group_4  \\\n",
              "0                                  0                              0   \n",
              "1                                  0                              0   \n",
              "2                                  0                              0   \n",
              "3                                  1                              0   \n",
              "4                                  0                              1   \n",
              "...                              ...                            ...   \n",
              "21608                              1                              0   \n",
              "21609                              0                              0   \n",
              "21610                              1                              0   \n",
              "21611                              0                              1   \n",
              "21612                              1                              0   \n",
              "\n",
              "       Zipcode_Group_Zipcode_Group_5  Zipcode_Group_Zipcode_Group_6  \\\n",
              "0                                  0                              0   \n",
              "1                                  0                              0   \n",
              "2                                  0                              0   \n",
              "3                                  0                              0   \n",
              "4                                  0                              0   \n",
              "...                              ...                            ...   \n",
              "21608                              0                              0   \n",
              "21609                              0                              0   \n",
              "21610                              0                              0   \n",
              "21611                              0                              0   \n",
              "21612                              0                              0   \n",
              "\n",
              "       Zipcode_Group_Zipcode_Group_7  Zipcode_Group_Zipcode_Group_8  \\\n",
              "0                                  0                              0   \n",
              "1                                  0                              0   \n",
              "2                                  0                              0   \n",
              "3                                  0                              0   \n",
              "4                                  0                              0   \n",
              "...                              ...                            ...   \n",
              "21608                              0                              0   \n",
              "21609                              0                              0   \n",
              "21610                              0                              0   \n",
              "21611                              0                              0   \n",
              "21612                              0                              0   \n",
              "\n",
              "       Zipcode_Group_Zipcode_Group_9  \n",
              "0                                  0  \n",
              "1                                  0  \n",
              "2                                  0  \n",
              "3                                  0  \n",
              "4                                  0  \n",
              "...                              ...  \n",
              "21608                              0  \n",
              "21609                              0  \n",
              "21610                              0  \n",
              "21611                              0  \n",
              "21612                              0  \n",
              "\n",
              "[21609 rows x 34 columns]"
            ],
            "text/html": [
              "\n",
              "  <div id=\"df-a2aa5f7f-da2d-4dd5-ae5a-7f0d6522e4ad\">\n",
              "    <div class=\"colab-df-container\">\n",
              "      <div>\n",
              "<style scoped>\n",
              "    .dataframe tbody tr th:only-of-type {\n",
              "        vertical-align: middle;\n",
              "    }\n",
              "\n",
              "    .dataframe tbody tr th {\n",
              "        vertical-align: top;\n",
              "    }\n",
              "\n",
              "    .dataframe thead th {\n",
              "        text-align: right;\n",
              "    }\n",
              "</style>\n",
              "<table border=\"1\" class=\"dataframe\">\n",
              "  <thead>\n",
              "    <tr style=\"text-align: right;\">\n",
              "      <th></th>\n",
              "      <th>Date House was Sold</th>\n",
              "      <th>Sale_Price</th>\n",
              "      <th>No of Bedrooms</th>\n",
              "      <th>No of Bathrooms</th>\n",
              "      <th>Flat Area (in Sqft)</th>\n",
              "      <th>Lot Area (in Sqft)</th>\n",
              "      <th>No of Floors</th>\n",
              "      <th>No_of_Times_Visited</th>\n",
              "      <th>Overall Grade</th>\n",
              "      <th>Area of the House from Basement (in Sqft)</th>\n",
              "      <th>...</th>\n",
              "      <th>Ever_Renovated_Yes</th>\n",
              "      <th>Zipcode_Group_Zipcode_Group_1</th>\n",
              "      <th>Zipcode_Group_Zipcode_Group_2</th>\n",
              "      <th>Zipcode_Group_Zipcode_Group_3</th>\n",
              "      <th>Zipcode_Group_Zipcode_Group_4</th>\n",
              "      <th>Zipcode_Group_Zipcode_Group_5</th>\n",
              "      <th>Zipcode_Group_Zipcode_Group_6</th>\n",
              "      <th>Zipcode_Group_Zipcode_Group_7</th>\n",
              "      <th>Zipcode_Group_Zipcode_Group_8</th>\n",
              "      <th>Zipcode_Group_Zipcode_Group_9</th>\n",
              "    </tr>\n",
              "  </thead>\n",
              "  <tbody>\n",
              "    <tr>\n",
              "      <th>0</th>\n",
              "      <td>14 October 2017</td>\n",
              "      <td>221900.0</td>\n",
              "      <td>3</td>\n",
              "      <td>1.00</td>\n",
              "      <td>1180.0</td>\n",
              "      <td>5650.0</td>\n",
              "      <td>1.0</td>\n",
              "      <td>0</td>\n",
              "      <td>7</td>\n",
              "      <td>1180.0</td>\n",
              "      <td>...</td>\n",
              "      <td>0</td>\n",
              "      <td>0</td>\n",
              "      <td>0</td>\n",
              "      <td>0</td>\n",
              "      <td>0</td>\n",
              "      <td>0</td>\n",
              "      <td>0</td>\n",
              "      <td>0</td>\n",
              "      <td>0</td>\n",
              "      <td>0</td>\n",
              "    </tr>\n",
              "    <tr>\n",
              "      <th>1</th>\n",
              "      <td>14 December 2017</td>\n",
              "      <td>538000.0</td>\n",
              "      <td>3</td>\n",
              "      <td>2.25</td>\n",
              "      <td>2570.0</td>\n",
              "      <td>7242.0</td>\n",
              "      <td>2.0</td>\n",
              "      <td>0</td>\n",
              "      <td>7</td>\n",
              "      <td>2170.0</td>\n",
              "      <td>...</td>\n",
              "      <td>1</td>\n",
              "      <td>0</td>\n",
              "      <td>1</td>\n",
              "      <td>0</td>\n",
              "      <td>0</td>\n",
              "      <td>0</td>\n",
              "      <td>0</td>\n",
              "      <td>0</td>\n",
              "      <td>0</td>\n",
              "      <td>0</td>\n",
              "    </tr>\n",
              "    <tr>\n",
              "      <th>2</th>\n",
              "      <td>15 February 2016</td>\n",
              "      <td>180000.0</td>\n",
              "      <td>2</td>\n",
              "      <td>1.00</td>\n",
              "      <td>770.0</td>\n",
              "      <td>10000.0</td>\n",
              "      <td>1.0</td>\n",
              "      <td>0</td>\n",
              "      <td>6</td>\n",
              "      <td>770.0</td>\n",
              "      <td>...</td>\n",
              "      <td>0</td>\n",
              "      <td>0</td>\n",
              "      <td>1</td>\n",
              "      <td>0</td>\n",
              "      <td>0</td>\n",
              "      <td>0</td>\n",
              "      <td>0</td>\n",
              "      <td>0</td>\n",
              "      <td>0</td>\n",
              "      <td>0</td>\n",
              "    </tr>\n",
              "    <tr>\n",
              "      <th>3</th>\n",
              "      <td>14 December 2017</td>\n",
              "      <td>604000.0</td>\n",
              "      <td>4</td>\n",
              "      <td>3.00</td>\n",
              "      <td>1960.0</td>\n",
              "      <td>5000.0</td>\n",
              "      <td>1.0</td>\n",
              "      <td>0</td>\n",
              "      <td>7</td>\n",
              "      <td>1050.0</td>\n",
              "      <td>...</td>\n",
              "      <td>0</td>\n",
              "      <td>0</td>\n",
              "      <td>0</td>\n",
              "      <td>1</td>\n",
              "      <td>0</td>\n",
              "      <td>0</td>\n",
              "      <td>0</td>\n",
              "      <td>0</td>\n",
              "      <td>0</td>\n",
              "      <td>0</td>\n",
              "    </tr>\n",
              "    <tr>\n",
              "      <th>4</th>\n",
              "      <td>15 February 2016</td>\n",
              "      <td>510000.0</td>\n",
              "      <td>3</td>\n",
              "      <td>2.00</td>\n",
              "      <td>1680.0</td>\n",
              "      <td>8080.0</td>\n",
              "      <td>1.0</td>\n",
              "      <td>0</td>\n",
              "      <td>8</td>\n",
              "      <td>1680.0</td>\n",
              "      <td>...</td>\n",
              "      <td>0</td>\n",
              "      <td>0</td>\n",
              "      <td>0</td>\n",
              "      <td>0</td>\n",
              "      <td>1</td>\n",
              "      <td>0</td>\n",
              "      <td>0</td>\n",
              "      <td>0</td>\n",
              "      <td>0</td>\n",
              "      <td>0</td>\n",
              "    </tr>\n",
              "    <tr>\n",
              "      <th>...</th>\n",
              "      <td>...</td>\n",
              "      <td>...</td>\n",
              "      <td>...</td>\n",
              "      <td>...</td>\n",
              "      <td>...</td>\n",
              "      <td>...</td>\n",
              "      <td>...</td>\n",
              "      <td>...</td>\n",
              "      <td>...</td>\n",
              "      <td>...</td>\n",
              "      <td>...</td>\n",
              "      <td>...</td>\n",
              "      <td>...</td>\n",
              "      <td>...</td>\n",
              "      <td>...</td>\n",
              "      <td>...</td>\n",
              "      <td>...</td>\n",
              "      <td>...</td>\n",
              "      <td>...</td>\n",
              "      <td>...</td>\n",
              "      <td>...</td>\n",
              "    </tr>\n",
              "    <tr>\n",
              "      <th>21608</th>\n",
              "      <td>14 May 2017</td>\n",
              "      <td>360000.0</td>\n",
              "      <td>3</td>\n",
              "      <td>2.50</td>\n",
              "      <td>1530.0</td>\n",
              "      <td>1131.0</td>\n",
              "      <td>3.0</td>\n",
              "      <td>0</td>\n",
              "      <td>8</td>\n",
              "      <td>1530.0</td>\n",
              "      <td>...</td>\n",
              "      <td>0</td>\n",
              "      <td>0</td>\n",
              "      <td>0</td>\n",
              "      <td>1</td>\n",
              "      <td>0</td>\n",
              "      <td>0</td>\n",
              "      <td>0</td>\n",
              "      <td>0</td>\n",
              "      <td>0</td>\n",
              "      <td>0</td>\n",
              "    </tr>\n",
              "    <tr>\n",
              "      <th>21609</th>\n",
              "      <td>15 February 2016</td>\n",
              "      <td>400000.0</td>\n",
              "      <td>4</td>\n",
              "      <td>2.50</td>\n",
              "      <td>2310.0</td>\n",
              "      <td>5813.0</td>\n",
              "      <td>2.0</td>\n",
              "      <td>0</td>\n",
              "      <td>8</td>\n",
              "      <td>2310.0</td>\n",
              "      <td>...</td>\n",
              "      <td>0</td>\n",
              "      <td>1</td>\n",
              "      <td>0</td>\n",
              "      <td>0</td>\n",
              "      <td>0</td>\n",
              "      <td>0</td>\n",
              "      <td>0</td>\n",
              "      <td>0</td>\n",
              "      <td>0</td>\n",
              "      <td>0</td>\n",
              "    </tr>\n",
              "    <tr>\n",
              "      <th>21610</th>\n",
              "      <td>14 June 2017</td>\n",
              "      <td>402101.0</td>\n",
              "      <td>2</td>\n",
              "      <td>0.75</td>\n",
              "      <td>1020.0</td>\n",
              "      <td>1350.0</td>\n",
              "      <td>2.0</td>\n",
              "      <td>0</td>\n",
              "      <td>7</td>\n",
              "      <td>1020.0</td>\n",
              "      <td>...</td>\n",
              "      <td>0</td>\n",
              "      <td>0</td>\n",
              "      <td>0</td>\n",
              "      <td>1</td>\n",
              "      <td>0</td>\n",
              "      <td>0</td>\n",
              "      <td>0</td>\n",
              "      <td>0</td>\n",
              "      <td>0</td>\n",
              "      <td>0</td>\n",
              "    </tr>\n",
              "    <tr>\n",
              "      <th>21611</th>\n",
              "      <td>15 January 2016</td>\n",
              "      <td>400000.0</td>\n",
              "      <td>3</td>\n",
              "      <td>2.50</td>\n",
              "      <td>1600.0</td>\n",
              "      <td>2388.0</td>\n",
              "      <td>2.0</td>\n",
              "      <td>0</td>\n",
              "      <td>8</td>\n",
              "      <td>1600.0</td>\n",
              "      <td>...</td>\n",
              "      <td>0</td>\n",
              "      <td>0</td>\n",
              "      <td>0</td>\n",
              "      <td>0</td>\n",
              "      <td>1</td>\n",
              "      <td>0</td>\n",
              "      <td>0</td>\n",
              "      <td>0</td>\n",
              "      <td>0</td>\n",
              "      <td>0</td>\n",
              "    </tr>\n",
              "    <tr>\n",
              "      <th>21612</th>\n",
              "      <td>14 October 2017</td>\n",
              "      <td>325000.0</td>\n",
              "      <td>2</td>\n",
              "      <td>0.75</td>\n",
              "      <td>1020.0</td>\n",
              "      <td>1076.0</td>\n",
              "      <td>2.0</td>\n",
              "      <td>0</td>\n",
              "      <td>7</td>\n",
              "      <td>1020.0</td>\n",
              "      <td>...</td>\n",
              "      <td>0</td>\n",
              "      <td>0</td>\n",
              "      <td>0</td>\n",
              "      <td>1</td>\n",
              "      <td>0</td>\n",
              "      <td>0</td>\n",
              "      <td>0</td>\n",
              "      <td>0</td>\n",
              "      <td>0</td>\n",
              "      <td>0</td>\n",
              "    </tr>\n",
              "  </tbody>\n",
              "</table>\n",
              "<p>21609 rows × 34 columns</p>\n",
              "</div>\n",
              "      <button class=\"colab-df-convert\" onclick=\"convertToInteractive('df-a2aa5f7f-da2d-4dd5-ae5a-7f0d6522e4ad')\"\n",
              "              title=\"Convert this dataframe to an interactive table.\"\n",
              "              style=\"display:none;\">\n",
              "        \n",
              "  <svg xmlns=\"http://www.w3.org/2000/svg\" height=\"24px\"viewBox=\"0 0 24 24\"\n",
              "       width=\"24px\">\n",
              "    <path d=\"M0 0h24v24H0V0z\" fill=\"none\"/>\n",
              "    <path d=\"M18.56 5.44l.94 2.06.94-2.06 2.06-.94-2.06-.94-.94-2.06-.94 2.06-2.06.94zm-11 1L8.5 8.5l.94-2.06 2.06-.94-2.06-.94L8.5 2.5l-.94 2.06-2.06.94zm10 10l.94 2.06.94-2.06 2.06-.94-2.06-.94-.94-2.06-.94 2.06-2.06.94z\"/><path d=\"M17.41 7.96l-1.37-1.37c-.4-.4-.92-.59-1.43-.59-.52 0-1.04.2-1.43.59L10.3 9.45l-7.72 7.72c-.78.78-.78 2.05 0 2.83L4 21.41c.39.39.9.59 1.41.59.51 0 1.02-.2 1.41-.59l7.78-7.78 2.81-2.81c.8-.78.8-2.07 0-2.86zM5.41 20L4 18.59l7.72-7.72 1.47 1.35L5.41 20z\"/>\n",
              "  </svg>\n",
              "      </button>\n",
              "      \n",
              "  <style>\n",
              "    .colab-df-container {\n",
              "      display:flex;\n",
              "      flex-wrap:wrap;\n",
              "      gap: 12px;\n",
              "    }\n",
              "\n",
              "    .colab-df-convert {\n",
              "      background-color: #E8F0FE;\n",
              "      border: none;\n",
              "      border-radius: 50%;\n",
              "      cursor: pointer;\n",
              "      display: none;\n",
              "      fill: #1967D2;\n",
              "      height: 32px;\n",
              "      padding: 0 0 0 0;\n",
              "      width: 32px;\n",
              "    }\n",
              "\n",
              "    .colab-df-convert:hover {\n",
              "      background-color: #E2EBFA;\n",
              "      box-shadow: 0px 1px 2px rgba(60, 64, 67, 0.3), 0px 1px 3px 1px rgba(60, 64, 67, 0.15);\n",
              "      fill: #174EA6;\n",
              "    }\n",
              "\n",
              "    [theme=dark] .colab-df-convert {\n",
              "      background-color: #3B4455;\n",
              "      fill: #D2E3FC;\n",
              "    }\n",
              "\n",
              "    [theme=dark] .colab-df-convert:hover {\n",
              "      background-color: #434B5C;\n",
              "      box-shadow: 0px 1px 3px 1px rgba(0, 0, 0, 0.15);\n",
              "      filter: drop-shadow(0px 1px 2px rgba(0, 0, 0, 0.3));\n",
              "      fill: #FFFFFF;\n",
              "    }\n",
              "  </style>\n",
              "\n",
              "      <script>\n",
              "        const buttonEl =\n",
              "          document.querySelector('#df-a2aa5f7f-da2d-4dd5-ae5a-7f0d6522e4ad button.colab-df-convert');\n",
              "        buttonEl.style.display =\n",
              "          google.colab.kernel.accessAllowed ? 'block' : 'none';\n",
              "\n",
              "        async function convertToInteractive(key) {\n",
              "          const element = document.querySelector('#df-a2aa5f7f-da2d-4dd5-ae5a-7f0d6522e4ad');\n",
              "          const dataTable =\n",
              "            await google.colab.kernel.invokeFunction('convertToInteractive',\n",
              "                                                     [key], {});\n",
              "          if (!dataTable) return;\n",
              "\n",
              "          const docLinkHtml = 'Like what you see? Visit the ' +\n",
              "            '<a target=\"_blank\" href=https://colab.research.google.com/notebooks/data_table.ipynb>data table notebook</a>'\n",
              "            + ' to learn more about interactive tables.';\n",
              "          element.innerHTML = '';\n",
              "          dataTable['output_type'] = 'display_data';\n",
              "          await google.colab.output.renderOutput(dataTable, element);\n",
              "          const docLink = document.createElement('div');\n",
              "          docLink.innerHTML = docLinkHtml;\n",
              "          element.appendChild(docLink);\n",
              "        }\n",
              "      </script>\n",
              "    </div>\n",
              "  </div>\n",
              "  "
            ]
          },
          "metadata": {},
          "execution_count": 144
        }
      ],
      "source": [
        "X=data.iloc[:,1:]\n",
        "X"
      ]
    },
    {
      "cell_type": "code",
      "execution_count": null,
      "metadata": {
        "id": "Qco8yvHeWu2B"
      },
      "outputs": [],
      "source": [
        ""
      ]
    },
    {
      "cell_type": "code",
      "execution_count": null,
      "metadata": {
        "id": "yBP49o3kWurn"
      },
      "outputs": [],
      "source": [
        ""
      ]
    },
    {
      "cell_type": "code",
      "execution_count": null,
      "metadata": {
        "id": "-pXAvSCeWug1"
      },
      "outputs": [],
      "source": [
        ""
      ]
    },
    {
      "cell_type": "markdown",
      "metadata": {
        "id": "hfiG_k9YWngV"
      },
      "source": [
        "# Implementing Linear Regression Model \n",
        "\n",
        "1.  Import the libraries in the dataset.\n",
        "2.  Scaling the dataset.\n",
        "3.  Treating Multicollinearity.\n",
        "4.  Creating test and train partitions\n",
        "5.  Implementing the linear regression model using Scikit - learn.\n",
        "6.  Generating predictions over the test set.\n",
        "7.  Evaluating the models.\n",
        "8.  Plotting the residuals.\n",
        "9.  Verifying the Linear Regression Assumptions.\n",
        "10. Vizualise the coefficients to interpret the model results.\n",
        "\n",
        "\n",
        "\n"
      ]
    },
    {
      "cell_type": "code",
      "execution_count": null,
      "metadata": {
        "id": "2twSXErgT3bg"
      },
      "outputs": [],
      "source": [
        ""
      ]
    },
    {
      "cell_type": "code",
      "execution_count": null,
      "metadata": {
        "colab": {
          "base_uri": "https://localhost:8080/",
          "height": 404
        },
        "id": "MszR2fuvV02P",
        "outputId": "5bc20df7-aaae-4505-fe2d-9dcfe503c67b"
      },
      "outputs": [
        {
          "output_type": "execute_result",
          "data": {
            "text/plain": [
              "         ID  No of Bedrooms  No of Bathrooms  Flat Area (in Sqft)  \\\n",
              "0  0.885986       -0.398724        -1.447526            -0.979905   \n",
              "1  0.637358       -0.398724         0.175684             0.533718   \n",
              "2  0.365299       -1.474115        -1.447526            -1.426369   \n",
              "3 -0.727767        0.676667         1.149611            -0.130534   \n",
              "4 -0.912987       -0.398724        -0.148958            -0.435436   \n",
              "\n",
              "   Lot Area (in Sqft)  No of Floors  No_of_Times_Visited  Overall Grade  \\\n",
              "0           -0.228291     -0.915389             -0.30579      -0.563993   \n",
              "1           -0.189858      0.936817             -0.30579      -0.563993   \n",
              "2           -0.123276     -0.915389             -0.30579      -1.468566   \n",
              "3           -0.243983     -0.915389             -0.30579      -0.563993   \n",
              "4           -0.169628     -0.915389             -0.30579       0.340581   \n",
              "\n",
              "   Area of the House from Basement (in Sqft)  Basement Area (in Sqft)  ...  \\\n",
              "0                                  -0.734722                -0.658697  ...   \n",
              "1                                   0.460990                 0.245134  ...   \n",
              "2                                  -1.229916                -0.658697  ...   \n",
              "3                                  -0.891735                 1.397518  ...   \n",
              "4                                  -0.130827                -0.658697  ...   \n",
              "\n",
              "   Ever_Renovated_Yes  Zipcode_Group_Zipcode_Group_1  \\\n",
              "0           -0.210155                      -0.350481   \n",
              "1            4.758385                      -0.350481   \n",
              "2           -0.210155                      -0.350481   \n",
              "3           -0.210155                      -0.350481   \n",
              "4           -0.210155                      -0.350481   \n",
              "\n",
              "   Zipcode_Group_Zipcode_Group_2  Zipcode_Group_Zipcode_Group_3  \\\n",
              "0                      -0.482158                      -0.419600   \n",
              "1                       2.074011                      -0.419600   \n",
              "2                       2.074011                      -0.419600   \n",
              "3                      -0.482158                       2.383223   \n",
              "4                      -0.482158                      -0.419600   \n",
              "\n",
              "   Zipcode_Group_Zipcode_Group_4  Zipcode_Group_Zipcode_Group_5  \\\n",
              "0                      -0.479094                      -0.214086   \n",
              "1                      -0.479094                      -0.214086   \n",
              "2                      -0.479094                      -0.214086   \n",
              "3                      -0.479094                      -0.214086   \n",
              "4                       2.087275                      -0.214086   \n",
              "\n",
              "   Zipcode_Group_Zipcode_Group_6  Zipcode_Group_Zipcode_Group_7  \\\n",
              "0                      -0.287712                      -0.112274   \n",
              "1                      -0.287712                      -0.112274   \n",
              "2                      -0.287712                      -0.112274   \n",
              "3                      -0.287712                      -0.112274   \n",
              "4                      -0.287712                      -0.112274   \n",
              "\n",
              "   Zipcode_Group_Zipcode_Group_8  Zipcode_Group_Zipcode_Group_9  \n",
              "0                       -0.16885                      -0.048158  \n",
              "1                       -0.16885                      -0.048158  \n",
              "2                       -0.16885                      -0.048158  \n",
              "3                       -0.16885                      -0.048158  \n",
              "4                       -0.16885                      -0.048158  \n",
              "\n",
              "[5 rows x 33 columns]"
            ],
            "text/html": [
              "\n",
              "  <div id=\"df-d0e64bc5-f236-43cb-b140-79edcdaf7896\">\n",
              "    <div class=\"colab-df-container\">\n",
              "      <div>\n",
              "<style scoped>\n",
              "    .dataframe tbody tr th:only-of-type {\n",
              "        vertical-align: middle;\n",
              "    }\n",
              "\n",
              "    .dataframe tbody tr th {\n",
              "        vertical-align: top;\n",
              "    }\n",
              "\n",
              "    .dataframe thead th {\n",
              "        text-align: right;\n",
              "    }\n",
              "</style>\n",
              "<table border=\"1\" class=\"dataframe\">\n",
              "  <thead>\n",
              "    <tr style=\"text-align: right;\">\n",
              "      <th></th>\n",
              "      <th>ID</th>\n",
              "      <th>No of Bedrooms</th>\n",
              "      <th>No of Bathrooms</th>\n",
              "      <th>Flat Area (in Sqft)</th>\n",
              "      <th>Lot Area (in Sqft)</th>\n",
              "      <th>No of Floors</th>\n",
              "      <th>No_of_Times_Visited</th>\n",
              "      <th>Overall Grade</th>\n",
              "      <th>Area of the House from Basement (in Sqft)</th>\n",
              "      <th>Basement Area (in Sqft)</th>\n",
              "      <th>...</th>\n",
              "      <th>Ever_Renovated_Yes</th>\n",
              "      <th>Zipcode_Group_Zipcode_Group_1</th>\n",
              "      <th>Zipcode_Group_Zipcode_Group_2</th>\n",
              "      <th>Zipcode_Group_Zipcode_Group_3</th>\n",
              "      <th>Zipcode_Group_Zipcode_Group_4</th>\n",
              "      <th>Zipcode_Group_Zipcode_Group_5</th>\n",
              "      <th>Zipcode_Group_Zipcode_Group_6</th>\n",
              "      <th>Zipcode_Group_Zipcode_Group_7</th>\n",
              "      <th>Zipcode_Group_Zipcode_Group_8</th>\n",
              "      <th>Zipcode_Group_Zipcode_Group_9</th>\n",
              "    </tr>\n",
              "  </thead>\n",
              "  <tbody>\n",
              "    <tr>\n",
              "      <th>0</th>\n",
              "      <td>0.885986</td>\n",
              "      <td>-0.398724</td>\n",
              "      <td>-1.447526</td>\n",
              "      <td>-0.979905</td>\n",
              "      <td>-0.228291</td>\n",
              "      <td>-0.915389</td>\n",
              "      <td>-0.30579</td>\n",
              "      <td>-0.563993</td>\n",
              "      <td>-0.734722</td>\n",
              "      <td>-0.658697</td>\n",
              "      <td>...</td>\n",
              "      <td>-0.210155</td>\n",
              "      <td>-0.350481</td>\n",
              "      <td>-0.482158</td>\n",
              "      <td>-0.419600</td>\n",
              "      <td>-0.479094</td>\n",
              "      <td>-0.214086</td>\n",
              "      <td>-0.287712</td>\n",
              "      <td>-0.112274</td>\n",
              "      <td>-0.16885</td>\n",
              "      <td>-0.048158</td>\n",
              "    </tr>\n",
              "    <tr>\n",
              "      <th>1</th>\n",
              "      <td>0.637358</td>\n",
              "      <td>-0.398724</td>\n",
              "      <td>0.175684</td>\n",
              "      <td>0.533718</td>\n",
              "      <td>-0.189858</td>\n",
              "      <td>0.936817</td>\n",
              "      <td>-0.30579</td>\n",
              "      <td>-0.563993</td>\n",
              "      <td>0.460990</td>\n",
              "      <td>0.245134</td>\n",
              "      <td>...</td>\n",
              "      <td>4.758385</td>\n",
              "      <td>-0.350481</td>\n",
              "      <td>2.074011</td>\n",
              "      <td>-0.419600</td>\n",
              "      <td>-0.479094</td>\n",
              "      <td>-0.214086</td>\n",
              "      <td>-0.287712</td>\n",
              "      <td>-0.112274</td>\n",
              "      <td>-0.16885</td>\n",
              "      <td>-0.048158</td>\n",
              "    </tr>\n",
              "    <tr>\n",
              "      <th>2</th>\n",
              "      <td>0.365299</td>\n",
              "      <td>-1.474115</td>\n",
              "      <td>-1.447526</td>\n",
              "      <td>-1.426369</td>\n",
              "      <td>-0.123276</td>\n",
              "      <td>-0.915389</td>\n",
              "      <td>-0.30579</td>\n",
              "      <td>-1.468566</td>\n",
              "      <td>-1.229916</td>\n",
              "      <td>-0.658697</td>\n",
              "      <td>...</td>\n",
              "      <td>-0.210155</td>\n",
              "      <td>-0.350481</td>\n",
              "      <td>2.074011</td>\n",
              "      <td>-0.419600</td>\n",
              "      <td>-0.479094</td>\n",
              "      <td>-0.214086</td>\n",
              "      <td>-0.287712</td>\n",
              "      <td>-0.112274</td>\n",
              "      <td>-0.16885</td>\n",
              "      <td>-0.048158</td>\n",
              "    </tr>\n",
              "    <tr>\n",
              "      <th>3</th>\n",
              "      <td>-0.727767</td>\n",
              "      <td>0.676667</td>\n",
              "      <td>1.149611</td>\n",
              "      <td>-0.130534</td>\n",
              "      <td>-0.243983</td>\n",
              "      <td>-0.915389</td>\n",
              "      <td>-0.30579</td>\n",
              "      <td>-0.563993</td>\n",
              "      <td>-0.891735</td>\n",
              "      <td>1.397518</td>\n",
              "      <td>...</td>\n",
              "      <td>-0.210155</td>\n",
              "      <td>-0.350481</td>\n",
              "      <td>-0.482158</td>\n",
              "      <td>2.383223</td>\n",
              "      <td>-0.479094</td>\n",
              "      <td>-0.214086</td>\n",
              "      <td>-0.287712</td>\n",
              "      <td>-0.112274</td>\n",
              "      <td>-0.16885</td>\n",
              "      <td>-0.048158</td>\n",
              "    </tr>\n",
              "    <tr>\n",
              "      <th>4</th>\n",
              "      <td>-0.912987</td>\n",
              "      <td>-0.398724</td>\n",
              "      <td>-0.148958</td>\n",
              "      <td>-0.435436</td>\n",
              "      <td>-0.169628</td>\n",
              "      <td>-0.915389</td>\n",
              "      <td>-0.30579</td>\n",
              "      <td>0.340581</td>\n",
              "      <td>-0.130827</td>\n",
              "      <td>-0.658697</td>\n",
              "      <td>...</td>\n",
              "      <td>-0.210155</td>\n",
              "      <td>-0.350481</td>\n",
              "      <td>-0.482158</td>\n",
              "      <td>-0.419600</td>\n",
              "      <td>2.087275</td>\n",
              "      <td>-0.214086</td>\n",
              "      <td>-0.287712</td>\n",
              "      <td>-0.112274</td>\n",
              "      <td>-0.16885</td>\n",
              "      <td>-0.048158</td>\n",
              "    </tr>\n",
              "  </tbody>\n",
              "</table>\n",
              "<p>5 rows × 33 columns</p>\n",
              "</div>\n",
              "      <button class=\"colab-df-convert\" onclick=\"convertToInteractive('df-d0e64bc5-f236-43cb-b140-79edcdaf7896')\"\n",
              "              title=\"Convert this dataframe to an interactive table.\"\n",
              "              style=\"display:none;\">\n",
              "        \n",
              "  <svg xmlns=\"http://www.w3.org/2000/svg\" height=\"24px\"viewBox=\"0 0 24 24\"\n",
              "       width=\"24px\">\n",
              "    <path d=\"M0 0h24v24H0V0z\" fill=\"none\"/>\n",
              "    <path d=\"M18.56 5.44l.94 2.06.94-2.06 2.06-.94-2.06-.94-.94-2.06-.94 2.06-2.06.94zm-11 1L8.5 8.5l.94-2.06 2.06-.94-2.06-.94L8.5 2.5l-.94 2.06-2.06.94zm10 10l.94 2.06.94-2.06 2.06-.94-2.06-.94-.94-2.06-.94 2.06-2.06.94z\"/><path d=\"M17.41 7.96l-1.37-1.37c-.4-.4-.92-.59-1.43-.59-.52 0-1.04.2-1.43.59L10.3 9.45l-7.72 7.72c-.78.78-.78 2.05 0 2.83L4 21.41c.39.39.9.59 1.41.59.51 0 1.02-.2 1.41-.59l7.78-7.78 2.81-2.81c.8-.78.8-2.07 0-2.86zM5.41 20L4 18.59l7.72-7.72 1.47 1.35L5.41 20z\"/>\n",
              "  </svg>\n",
              "      </button>\n",
              "      \n",
              "  <style>\n",
              "    .colab-df-container {\n",
              "      display:flex;\n",
              "      flex-wrap:wrap;\n",
              "      gap: 12px;\n",
              "    }\n",
              "\n",
              "    .colab-df-convert {\n",
              "      background-color: #E8F0FE;\n",
              "      border: none;\n",
              "      border-radius: 50%;\n",
              "      cursor: pointer;\n",
              "      display: none;\n",
              "      fill: #1967D2;\n",
              "      height: 32px;\n",
              "      padding: 0 0 0 0;\n",
              "      width: 32px;\n",
              "    }\n",
              "\n",
              "    .colab-df-convert:hover {\n",
              "      background-color: #E2EBFA;\n",
              "      box-shadow: 0px 1px 2px rgba(60, 64, 67, 0.3), 0px 1px 3px 1px rgba(60, 64, 67, 0.15);\n",
              "      fill: #174EA6;\n",
              "    }\n",
              "\n",
              "    [theme=dark] .colab-df-convert {\n",
              "      background-color: #3B4455;\n",
              "      fill: #D2E3FC;\n",
              "    }\n",
              "\n",
              "    [theme=dark] .colab-df-convert:hover {\n",
              "      background-color: #434B5C;\n",
              "      box-shadow: 0px 1px 3px 1px rgba(0, 0, 0, 0.15);\n",
              "      filter: drop-shadow(0px 1px 2px rgba(0, 0, 0, 0.3));\n",
              "      fill: #FFFFFF;\n",
              "    }\n",
              "  </style>\n",
              "\n",
              "      <script>\n",
              "        const buttonEl =\n",
              "          document.querySelector('#df-d0e64bc5-f236-43cb-b140-79edcdaf7896 button.colab-df-convert');\n",
              "        buttonEl.style.display =\n",
              "          google.colab.kernel.accessAllowed ? 'block' : 'none';\n",
              "\n",
              "        async function convertToInteractive(key) {\n",
              "          const element = document.querySelector('#df-d0e64bc5-f236-43cb-b140-79edcdaf7896');\n",
              "          const dataTable =\n",
              "            await google.colab.kernel.invokeFunction('convertToInteractive',\n",
              "                                                     [key], {});\n",
              "          if (!dataTable) return;\n",
              "\n",
              "          const docLinkHtml = 'Like what you see? Visit the ' +\n",
              "            '<a target=\"_blank\" href=https://colab.research.google.com/notebooks/data_table.ipynb>data table notebook</a>'\n",
              "            + ' to learn more about interactive tables.';\n",
              "          element.innerHTML = '';\n",
              "          dataTable['output_type'] = 'display_data';\n",
              "          await google.colab.output.renderOutput(dataTable, element);\n",
              "          const docLink = document.createElement('div');\n",
              "          docLink.innerHTML = docLinkHtml;\n",
              "          element.appendChild(docLink);\n",
              "        }\n",
              "      </script>\n",
              "    </div>\n",
              "  </div>\n",
              "  "
            ]
          },
          "metadata": {},
          "execution_count": 145
        }
      ],
      "source": [
        "#Scaling the data set \n",
        "from sklearn.preprocessing import StandardScaler\n",
        "scaler = StandardScaler()\n",
        "Y=data['Sale_Price']\n",
        "X=scaler.fit_transform(data.drop(columns=['Sale_Price','Date House was Sold']))\n",
        "X=pd.DataFrame(data=X,columns=data.drop(columns=['Sale_Price','Date House was Sold']).columns)\n",
        "X.head()"
      ]
    },
    {
      "cell_type": "code",
      "source": [
        ""
      ],
      "metadata": {
        "id": "SqYtN9l6lYjU"
      },
      "execution_count": null,
      "outputs": []
    },
    {
      "cell_type": "code",
      "source": [
        ""
      ],
      "metadata": {
        "id": "ejVGUOt3lYU8"
      },
      "execution_count": null,
      "outputs": []
    },
    {
      "cell_type": "markdown",
      "source": [
        "### Selecting pair of independent variable with correlation > 0.5"
      ],
      "metadata": {
        "id": "xAj4cUzklfyM"
      }
    },
    {
      "cell_type": "code",
      "source": [
        "#Pair of ideendent variable with correlation > 0.5\n",
        "\n",
        "k=X.corr()\n",
        "z=[[str(i),str(j)] for i in k.columns for j in k.columns if (k.loc[i,j]> abs(0.5))&(i!=j)]\n",
        "z,len(z)"
      ],
      "metadata": {
        "colab": {
          "base_uri": "https://localhost:8080/"
        },
        "id": "adcAuRv-lzr2",
        "outputId": "e198ff2a-bf7c-4583-9175-3577f7c9ae5d"
      },
      "execution_count": null,
      "outputs": [
        {
          "output_type": "execute_result",
          "data": {
            "text/plain": [
              "([['No of Bedrooms', 'No of Bathrooms'],\n",
              "  ['No of Bedrooms', 'Flat Area (in Sqft)'],\n",
              "  ['No of Bathrooms', 'No of Bedrooms'],\n",
              "  ['No of Bathrooms', 'Flat Area (in Sqft)'],\n",
              "  ['No of Bathrooms', 'No of Floors'],\n",
              "  ['No of Bathrooms', 'Overall Grade'],\n",
              "  ['No of Bathrooms', 'Area of the House from Basement (in Sqft)'],\n",
              "  ['No of Bathrooms', 'Living Area after Renovation (in Sqft)'],\n",
              "  ['Flat Area (in Sqft)', 'No of Bedrooms'],\n",
              "  ['Flat Area (in Sqft)', 'No of Bathrooms'],\n",
              "  ['Flat Area (in Sqft)', 'Overall Grade'],\n",
              "  ['Flat Area (in Sqft)', 'Area of the House from Basement (in Sqft)'],\n",
              "  ['Flat Area (in Sqft)', 'Living Area after Renovation (in Sqft)'],\n",
              "  ['Lot Area (in Sqft)', 'Lot Area after Renovation (in Sqft)'],\n",
              "  ['No of Floors', 'No of Bathrooms'],\n",
              "  ['No of Floors', 'Area of the House from Basement (in Sqft)'],\n",
              "  ['Overall Grade', 'No of Bathrooms'],\n",
              "  ['Overall Grade', 'Flat Area (in Sqft)'],\n",
              "  ['Overall Grade', 'Area of the House from Basement (in Sqft)'],\n",
              "  ['Overall Grade', 'Living Area after Renovation (in Sqft)'],\n",
              "  ['Area of the House from Basement (in Sqft)', 'No of Bathrooms'],\n",
              "  ['Area of the House from Basement (in Sqft)', 'Flat Area (in Sqft)'],\n",
              "  ['Area of the House from Basement (in Sqft)', 'No of Floors'],\n",
              "  ['Area of the House from Basement (in Sqft)', 'Overall Grade'],\n",
              "  ['Area of the House from Basement (in Sqft)',\n",
              "   'Living Area after Renovation (in Sqft)'],\n",
              "  ['Renovated Year', 'Yr Since Renovation'],\n",
              "  ['Renovated Year', 'Ever_Renovated_Yes'],\n",
              "  ['Living Area after Renovation (in Sqft)', 'No of Bathrooms'],\n",
              "  ['Living Area after Renovation (in Sqft)', 'Flat Area (in Sqft)'],\n",
              "  ['Living Area after Renovation (in Sqft)', 'Overall Grade'],\n",
              "  ['Living Area after Renovation (in Sqft)',\n",
              "   'Area of the House from Basement (in Sqft)'],\n",
              "  ['Lot Area after Renovation (in Sqft)', 'Lot Area (in Sqft)'],\n",
              "  ['Yr Since Renovation', 'Renovated Year'],\n",
              "  ['Yr Since Renovation', 'Ever_Renovated_Yes'],\n",
              "  ['Ever_Renovated_Yes', 'Renovated Year'],\n",
              "  ['Ever_Renovated_Yes', 'Yr Since Renovation']],\n",
              " 36)"
            ]
          },
          "metadata": {},
          "execution_count": 146
        }
      ]
    },
    {
      "cell_type": "markdown",
      "source": [
        "### Treating Multicollinearity Using VIF :\n"
      ],
      "metadata": {
        "id": "2oV0gR_W42jZ"
      }
    },
    {
      "cell_type": "code",
      "source": [
        "# importing variance_inflation_factor function from the statsmodels\n",
        "from statsmodels.stats.outliers_influence import variance_inflation_factor\n",
        "vif_data = X\n",
        "# Calculating VIF for every column\n",
        "VIF = pd.Series([variance_inflation_factor(vif_data.values,i) for i in range(vif_data.shape[1]) ],index = vif_data.columns)\n"
      ],
      "metadata": {
        "id": "-oaPtxYy4uq_"
      },
      "execution_count": null,
      "outputs": []
    },
    {
      "cell_type": "code",
      "source": [
        "VIF,len(vif_data.columns)"
      ],
      "metadata": {
        "colab": {
          "base_uri": "https://localhost:8080/"
        },
        "id": "ys7En_lh4uW8",
        "outputId": "f6953eb5-5ac3-41bb-8a52-3c8e2622a89e"
      },
      "execution_count": null,
      "outputs": [
        {
          "output_type": "execute_result",
          "data": {
            "text/plain": [
              "(ID                                           1.041993e+00\n",
              " No of Bedrooms                               1.639764e+00\n",
              " No of Bathrooms                              3.375201e+00\n",
              " Flat Area (in Sqft)                          1.481844e+03\n",
              " Lot Area (in Sqft)                           2.113837e+00\n",
              " No of Floors                                 2.128203e+00\n",
              " No_of_Times_Visited                          1.433893e+00\n",
              " Overall Grade                                2.969408e+00\n",
              " Area of the House from Basement (in Sqft)    1.205669e+03\n",
              " Basement Area (in Sqft)                      3.455011e+02\n",
              " Age of House (in Years)                      2.629869e+00\n",
              " Renovated Year                               2.015964e+07\n",
              " Latitude                                     2.472175e+00\n",
              " Longitude                                    1.676337e+00\n",
              " Living Area after Renovation (in Sqft)       3.068190e+00\n",
              " Lot Area after Renovation (in Sqft)          2.154210e+00\n",
              " Purchase Year                                1.046611e+00\n",
              " Yr Since Renovation                          3.481741e+03\n",
              " Condition_of_the_House_Excellent             5.358769e+01\n",
              " Condition_of_the_House_Fair                  1.661490e+02\n",
              " Condition_of_the_House_Good                  1.413457e+02\n",
              " Condition_of_the_House_Okay                  6.704093e+00\n",
              " Waterfront_View_Yes                          1.208634e+00\n",
              " Ever_Renovated_Yes                           2.058260e+07\n",
              " Zipcode_Group_Zipcode_Group_1                1.540140e+00\n",
              " Zipcode_Group_Zipcode_Group_2                2.570954e+00\n",
              " Zipcode_Group_Zipcode_Group_3                2.818716e+00\n",
              " Zipcode_Group_Zipcode_Group_4                3.196961e+00\n",
              " Zipcode_Group_Zipcode_Group_5                1.734604e+00\n",
              " Zipcode_Group_Zipcode_Group_6                2.015349e+00\n",
              " Zipcode_Group_Zipcode_Group_7                1.234494e+00\n",
              " Zipcode_Group_Zipcode_Group_8                1.390252e+00\n",
              " Zipcode_Group_Zipcode_Group_9                1.048960e+00\n",
              " dtype: float64, 33)"
            ]
          },
          "metadata": {},
          "execution_count": 148
        }
      ]
    },
    {
      "cell_type": "code",
      "source": [
        "VIF[VIF==VIF.max()].index[0]"
      ],
      "metadata": {
        "colab": {
          "base_uri": "https://localhost:8080/",
          "height": 35
        },
        "id": "7Qbj0_Y06wcW",
        "outputId": "e8cb5c9e-fa91-49b8-82cb-0ea19dc62da1"
      },
      "execution_count": null,
      "outputs": [
        {
          "output_type": "execute_result",
          "data": {
            "text/plain": [
              "'Ever_Renovated_Yes'"
            ],
            "application/vnd.google.colaboratory.intrinsic+json": {
              "type": "string"
            }
          },
          "metadata": {},
          "execution_count": 149
        }
      ]
    },
    {
      "cell_type": "markdown",
      "source": [
        "### Removing variable with high VIF :"
      ],
      "metadata": {
        "id": "FAuUNka67ET9"
      }
    },
    {
      "cell_type": "code",
      "source": [
        "##  remove vif\n",
        "def MC_remover(data):\n",
        "  vif = pd.Series([variance_inflation_factor(data.values,i) for i in range(data.shape[1]) ],index = data.columns)\n",
        "  if vif.max() > 5 :\n",
        "    print(vif[vif==vif.max()].index[0],'has been removed')\n",
        "    data = data.drop(columns=[vif[vif==vif.max()].index[0]])\n",
        "    return data\n",
        "  else: \n",
        "    print('No Multicollinearity present anymore')\n",
        "    return data \n",
        "\n"
      ],
      "metadata": {
        "id": "u_bcUBco6wYd"
      },
      "execution_count": null,
      "outputs": []
    },
    {
      "cell_type": "code",
      "source": [
        "for i in range(7) :\n",
        "  vif_data = MC_remover(vif_data)\n"
      ],
      "metadata": {
        "colab": {
          "base_uri": "https://localhost:8080/"
        },
        "id": "6wivBhVn6wWl",
        "outputId": "92402228-da56-4757-a014-bb95185d0f26"
      },
      "execution_count": null,
      "outputs": [
        {
          "output_type": "stream",
          "name": "stdout",
          "text": [
            "Ever_Renovated_Yes has been removed\n",
            "Flat Area (in Sqft) has been removed\n",
            "Condition_of_the_House_Fair has been removed\n",
            "No Multicollinearity present anymore\n",
            "No Multicollinearity present anymore\n",
            "No Multicollinearity present anymore\n",
            "No Multicollinearity present anymore\n"
          ]
        }
      ]
    },
    {
      "cell_type": "code",
      "source": [
        "vif_data.head()"
      ],
      "metadata": {
        "id": "y8Y72pd6_bFJ",
        "colab": {
          "base_uri": "https://localhost:8080/",
          "height": 404
        },
        "outputId": "45d5a29b-6ede-42a3-a329-523c7eedd998"
      },
      "execution_count": null,
      "outputs": [
        {
          "output_type": "execute_result",
          "data": {
            "text/plain": [
              "         ID  No of Bedrooms  No of Bathrooms  Lot Area (in Sqft)  \\\n",
              "0  0.885986       -0.398724        -1.447526           -0.228291   \n",
              "1  0.637358       -0.398724         0.175684           -0.189858   \n",
              "2  0.365299       -1.474115        -1.447526           -0.123276   \n",
              "3 -0.727767        0.676667         1.149611           -0.243983   \n",
              "4 -0.912987       -0.398724        -0.148958           -0.169628   \n",
              "\n",
              "   No of Floors  No_of_Times_Visited  Overall Grade  \\\n",
              "0     -0.915389             -0.30579      -0.563993   \n",
              "1      0.936817             -0.30579      -0.563993   \n",
              "2     -0.915389             -0.30579      -1.468566   \n",
              "3     -0.915389             -0.30579      -0.563993   \n",
              "4     -0.915389             -0.30579       0.340581   \n",
              "\n",
              "   Area of the House from Basement (in Sqft)  Basement Area (in Sqft)  \\\n",
              "0                                  -0.734722                -0.658697   \n",
              "1                                   0.460990                 0.245134   \n",
              "2                                  -1.229916                -0.658697   \n",
              "3                                  -0.891735                 1.397518   \n",
              "4                                  -0.130827                -0.658697   \n",
              "\n",
              "   Age of House (in Years)  ...  Waterfront_View_Yes  \\\n",
              "0                 0.544734  ...            -0.087181   \n",
              "1                 0.680915  ...            -0.087181   \n",
              "2                 1.293731  ...            -0.087181   \n",
              "3                 0.204281  ...            -0.087181   \n",
              "4                -0.544715  ...            -0.087181   \n",
              "\n",
              "   Zipcode_Group_Zipcode_Group_1  Zipcode_Group_Zipcode_Group_2  \\\n",
              "0                      -0.350481                      -0.482158   \n",
              "1                      -0.350481                       2.074011   \n",
              "2                      -0.350481                       2.074011   \n",
              "3                      -0.350481                      -0.482158   \n",
              "4                      -0.350481                      -0.482158   \n",
              "\n",
              "   Zipcode_Group_Zipcode_Group_3  Zipcode_Group_Zipcode_Group_4  \\\n",
              "0                      -0.419600                      -0.479094   \n",
              "1                      -0.419600                      -0.479094   \n",
              "2                      -0.419600                      -0.479094   \n",
              "3                       2.383223                      -0.479094   \n",
              "4                      -0.419600                       2.087275   \n",
              "\n",
              "   Zipcode_Group_Zipcode_Group_5  Zipcode_Group_Zipcode_Group_6  \\\n",
              "0                      -0.214086                      -0.287712   \n",
              "1                      -0.214086                      -0.287712   \n",
              "2                      -0.214086                      -0.287712   \n",
              "3                      -0.214086                      -0.287712   \n",
              "4                      -0.214086                      -0.287712   \n",
              "\n",
              "   Zipcode_Group_Zipcode_Group_7  Zipcode_Group_Zipcode_Group_8  \\\n",
              "0                      -0.112274                       -0.16885   \n",
              "1                      -0.112274                       -0.16885   \n",
              "2                      -0.112274                       -0.16885   \n",
              "3                      -0.112274                       -0.16885   \n",
              "4                      -0.112274                       -0.16885   \n",
              "\n",
              "   Zipcode_Group_Zipcode_Group_9  \n",
              "0                      -0.048158  \n",
              "1                      -0.048158  \n",
              "2                      -0.048158  \n",
              "3                      -0.048158  \n",
              "4                      -0.048158  \n",
              "\n",
              "[5 rows x 30 columns]"
            ],
            "text/html": [
              "\n",
              "  <div id=\"df-1a9cebe1-ec88-4081-ba32-05676c0a201f\">\n",
              "    <div class=\"colab-df-container\">\n",
              "      <div>\n",
              "<style scoped>\n",
              "    .dataframe tbody tr th:only-of-type {\n",
              "        vertical-align: middle;\n",
              "    }\n",
              "\n",
              "    .dataframe tbody tr th {\n",
              "        vertical-align: top;\n",
              "    }\n",
              "\n",
              "    .dataframe thead th {\n",
              "        text-align: right;\n",
              "    }\n",
              "</style>\n",
              "<table border=\"1\" class=\"dataframe\">\n",
              "  <thead>\n",
              "    <tr style=\"text-align: right;\">\n",
              "      <th></th>\n",
              "      <th>ID</th>\n",
              "      <th>No of Bedrooms</th>\n",
              "      <th>No of Bathrooms</th>\n",
              "      <th>Lot Area (in Sqft)</th>\n",
              "      <th>No of Floors</th>\n",
              "      <th>No_of_Times_Visited</th>\n",
              "      <th>Overall Grade</th>\n",
              "      <th>Area of the House from Basement (in Sqft)</th>\n",
              "      <th>Basement Area (in Sqft)</th>\n",
              "      <th>Age of House (in Years)</th>\n",
              "      <th>...</th>\n",
              "      <th>Waterfront_View_Yes</th>\n",
              "      <th>Zipcode_Group_Zipcode_Group_1</th>\n",
              "      <th>Zipcode_Group_Zipcode_Group_2</th>\n",
              "      <th>Zipcode_Group_Zipcode_Group_3</th>\n",
              "      <th>Zipcode_Group_Zipcode_Group_4</th>\n",
              "      <th>Zipcode_Group_Zipcode_Group_5</th>\n",
              "      <th>Zipcode_Group_Zipcode_Group_6</th>\n",
              "      <th>Zipcode_Group_Zipcode_Group_7</th>\n",
              "      <th>Zipcode_Group_Zipcode_Group_8</th>\n",
              "      <th>Zipcode_Group_Zipcode_Group_9</th>\n",
              "    </tr>\n",
              "  </thead>\n",
              "  <tbody>\n",
              "    <tr>\n",
              "      <th>0</th>\n",
              "      <td>0.885986</td>\n",
              "      <td>-0.398724</td>\n",
              "      <td>-1.447526</td>\n",
              "      <td>-0.228291</td>\n",
              "      <td>-0.915389</td>\n",
              "      <td>-0.30579</td>\n",
              "      <td>-0.563993</td>\n",
              "      <td>-0.734722</td>\n",
              "      <td>-0.658697</td>\n",
              "      <td>0.544734</td>\n",
              "      <td>...</td>\n",
              "      <td>-0.087181</td>\n",
              "      <td>-0.350481</td>\n",
              "      <td>-0.482158</td>\n",
              "      <td>-0.419600</td>\n",
              "      <td>-0.479094</td>\n",
              "      <td>-0.214086</td>\n",
              "      <td>-0.287712</td>\n",
              "      <td>-0.112274</td>\n",
              "      <td>-0.16885</td>\n",
              "      <td>-0.048158</td>\n",
              "    </tr>\n",
              "    <tr>\n",
              "      <th>1</th>\n",
              "      <td>0.637358</td>\n",
              "      <td>-0.398724</td>\n",
              "      <td>0.175684</td>\n",
              "      <td>-0.189858</td>\n",
              "      <td>0.936817</td>\n",
              "      <td>-0.30579</td>\n",
              "      <td>-0.563993</td>\n",
              "      <td>0.460990</td>\n",
              "      <td>0.245134</td>\n",
              "      <td>0.680915</td>\n",
              "      <td>...</td>\n",
              "      <td>-0.087181</td>\n",
              "      <td>-0.350481</td>\n",
              "      <td>2.074011</td>\n",
              "      <td>-0.419600</td>\n",
              "      <td>-0.479094</td>\n",
              "      <td>-0.214086</td>\n",
              "      <td>-0.287712</td>\n",
              "      <td>-0.112274</td>\n",
              "      <td>-0.16885</td>\n",
              "      <td>-0.048158</td>\n",
              "    </tr>\n",
              "    <tr>\n",
              "      <th>2</th>\n",
              "      <td>0.365299</td>\n",
              "      <td>-1.474115</td>\n",
              "      <td>-1.447526</td>\n",
              "      <td>-0.123276</td>\n",
              "      <td>-0.915389</td>\n",
              "      <td>-0.30579</td>\n",
              "      <td>-1.468566</td>\n",
              "      <td>-1.229916</td>\n",
              "      <td>-0.658697</td>\n",
              "      <td>1.293731</td>\n",
              "      <td>...</td>\n",
              "      <td>-0.087181</td>\n",
              "      <td>-0.350481</td>\n",
              "      <td>2.074011</td>\n",
              "      <td>-0.419600</td>\n",
              "      <td>-0.479094</td>\n",
              "      <td>-0.214086</td>\n",
              "      <td>-0.287712</td>\n",
              "      <td>-0.112274</td>\n",
              "      <td>-0.16885</td>\n",
              "      <td>-0.048158</td>\n",
              "    </tr>\n",
              "    <tr>\n",
              "      <th>3</th>\n",
              "      <td>-0.727767</td>\n",
              "      <td>0.676667</td>\n",
              "      <td>1.149611</td>\n",
              "      <td>-0.243983</td>\n",
              "      <td>-0.915389</td>\n",
              "      <td>-0.30579</td>\n",
              "      <td>-0.563993</td>\n",
              "      <td>-0.891735</td>\n",
              "      <td>1.397518</td>\n",
              "      <td>0.204281</td>\n",
              "      <td>...</td>\n",
              "      <td>-0.087181</td>\n",
              "      <td>-0.350481</td>\n",
              "      <td>-0.482158</td>\n",
              "      <td>2.383223</td>\n",
              "      <td>-0.479094</td>\n",
              "      <td>-0.214086</td>\n",
              "      <td>-0.287712</td>\n",
              "      <td>-0.112274</td>\n",
              "      <td>-0.16885</td>\n",
              "      <td>-0.048158</td>\n",
              "    </tr>\n",
              "    <tr>\n",
              "      <th>4</th>\n",
              "      <td>-0.912987</td>\n",
              "      <td>-0.398724</td>\n",
              "      <td>-0.148958</td>\n",
              "      <td>-0.169628</td>\n",
              "      <td>-0.915389</td>\n",
              "      <td>-0.30579</td>\n",
              "      <td>0.340581</td>\n",
              "      <td>-0.130827</td>\n",
              "      <td>-0.658697</td>\n",
              "      <td>-0.544715</td>\n",
              "      <td>...</td>\n",
              "      <td>-0.087181</td>\n",
              "      <td>-0.350481</td>\n",
              "      <td>-0.482158</td>\n",
              "      <td>-0.419600</td>\n",
              "      <td>2.087275</td>\n",
              "      <td>-0.214086</td>\n",
              "      <td>-0.287712</td>\n",
              "      <td>-0.112274</td>\n",
              "      <td>-0.16885</td>\n",
              "      <td>-0.048158</td>\n",
              "    </tr>\n",
              "  </tbody>\n",
              "</table>\n",
              "<p>5 rows × 30 columns</p>\n",
              "</div>\n",
              "      <button class=\"colab-df-convert\" onclick=\"convertToInteractive('df-1a9cebe1-ec88-4081-ba32-05676c0a201f')\"\n",
              "              title=\"Convert this dataframe to an interactive table.\"\n",
              "              style=\"display:none;\">\n",
              "        \n",
              "  <svg xmlns=\"http://www.w3.org/2000/svg\" height=\"24px\"viewBox=\"0 0 24 24\"\n",
              "       width=\"24px\">\n",
              "    <path d=\"M0 0h24v24H0V0z\" fill=\"none\"/>\n",
              "    <path d=\"M18.56 5.44l.94 2.06.94-2.06 2.06-.94-2.06-.94-.94-2.06-.94 2.06-2.06.94zm-11 1L8.5 8.5l.94-2.06 2.06-.94-2.06-.94L8.5 2.5l-.94 2.06-2.06.94zm10 10l.94 2.06.94-2.06 2.06-.94-2.06-.94-.94-2.06-.94 2.06-2.06.94z\"/><path d=\"M17.41 7.96l-1.37-1.37c-.4-.4-.92-.59-1.43-.59-.52 0-1.04.2-1.43.59L10.3 9.45l-7.72 7.72c-.78.78-.78 2.05 0 2.83L4 21.41c.39.39.9.59 1.41.59.51 0 1.02-.2 1.41-.59l7.78-7.78 2.81-2.81c.8-.78.8-2.07 0-2.86zM5.41 20L4 18.59l7.72-7.72 1.47 1.35L5.41 20z\"/>\n",
              "  </svg>\n",
              "      </button>\n",
              "      \n",
              "  <style>\n",
              "    .colab-df-container {\n",
              "      display:flex;\n",
              "      flex-wrap:wrap;\n",
              "      gap: 12px;\n",
              "    }\n",
              "\n",
              "    .colab-df-convert {\n",
              "      background-color: #E8F0FE;\n",
              "      border: none;\n",
              "      border-radius: 50%;\n",
              "      cursor: pointer;\n",
              "      display: none;\n",
              "      fill: #1967D2;\n",
              "      height: 32px;\n",
              "      padding: 0 0 0 0;\n",
              "      width: 32px;\n",
              "    }\n",
              "\n",
              "    .colab-df-convert:hover {\n",
              "      background-color: #E2EBFA;\n",
              "      box-shadow: 0px 1px 2px rgba(60, 64, 67, 0.3), 0px 1px 3px 1px rgba(60, 64, 67, 0.15);\n",
              "      fill: #174EA6;\n",
              "    }\n",
              "\n",
              "    [theme=dark] .colab-df-convert {\n",
              "      background-color: #3B4455;\n",
              "      fill: #D2E3FC;\n",
              "    }\n",
              "\n",
              "    [theme=dark] .colab-df-convert:hover {\n",
              "      background-color: #434B5C;\n",
              "      box-shadow: 0px 1px 3px 1px rgba(0, 0, 0, 0.15);\n",
              "      filter: drop-shadow(0px 1px 2px rgba(0, 0, 0, 0.3));\n",
              "      fill: #FFFFFF;\n",
              "    }\n",
              "  </style>\n",
              "\n",
              "      <script>\n",
              "        const buttonEl =\n",
              "          document.querySelector('#df-1a9cebe1-ec88-4081-ba32-05676c0a201f button.colab-df-convert');\n",
              "        buttonEl.style.display =\n",
              "          google.colab.kernel.accessAllowed ? 'block' : 'none';\n",
              "\n",
              "        async function convertToInteractive(key) {\n",
              "          const element = document.querySelector('#df-1a9cebe1-ec88-4081-ba32-05676c0a201f');\n",
              "          const dataTable =\n",
              "            await google.colab.kernel.invokeFunction('convertToInteractive',\n",
              "                                                     [key], {});\n",
              "          if (!dataTable) return;\n",
              "\n",
              "          const docLinkHtml = 'Like what you see? Visit the ' +\n",
              "            '<a target=\"_blank\" href=https://colab.research.google.com/notebooks/data_table.ipynb>data table notebook</a>'\n",
              "            + ' to learn more about interactive tables.';\n",
              "          element.innerHTML = '';\n",
              "          dataTable['output_type'] = 'display_data';\n",
              "          await google.colab.output.renderOutput(dataTable, element);\n",
              "          const docLink = document.createElement('div');\n",
              "          docLink.innerHTML = docLinkHtml;\n",
              "          element.appendChild(docLink);\n",
              "        }\n",
              "      </script>\n",
              "    </div>\n",
              "  </div>\n",
              "  "
            ]
          },
          "metadata": {},
          "execution_count": 152
        }
      ]
    },
    {
      "cell_type": "code",
      "source": [
        ""
      ],
      "metadata": {
        "id": "ol7eYTEU6wPg"
      },
      "execution_count": null,
      "outputs": []
    },
    {
      "cell_type": "markdown",
      "source": [
        "### Remaining columns:"
      ],
      "metadata": {
        "id": "hUaOQOd3__w6"
      }
    },
    {
      "cell_type": "code",
      "source": [
        "VIF = pd.Series([variance_inflation_factor(vif_data.values,i) for i in range(vif_data.shape[1]) ],index = vif_data.columns)\n",
        "VIF,len(vif_data.columns)"
      ],
      "metadata": {
        "id": "J9JisrIYAFwq",
        "colab": {
          "base_uri": "https://localhost:8080/"
        },
        "outputId": "034548da-1006-48b1-d6fc-12898eafe821"
      },
      "execution_count": null,
      "outputs": [
        {
          "output_type": "execute_result",
          "data": {
            "text/plain": [
              "(ID                                           1.041871\n",
              " No of Bedrooms                               1.639157\n",
              " No of Bathrooms                              3.373813\n",
              " Lot Area (in Sqft)                           2.113231\n",
              " No of Floors                                 2.128119\n",
              " No_of_Times_Visited                          1.433836\n",
              " Overall Grade                                2.958225\n",
              " Area of the House from Basement (in Sqft)    4.580514\n",
              " Basement Area (in Sqft)                      1.975112\n",
              " Age of House (in Years)                      2.626592\n",
              " Renovated Year                               2.895674\n",
              " Latitude                                     2.471956\n",
              " Longitude                                    1.675633\n",
              " Living Area after Renovation (in Sqft)       3.063931\n",
              " Lot Area after Renovation (in Sqft)          2.153927\n",
              " Purchase Year                                1.006713\n",
              " Yr Since Renovation                          2.730472\n",
              " Condition_of_the_House_Excellent             1.209979\n",
              " Condition_of_the_House_Good                  1.252902\n",
              " Condition_of_the_House_Okay                  1.025497\n",
              " Waterfront_View_Yes                          1.208361\n",
              " Zipcode_Group_Zipcode_Group_1                1.539951\n",
              " Zipcode_Group_Zipcode_Group_2                2.570869\n",
              " Zipcode_Group_Zipcode_Group_3                2.818556\n",
              " Zipcode_Group_Zipcode_Group_4                3.196133\n",
              " Zipcode_Group_Zipcode_Group_5                1.734139\n",
              " Zipcode_Group_Zipcode_Group_6                2.014901\n",
              " Zipcode_Group_Zipcode_Group_7                1.233680\n",
              " Zipcode_Group_Zipcode_Group_8                1.389827\n",
              " Zipcode_Group_Zipcode_Group_9                1.048728\n",
              " dtype: float64, 30)"
            ]
          },
          "metadata": {},
          "execution_count": 153
        }
      ]
    },
    {
      "cell_type": "code",
      "source": [
        ""
      ],
      "metadata": {
        "id": "jF9TEwnCAGqX"
      },
      "execution_count": null,
      "outputs": []
    },
    {
      "cell_type": "code",
      "source": [
        ""
      ],
      "metadata": {
        "id": "A-q93bX3AGmc"
      },
      "execution_count": null,
      "outputs": []
    },
    {
      "cell_type": "markdown",
      "source": [
        "## Train - Test Split :"
      ],
      "metadata": {
        "id": "htbRMcp2BFQq"
      }
    },
    {
      "cell_type": "code",
      "source": [
        "# Train Test split : \n",
        "X = vif_data\n",
        "y=data['Sale_Price']"
      ],
      "metadata": {
        "id": "iJM04ZWkAGkJ"
      },
      "execution_count": null,
      "outputs": []
    },
    {
      "cell_type": "code",
      "source": [
        "from sklearn.model_selection import train_test_split\n",
        "x_train,x_test,y_train,y_test = train_test_split(X,Y,test_size = 0.3,random_state=101)\n",
        "\n",
        "x_train.shape,x_test.shape,y_train.shape,y_test.shape\n"
      ],
      "metadata": {
        "id": "MBw7KqgUAGf2",
        "colab": {
          "base_uri": "https://localhost:8080/"
        },
        "outputId": "b22d5a71-c9d9-4168-a91a-d63ec486e6ea"
      },
      "execution_count": null,
      "outputs": [
        {
          "output_type": "execute_result",
          "data": {
            "text/plain": [
              "((15126, 30), (6483, 30), (15126,), (6483,))"
            ]
          },
          "metadata": {},
          "execution_count": 155
        }
      ]
    },
    {
      "cell_type": "code",
      "source": [
        ""
      ],
      "metadata": {
        "id": "FaykXBbQAGdr"
      },
      "execution_count": null,
      "outputs": []
    },
    {
      "cell_type": "markdown",
      "source": [
        "## Implementing Linear Regression : "
      ],
      "metadata": {
        "id": "X83WO4PpDRh0"
      }
    },
    {
      "cell_type": "code",
      "source": [
        "from sklearn.linear_model import LinearRegression\n",
        "lr = LinearRegression(normalize = True)\n",
        "lr.fit(x_train,y_train)\n",
        "\n"
      ],
      "metadata": {
        "id": "x89lPU1-DRF4",
        "colab": {
          "base_uri": "https://localhost:8080/"
        },
        "outputId": "4482d302-dc2e-4d90-ae14-400920f62351"
      },
      "execution_count": null,
      "outputs": [
        {
          "output_type": "execute_result",
          "data": {
            "text/plain": [
              "LinearRegression(normalize=True)"
            ]
          },
          "metadata": {},
          "execution_count": 156
        }
      ]
    },
    {
      "cell_type": "code",
      "source": [
        "lr.coef_"
      ],
      "metadata": {
        "id": "40tBw1LSD2H5",
        "colab": {
          "base_uri": "https://localhost:8080/"
        },
        "outputId": "c9d6fc3f-2876-40f1-d350-6effab1c937d"
      },
      "execution_count": null,
      "outputs": [
        {
          "output_type": "execute_result",
          "data": {
            "text/plain": [
              "array([  -852.87585562,  -4006.53704033,  11945.92603668,  14759.5977738 ,\n",
              "         2890.67330217,  27062.1286431 ,  60326.64649425,  80743.25156997,\n",
              "        27762.34536492,  27813.3015249 ,  14830.38566289,  21724.5075828 ,\n",
              "       -23825.16397442,  18049.50637368,  -2828.0191691 , -11196.32814092,\n",
              "       -10017.19573202,  14858.66925994,   5341.22835771,  -2340.45335149,\n",
              "        10784.96813492,  11864.80713017,  33704.44311359,  63064.36972192,\n",
              "        81100.70394968,  50467.85863018,  73252.33005834,  40107.91402302,\n",
              "        67307.19676977,  22104.39838879])"
            ]
          },
          "metadata": {},
          "execution_count": 157
        }
      ]
    },
    {
      "cell_type": "code",
      "source": [
        "predictions = lr.predict(x_test)\n",
        "\n",
        "# Calculating R square value : \n",
        "lr.score(x_test,y_test)\n"
      ],
      "metadata": {
        "id": "jcx8skyMD2FB",
        "colab": {
          "base_uri": "https://localhost:8080/"
        },
        "outputId": "ec0c2644-4827-47b1-ed21-b0dedd0ca32a"
      },
      "execution_count": null,
      "outputs": [
        {
          "output_type": "execute_result",
          "data": {
            "text/plain": [
              "0.8479194871017108"
            ]
          },
          "metadata": {},
          "execution_count": 158
        }
      ]
    },
    {
      "cell_type": "code",
      "source": [
        ""
      ],
      "metadata": {
        "id": "mOGZpUYkHubZ"
      },
      "execution_count": null,
      "outputs": []
    },
    {
      "cell_type": "markdown",
      "source": [
        "## 1. Residuals :"
      ],
      "metadata": {
        "id": "Bmtz6CP1HuF2"
      }
    },
    {
      "cell_type": "code",
      "source": [
        "residuals = predictions - y_test\n",
        "\n",
        "residual_table = pd.DataFrame({'residuals':residuals,\n",
        "                    'predictions':predictions})\n",
        "residual_table = residual_table.sort_values( by = 'predictions')"
      ],
      "metadata": {
        "id": "V6i_BlqnHvno"
      },
      "execution_count": null,
      "outputs": []
    },
    {
      "cell_type": "code",
      "source": [
        "z = [i for i in range(int(residual_table['predictions'].max()))]\n",
        "k = [0 for i in range(int(residual_table['predictions'].max()))]"
      ],
      "metadata": {
        "id": "IvzFX44bHtyB"
      },
      "execution_count": null,
      "outputs": []
    },
    {
      "cell_type": "code",
      "source": [
        "plt.figure(dpi = 130, figsize = (17,7))\n",
        "\n",
        "plt.scatter( residual_table['predictions'], residual_table['residuals'], color = 'orange', s = 2)\n",
        "plt.plot(z, k, color = 'green', linewidth = 3, label = 'regression line')\n",
        "plt.ylim(-800000, 800000)\n",
        "plt.xlabel('fitted points (ordered by predictions)')\n",
        "plt.ylabel('residuals')\n",
        "plt.title('residual plot')\n",
        "plt.legend()\n",
        "plt.show()"
      ],
      "metadata": {
        "id": "owCg-c4tIA4L",
        "colab": {
          "base_uri": "https://localhost:8080/",
          "height": 716
        },
        "outputId": "d72f5337-a024-4a6e-f839-bf543082fc95"
      },
      "execution_count": null,
      "outputs": [
        {
          "output_type": "display_data",
          "data": {
            "text/plain": [
              "<Figure size 2210x910 with 1 Axes>"
            ],
            "image/png": "[encoded data removed]"
          },
          "metadata": {
            "needs_background": "light"
          }
        }
      ]
    },
    {
      "cell_type": "code",
      "source": [
        ""
      ],
      "metadata": {
        "id": "embfqCq0ITPC"
      },
      "execution_count": null,
      "outputs": []
    },
    {
      "cell_type": "markdown",
      "source": [
        "## 2. Distributon of Errors"
      ],
      "metadata": {
        "id": "9zomSQIjIYIB"
      }
    },
    {
      "cell_type": "code",
      "source": [
        ""
      ],
      "metadata": {
        "id": "Kh3e5VU-IXv1"
      },
      "execution_count": null,
      "outputs": []
    },
    {
      "cell_type": "code",
      "source": [
        "plt.figure(dpi = 100, figsize = (10,7))\n",
        "plt.hist(residual_table['residuals'], color = 'green', bins = 200)\n",
        "plt.xlabel('residuals')\n",
        "plt.ylabel('frequency')\n",
        "plt.title('distribution of residuals')\n",
        "plt.show()"
      ],
      "metadata": {
        "id": "ilrWtEfiITLw",
        "colab": {
          "base_uri": "https://localhost:8080/",
          "height": 631
        },
        "outputId": "243e3819-da2d-46cd-8c24-f6569207d6c6"
      },
      "execution_count": null,
      "outputs": [
        {
          "output_type": "display_data",
          "data": {
            "text/plain": [
              "<Figure size 1000x700 with 1 Axes>"
            ],
            "image/png": "[encoded data removed]"
          },
          "metadata": {
            "needs_background": "light"
          }
        }
      ]
    },
    {
      "cell_type": "code",
      "source": [
        ""
      ],
      "metadata": {
        "id": "Um8DsVVTITJk"
      },
      "execution_count": null,
      "outputs": []
    },
    {
      "cell_type": "code",
      "source": [
        ""
      ],
      "metadata": {
        "id": "tW71DWMPInqM"
      },
      "execution_count": null,
      "outputs": []
    },
    {
      "cell_type": "markdown",
      "source": [
        "## 3. Model Coefficients"
      ],
      "metadata": {
        "id": "rTbuNvdfInSZ"
      }
    },
    {
      "cell_type": "code",
      "source": [
        "coefficients_table = pd.DataFrame({'column': x_train.columns,\n",
        "                                  'coefficients': lr.coef_})\n",
        "coefficient_table = coefficients_table.sort_values(by = 'coefficients')\n"
      ],
      "metadata": {
        "id": "bndnmKz1Io8R"
      },
      "execution_count": null,
      "outputs": []
    },
    {
      "cell_type": "code",
      "source": [
        "plt.figure(figsize=(8, 6), dpi=120)\n",
        "x = coefficient_table['column']\n",
        "y = coefficient_table['coefficients']\n",
        "plt.barh( x, y)\n",
        "plt.xlabel( \"Coefficients\")\n",
        "plt.ylabel('Variables')\n",
        "plt.title('Normalized Coefficient plot')\n",
        "plt.show()"
      ],
      "metadata": {
        "id": "fQrPJxWiIo5V",
        "colab": {
          "base_uri": "https://localhost:8080/",
          "height": 663
        },
        "outputId": "43187d77-5fcd-4f39-bd76-39387119ff62"
      },
      "execution_count": null,
      "outputs": [
        {
          "output_type": "display_data",
          "data": {
            "text/plain": [
              "<Figure size 960x720 with 1 Axes>"
            ],
            "image/png": "[encoded data removed]"
          },
          "metadata": {
            "needs_background": "light"
          }
        }
      ]
    },
    {
      "cell_type": "code",
      "source": [
        ""
      ],
      "metadata": {
        "id": "HnI-WljDIow7"
      },
      "execution_count": null,
      "outputs": []
    }
  ],
  "metadata": {
    "colab": {
      "collapsed_sections": [],
      "name": "Project_I__Implementing_linear_regression_4_5_22.ipynb",
      "provenance": [],
      "mount_file_id": "1DPqXInvlGgJr0Z28pbbXjHV9VuqHy8Y8",
      "authorship_tag": "ABX9TyOY2l8BZZ4TFCw1kcG2oMXn",
      "include_colab_link": true
    },
    "kernelspec": {
      "display_name": "Python 3",
      "name": "python3"
    },
    "language_info": {
      "name": "python"
    }
  },
  "nbformat": 4,
  "nbformat_minor": 0
}